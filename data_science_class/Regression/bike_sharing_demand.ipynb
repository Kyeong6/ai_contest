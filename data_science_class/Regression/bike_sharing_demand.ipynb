{
 "cells": [
  {
   "cell_type": "code",
   "execution_count": null,
   "metadata": {
    "id": "r8-Vjr5cWIBt"
   },
   "outputs": [],
   "source": [
    "# This Python 3 environment comes with many helpful analytics libraries installed\n",
    "# It is defined by the kaggle/python Docker image: https://github.com/kaggle/docker-python\n",
    "# For example, here's several helpful packages to load\n",
    "\n",
    "import numpy as np # linear algebra\n",
    "import pandas as pd # data processing, CSV file I/O (e.g. pd.read_csv)\n",
    "\n",
    "# Input data files are available in the read-only \"../input/\" directory\n",
    "# For example, running this (by clicking run or pressing Shift+Enter) will list all files under the input directory\n",
    "\n",
    "import os\n",
    "#for dirname, _, filenames in os.walk('/kaggle/input'):\n",
    "#    for filename in filenames:\n",
    "#        print(os.path.join(dirname, filename))\n",
    "\n",
    "# You can write up to 20GB to the current directory (/kaggle/working/) that gets preserved as output when you create a version using \"Save & Run All\"\n",
    "# You can also write temporary files to /kaggle/temp/, but they won't be saved outside of the current session"
   ]
  },
  {
   "cell_type": "code",
   "execution_count": null,
   "metadata": {
    "id": "fSBkKfLdWH_s"
   },
   "outputs": [],
   "source": [
    "\n",
    "## 데이터 둘러보기\n",
    "data_path = '/content/drive/MyDrive/'\n",
    "\n",
    "train = pd.read_csv(data_path + 'train.csv')\n",
    "test = pd.read_csv(data_path + 'test.csv')\n",
    "submission = pd.read_csv(data_path + 'sampleSubmission.csv')\n",
    "\n",
    "### 데이터 합치기\n",
    "all_data_temp = pd.concat([train, test], ignore_index=True)\n",
    "print(all_data_temp)"
   ]
  },
  {
   "cell_type": "code",
   "execution_count": null,
   "metadata": {
    "id": "D70adTm_WH-Q"
   },
   "outputs": [],
   "source": [
    "### 필요 없는 피처 제거\n",
    "### casual + registered = count\n",
    "### count : target\n",
    "drop_features = ['casual','registered', 'count']\n",
    "\n",
    "all_data = all_data_temp.drop(drop_features, axis=1)\n",
    "\n",
    "all_data"
   ]
  },
  {
   "cell_type": "code",
   "execution_count": null,
   "metadata": {
    "id": "zz6YNm7aWH7l"
   },
   "outputs": [],
   "source": [
    "all_data.info()"
   ]
  },
  {
   "cell_type": "code",
   "execution_count": null,
   "metadata": {
    "id": "ZJBYJyBLWH5x"
   },
   "outputs": [],
   "source": [
    "# 문자열의 배열을 판다스 Timestamp로 변환\n",
    "dates = all_data['datetime']\n",
    "print(dates)\n",
    "print('\\n')\n",
    "\n",
    "ts_dates = pd.to_datetime(dates)\n",
    "print(ts_dates)\n"
   ]
  },
  {
   "cell_type": "code",
   "execution_count": null,
   "metadata": {
    "id": "dTEv5peGWH3j"
   },
   "outputs": [],
   "source": [
    "all_data['new_Date'] = pd.to_datetime(all_data['datetime'])\n",
    "all_data['new_Year'] = all_data['new_Date'].dt.year\n",
    "all_data['new_Month'] = all_data['new_Date'].dt.month\n",
    "all_data['new_Day'] = all_data['new_Date'].dt.day\n",
    "\n",
    "all_data['new_Hour'] = all_data['new_Date'].dt.hour\n",
    "all_data['new_Minute'] = all_data['new_Date'].dt.minute\n",
    "all_data['new_Second'] = all_data['new_Date'].dt.second\n",
    "\n",
    "\n",
    "print(all_data.head())\n",
    "print('\\n')\n",
    "\n",
    "print(all_data.info())\n",
    "print('\\n')\n"
   ]
  },
  {
   "cell_type": "code",
   "execution_count": null,
   "metadata": {
    "id": "If9mlz1aWH1b"
   },
   "outputs": [],
   "source": [
    "## 데이터 시각화\n",
    "import seaborn as sns\n",
    "import matplotlib as mpl\n",
    "import matplotlib.pyplot as plt\n",
    "%matplotlib inline\n",
    "#추가하면 matplotlib이 그린 그래프를 주피터 노트북에서 바로 출력"
   ]
  },
  {
   "cell_type": "code",
   "execution_count": null,
   "metadata": {
    "id": "2mT3EFxJWHzX"
   },
   "outputs": [],
   "source": [
    "### 분포도\n",
    "# Step 1\n",
    "### Target 값인 count 칼럼 정균 분포 이루는지 확인\n",
    "### 왜곡 존재, 로그를 적용해서 변환 필요\n",
    "mpl.rc('font', size=15)\n",
    "\n",
    "sns.displot(train['count']);\n"
   ]
  },
  {
   "cell_type": "code",
   "execution_count": null,
   "metadata": {
    "id": "21jRQYxkWHxY"
   },
   "outputs": [],
   "source": [
    "### 왜곡된 값을 정규 분포 형태로 바꿈\n",
    "sns.displot(np.log(train['count']))"
   ]
  },
  {
   "cell_type": "code",
   "execution_count": null,
   "metadata": {
    "id": "59nDxslNWHve"
   },
   "outputs": [],
   "source": [
    "### 막대 그래프\n",
    "# Step 1\n",
    "mpl.rc('font', size=10)\n",
    "mpl.rc('axes', titlesize=15)\n",
    "figure, axes = plt.subplots(nrows=3, ncols=2)\n",
    "plt.tight_layout()\n",
    "figure.set_size_inches(12,10)\n",
    "\n",
    "#axes\n",
    "\n",
    "# Step 2\n",
    "sns.barplot(x='new_Year', y=train['count'], data=all_data, ax=axes[0,0])\n",
    "sns.barplot(x='new_Month', y=train['count'], data=all_data, ax=axes[0,1])\n",
    "sns.barplot(x='new_Day', y=train['count'], data=all_data, ax=axes[1,0])\n",
    "sns.barplot(x='new_Hour', y=train['count'], data=all_data, ax=axes[1,1])\n",
    "sns.barplot(x='new_Minute', y=train['count'], data=all_data, ax=axes[2,0])\n",
    "sns.barplot(x='new_Second', y=train['count'], data=all_data, ax=axes[2,1])\n",
    "\n",
    "# Step 3\n",
    "axes[0,0].set(title='Rental amounts by year')\n",
    "axes[0,1].set(title='Rental amounts by month')\n",
    "axes[1,0].set(title='Rental amounts by day')\n",
    "axes[1,1].set(title='Rental amounts by hour')\n",
    "axes[2,0].set(title='Rental amounts by minute')\n",
    "axes[2,1].set(title='Rental amounts by second')\n",
    "\n",
    "axes[1,0].tick_params(axis='x', labelrotation=0)\n",
    "axes[1,1].tick_params(axis='x', labelrotation=0)"
   ]
  },
  {
   "cell_type": "code",
   "execution_count": null,
   "metadata": {
    "id": "LvT2HJMdWHtV"
   },
   "outputs": [],
   "source": [
    "all_data['season'] = all_data['season'].map({1: 'Spring',\n",
    "                                      2: 'Summer',\n",
    "                                      3: 'Fall',\n",
    "                                      4: 'Winter'})\n",
    "\n",
    "all_data['weather'] = all_data['weather'].map({1: 'Clear',\n",
    "                                      2: 'Mist, Few clouds',\n",
    "                                      3: 'Light Snow, Rain',\n",
    "                                      4: 'Heavy Rain, Thunderstorm, Snow, Fog'})\n",
    "\n",
    "print(all_data.head())\n",
    "print('\\n')"
   ]
  },
  {
   "cell_type": "code",
   "execution_count": null,
   "metadata": {
    "id": "O8o04YNRWU3N"
   },
   "outputs": [],
   "source": [
    "### 포인트 플롯\n",
    "# Step 1\n",
    "mpl.rc('font', size=11)\n",
    "figure, axes = plt.subplots(nrows=4)\n",
    "figure.set_size_inches(12,18)\n",
    "\n",
    "# Step 2\n",
    "### 평일, 주말, 계절, 날씨에 따른 target값 표현\n",
    "sns.pointplot(x='new_Hour', y=train['count'], data=all_data, hue='workingday', ax=axes[0])\n",
    "sns.pointplot(x='new_Hour', y=train['count'], data=all_data, hue='holiday', ax=axes[1])\n",
    "#sns.pointplot(x='new_Hour', y='count', data=train, hue='weekday', ax=axes[2])\n",
    "sns.pointplot(x='new_Hour', y=train['count'], data=all_data, hue='season', ax=axes[2])\n",
    "sns.pointplot(x='new_Hour', y=train['count'], data=all_data, hue='weather', ax=axes[3])"
   ]
  },
  {
   "cell_type": "code",
   "execution_count": null,
   "metadata": {
    "id": "4t9CfiRZWU00"
   },
   "outputs": [],
   "source": [
    "train[['temp', 'atemp', 'humidity', 'windspeed', 'count']].corr()\n",
    "\n",
    "\n",
    "#corrMat = all_data[['temp', 'atemp', 'humidity', 'windspeed', train['count']].corr()\n",
    "\n",
    "#fig, ax = plt.subplots()\n",
    "#fig.set_size_inches(10, 10)\n",
    "\n",
    "#sns.heatmap(corrMat, annot=True)\n",
    "\n",
    "#ax.set(title='Heatmap of Numerical Data');"
   ]
  },
  {
   "cell_type": "code",
   "execution_count": null,
   "metadata": {
    "id": "BXJoR36JWUyh"
   },
   "outputs": [],
   "source": [
    "### 피처 엔지니어링\n",
    "# 이상치 제거\n",
    "all_data = all_data[all_data['weather'] != 4]\n",
    "\n",
    "#\n",
    "print(train.shape, test.shape)\n",
    "print('\\n')\n",
    "\n",
    "### 데이터 합치기\n",
    "#all_data_temp = pd.concat([train, test], ignore_index=True)\n",
    "print(all_data)\n",
    "\n",
    "#\n",
    "all_data['season'] = all_data['season'].map({'Spring': 1,\n",
    "                                      'Summer': 2,\n",
    "                                      'Fall': 3,\n",
    "                                      'Winter': 4})\n",
    "\n",
    "all_data['weather'] = all_data['weather'].map({'Clear': 1,\n",
    "                                      'Mist, Few clouds': 2,\n",
    "                                      'Light Snow, Rain': 3,\n",
    "                                      'Heavy Rain, Thunderstorm, Snow, Fog': 4})"
   ]
  },
  {
   "cell_type": "code",
   "execution_count": null,
   "metadata": {
    "id": "gzTnJTFdWUwZ"
   },
   "outputs": [],
   "source": [
    "### 필요 없는 피처 제거\n",
    "drop_features = ['datetime','new_Date','windspeed','new_Day','new_Minute','new_Second']\n",
    "\n",
    "all_data = all_data.drop(drop_features, axis=1)\n",
    "\n",
    "all_data"
   ]
  },
  {
   "cell_type": "code",
   "execution_count": null,
   "metadata": {
    "id": "YCfmCn4fWUuY"
   },
   "outputs": [],
   "source": [
    "### 인코딩\n",
    "from sklearn.preprocessing import OneHotEncoder\n",
    "\n",
    "onehot_encoder = OneHotEncoder()\n",
    "\n",
    "onehot_features = ['season', 'weather', 'new_Year', 'new_Month', 'new_Hour']\n",
    "\n",
    "encoded_features_matrix = onehot_encoder.fit_transform(all_data[onehot_features])\n",
    "\n",
    "encoded_features_matrix\n"
   ]
  },
  {
   "cell_type": "code",
   "execution_count": null,
   "metadata": {
    "id": "VTlSJYZNWUsY"
   },
   "outputs": [],
   "source": [
    "### 정규화\n",
    "from sklearn.preprocessing import MinMaxScaler\n",
    "\n",
    "normalized_features = ['temp', 'atemp', 'humidity']\n",
    "\n",
    "minmax_matrix = MinMaxScaler().fit_transform(all_data[normalized_features])\n",
    "\n",
    "minmax_matrix"
   ]
  },
  {
   "cell_type": "code",
   "execution_count": null,
   "metadata": {
    "id": "zX8qtab2WUqC"
   },
   "outputs": [],
   "source": [
    "from scipy import sparse\n",
    "\n",
    "#all_data_sprs = sparse.hstack([sparse.csr_matrix(all_data), encoded_features_matrix], format='csr')\n",
    "\n",
    "all_data_sprs = sparse.hstack([encoded_features_matrix, minmax_matrix], format='csr')\n",
    "\n",
    "\n",
    "all_data_sprs\n"
   ]
  },
  {
   "cell_type": "code",
   "execution_count": null,
   "metadata": {
    "id": "s1Phd07JWUoN"
   },
   "outputs": [],
   "source": [
    "#　데이터 나누기\n",
    "num_train = len(train)\n",
    "\n",
    "X_train = all_data_sprs[:num_train]\n",
    "X_test = all_data_sprs[num_train:]\n",
    "\n",
    "# 타깃값 count 제거\n",
    "#X_train = X_train.drop(['count'], axis=1)\n",
    "#X_test = X_test.drop(['count'], axis=1)\n",
    "\n",
    "y = train['count']\n",
    "\n",
    "print(X_train.shape, y.shape)\n"
   ]
  },
  {
   "cell_type": "code",
   "execution_count": null,
   "metadata": {
    "id": "jhTFld2cWUlz"
   },
   "outputs": [],
   "source": [
    "## 평가지표 계산 함수\n",
    "## 값이 작을수록 회귀 성능 Good\n",
    "import numpy as np\n",
    "\n",
    "def rmsle(y_true, y_pred, convertExp=True):\n",
    "    if convertExp:\n",
    "        y_true = np.exp(y_true)\n",
    "        y_pred = np.exp(y_pred)\n",
    "\n",
    "    log_true = np.nan_to_num(np.log(y_true+1))\n",
    "    log_pred = np.nan_to_num(np.log(y_pred+1))\n",
    "\n",
    "    output = np.sqrt(np.mean((log_true - log_pred)**2))\n",
    "\n",
    "    return output"
   ]
  },
  {
   "cell_type": "code",
   "execution_count": null,
   "metadata": {
    "id": "1wxfutRRWUjq"
   },
   "outputs": [],
   "source": [
    "# ## 베이스라인 모델 훈련\n",
    "# from sklearn.linear_model import LinearRegression\n",
    "\n",
    "# linear_reg_model = LinearRegression()\n",
    "\n",
    "# log_y = np.log(y)\n",
    "\n",
    "# linear_reg_model.fit(X_train, log_y)\n",
    "\n",
    "# ## 모델 성능 검증\n",
    "# preds = linear_reg_model.predict(X_train)\n",
    "\n",
    "# print(f'선형 회귀의 RMSLE 값 : {rmsle(log_y, preds, True): .4f}')\n"
   ]
  },
  {
   "cell_type": "code",
   "execution_count": null,
   "metadata": {
    "id": "3lFH42qyWUhb"
   },
   "outputs": [],
   "source": [
    "# ## 성능 개선 1 : 릿지 회귀 모델\n",
    "# ### 모델 생성\n",
    "# from sklearn.linear_model import Ridge\n",
    "# from sklearn.model_selection import GridSearchCV\n",
    "# from sklearn import metrics\n",
    "\n",
    "# ridge_model = Ridge()\n",
    "\n",
    "# ### 그리드서치 객체 생성\n",
    "# # 하이퍼파라미터 값 목록\n",
    "# ridge_params ={'max_iter':[3000], 'alpha':[0.01, 0.1,1,2,3,4,10,30,100,200,300,400,800,900,1000]}\n",
    "\n",
    "# # 교차 검증용 평가 함수 (RMSLE 점수 계산)\n",
    "# rmsle_scorer = metrics.make_scorer(rmsle, greater_is_better=False)\n",
    "\n",
    "# # 그리드서치 객체 생성\n",
    "# gridsearch_ridge_model = GridSearchCV(estimator=ridge_model,\n",
    "#                                      param_grid=ridge_params,\n",
    "#                                      scoring=rmsle_scorer,\n",
    "#                                      cv=5)\n",
    "\n",
    "# ### 그리드서치 수행\n",
    "# log_y = np.log(y)\n",
    "# gridsearch_ridge_model.fit(X_train, log_y)\n",
    "\n",
    "# print('최적 하이퍼파라미터 :', gridsearch_ridge_model.best_params_)"
   ]
  },
  {
   "cell_type": "code",
   "execution_count": null,
   "metadata": {
    "id": "UFAuBqznWUfe"
   },
   "outputs": [],
   "source": [
    "# ## 성능 검증\n",
    "# preds = gridsearch_ridge_model.best_estimator_.predict(X_train)\n",
    "\n",
    "# print(f'릿지 회귀의 RMSLE 값: {rmsle(log_y, preds, True): .4f}')"
   ]
  },
  {
   "cell_type": "code",
   "execution_count": null,
   "metadata": {
    "id": "7yIR-6AbWUdK"
   },
   "outputs": [],
   "source": [
    "# ## 성능 개선 2 : 라쏘 회귀 모델\n",
    "# ### 모델 생성\n",
    "# from sklearn.linear_model import Lasso\n",
    "# from sklearn.model_selection import GridSearchCV\n",
    "# from sklearn import metrics\n",
    "\n",
    "# lasso_model = Lasso()\n",
    "\n",
    "# ### 그리드서치 객체 생성\n",
    "# # 하이퍼파라미터 값 목록\n",
    "# lasso_alpha = 1/np.array([0.1,1,2,3,4,10,30,100,200,300,400,800,900,1000])\n",
    "# lasso_params = {'max_iter':[3000], 'alpha': lasso_alpha}\n",
    "\n",
    "# # 교차 검증용 평가 함수 (RMSLE 점수 계산)\n",
    "# rmsle_scorer = metrics.make_scorer(rmsle, greater_is_better=False)\n",
    "\n",
    "# # 그리드서치 객체 생성\n",
    "# gridsearch_lasso_model = GridSearchCV(estimator=lasso_model,\n",
    "#                                      param_grid=lasso_params,\n",
    "#                                      scoring=rmsle_scorer,\n",
    "#                                      cv=5)\n",
    "\n",
    "# ### 그리드서치 수행\n",
    "# log_y = np.log(y)\n",
    "# gridsearch_lasso_model.fit(X_train, log_y)\n",
    "\n",
    "# print('최적 하이퍼파라미터 :', gridsearch_lasso_model.best_params_)"
   ]
  },
  {
   "cell_type": "code",
   "execution_count": null,
   "metadata": {
    "id": "qHIjccpgWUbP"
   },
   "outputs": [],
   "source": [
    "# ## 성능 검증\n",
    "# preds = gridsearch_lasso_model.best_estimator_.predict(X_train)\n",
    "\n",
    "# print(f'라쏘 회귀의 RMSLE 값: {rmsle(log_y, preds, True): .4f}')"
   ]
  },
  {
   "cell_type": "markdown",
   "metadata": {
    "id": "5TBux1m_osxO"
   },
   "source": [
    "## Start"
   ]
  },
  {
   "cell_type": "code",
   "execution_count": null,
   "metadata": {
    "id": "z1X24aqrWUZq"
   },
   "outputs": [],
   "source": [
    "## 피처 엔지니어링\n",
    "print(train['datetime'])\n",
    "print('\\n')\n",
    "print(train['datetime'][10881])\n",
    "print('\\n')\n",
    "print(train['datetime'][10881].split())\n",
    "print('\\n')\n",
    "\n",
    "print(train['datetime'][10881].split()[0])\n",
    "print(train['datetime'][10881].split()[1])"
   ]
  },
  {
   "cell_type": "code",
   "execution_count": null,
   "metadata": {
    "id": "rUOfvMWCWUXE"
   },
   "outputs": [],
   "source": [
    "print(train['datetime'][10881].split()[0])\n",
    "\n",
    "print(train['datetime'][10881].split()[0].split(\"-\"))\n",
    "\n",
    "print(train['datetime'][10881].split()[0].split(\"-\")[0])\n",
    "print(train['datetime'][10881].split()[0].split(\"-\")[1])\n",
    "print(train['datetime'][10881].split()[0].split(\"-\")[2])"
   ]
  },
  {
   "cell_type": "code",
   "execution_count": null,
   "metadata": {
    "id": "OPheva5OWmgL"
   },
   "outputs": [],
   "source": [
    "print(train['datetime'][10881].split()[1])\n",
    "\n",
    "print(train['datetime'][10881].split()[1].split(\":\"))\n",
    "\n",
    "print(train['datetime'][10881].split()[1].split(\":\")[0])\n",
    "print(train['datetime'][10881].split()[1].split(\":\")[1])\n",
    "print(train['datetime'][10881].split()[1].split(\":\")[2])"
   ]
  },
  {
   "cell_type": "code",
   "execution_count": null,
   "metadata": {
    "id": "Zc9wNC1MWmeY"
   },
   "outputs": [],
   "source": [
    "train['date'] = train['datetime'].apply(lambda x: x.split()[0])\n",
    "\n",
    "train['year'] = train['datetime'].apply(lambda x: x.split()[0].split('-')[0])\n",
    "train['month'] = train['datetime'].apply(lambda x: x.split()[0].split('-')[1])\n",
    "train['day'] = train['datetime'].apply(lambda x: x.split()[0].split('-')[2])\n",
    "\n",
    "train['hour'] = train['datetime'].apply(lambda x: x.split()[1].split(':')[0])\n",
    "train['minute'] = train['datetime'].apply(lambda x: x.split()[1].split(':')[1])\n",
    "train['second'] = train['datetime'].apply(lambda x: x.split()[1].split(':')[2])"
   ]
  },
  {
   "cell_type": "code",
   "execution_count": null,
   "metadata": {
    "id": "KO4710vwWmcl"
   },
   "outputs": [],
   "source": [
    "from datetime import datetime\n",
    "import calendar\n",
    "\n",
    "print(train['date'][10881])\n",
    "print(datetime.strptime(train['date'][10881],'%Y-%m-%d'))\n",
    "print(datetime.strptime(train['date'][10881],'%Y-%m-%d').weekday())\n",
    "\n",
    "print(calendar.day_name[datetime.strptime(train['date'][10881],'%Y-%m-%d').weekday()])"
   ]
  },
  {
   "cell_type": "code",
   "execution_count": null,
   "metadata": {
    "id": "bzUIXMJiWmau"
   },
   "outputs": [],
   "source": [
    "train['weekday'] = train['date'].apply(lambda dateString: calendar.day_name[datetime.strptime(dateString, \"%Y-%m-%d\").weekday()])"
   ]
  },
  {
   "cell_type": "code",
   "execution_count": null,
   "metadata": {
    "id": "ABLdKpvdWmXx"
   },
   "outputs": [],
   "source": [
    "train['season'] = train['season'].map({1: 'Spring',\n",
    "                                      2: 'Summer',\n",
    "                                      3: 'Fall',\n",
    "                                      4: 'Winter'})\n",
    "\n",
    "train['weather'] = train['weather'].map({1: 'Clear',\n",
    "                                      2: 'Mist, Few clouds',\n",
    "                                      3: 'Light Snow, Rain',\n",
    "                                      4: 'Heavy Rain, Thunderstorm, Snow, Fog'})"
   ]
  },
  {
   "cell_type": "code",
   "execution_count": null,
   "metadata": {
    "id": "tH2f6I-uWmVI"
   },
   "outputs": [],
   "source": [
    "train.info()"
   ]
  },
  {
   "cell_type": "code",
   "execution_count": null,
   "metadata": {
    "id": "4JVt_xgAWmSy"
   },
   "outputs": [],
   "source": [
    "## 데이터 시각화\n",
    "import seaborn as sns\n",
    "import matplotlib as mpl\n",
    "import matplotlib.pyplot as plt\n",
    "%matplotlib inline\n",
    "#추가하면 matplotlib이 그린 그래프를 주피터 노트북에서 바로 출력"
   ]
  },
  {
   "cell_type": "code",
   "execution_count": null,
   "metadata": {
    "id": "o-4HRNtFWmQi"
   },
   "outputs": [],
   "source": [
    "### 분포도\n",
    "mpl.rc('font', size=15)\n",
    "\n",
    "sns.displot(train['count']);"
   ]
  },
  {
   "cell_type": "code",
   "execution_count": null,
   "metadata": {
    "id": "GoyrDQwsWmOQ"
   },
   "outputs": [],
   "source": [
    "sns.displot(np.log(train['count']));"
   ]
  },
  {
   "cell_type": "code",
   "execution_count": null,
   "metadata": {
    "id": "Xth0GriwWmKp"
   },
   "outputs": [],
   "source": [
    "### 막대 그래프\n",
    "# Step 1\n",
    "mpl.rc('font', size=10)\n",
    "mpl.rc('axes', titlesize=15)\n",
    "figure, axes = plt.subplots(nrows=3, ncols=2)\n",
    "plt.tight_layout()\n",
    "figure.set_size_inches(12,10)\n",
    "\n",
    "#axes\n",
    "\n",
    "# Step 2\n",
    "sns.barplot(x='year', y='count', data=train, ax=axes[0,0])\n",
    "sns.barplot(x='month', y='count', data=train, ax=axes[0,1])\n",
    "sns.barplot(x='day', y='count', data=train, ax=axes[1,0])\n",
    "sns.barplot(x='hour', y='count', data=train, ax=axes[1,1])\n",
    "sns.barplot(x='minute', y='count', data=train, ax=axes[2,0])\n",
    "sns.barplot(x='second', y='count', data=train, ax=axes[2,1])\n",
    "\n",
    "# Step 3\n",
    "axes[0,0].set(title='Rental amounts by year')\n",
    "axes[0,1].set(title='Rental amounts by month')\n",
    "axes[1,0].set(title='Rental amounts by day')\n",
    "axes[1,1].set(title='Rental amounts by hour')\n",
    "axes[2,0].set(title='Rental amounts by minute')\n",
    "axes[2,1].set(title='Rental amounts by second')\n",
    "\n",
    "axes[1,0].tick_params(axis='x', labelrotation=0)\n",
    "axes[1,1].tick_params(axis='x', labelrotation=0)"
   ]
  },
  {
   "cell_type": "code",
   "execution_count": null,
   "metadata": {
    "id": "HDOAk7NZWmIx"
   },
   "outputs": [],
   "source": [
    "### 박스 플롯\n",
    "# Step 1\n",
    "mpl.rc('font', size=12)\n",
    "figure, axes = plt.subplots(nrows=2, ncols=2)\n",
    "plt.tight_layout()\n",
    "figure.set_size_inches(15,10)\n",
    "\n",
    "# Step 2\n",
    "sns.boxplot(x='season', y='count', data=train, ax=axes[0,0])\n",
    "sns.boxplot(x='weather', y='count', data=train, ax=axes[0,1])\n",
    "sns.boxplot(x='holiday', y='count', data=train, ax=axes[1,0])\n",
    "sns.boxplot(x='workingday', y='count', data=train, ax=axes[1,1])\n",
    "\n",
    "# Step 3\n",
    "axes[0,0].set(title='Box Plot On Count Across Season')\n",
    "axes[0,1].set(title='Box Plot On Count Across Weather')\n",
    "axes[1,0].set(title='Box Plot On Count Across Holiday')\n",
    "axes[1,1].set(title='Box Plot On Count Across Working Day')\n",
    "\n",
    "axes[0,1].tick_params(axis='x', labelrotation=10)"
   ]
  },
  {
   "cell_type": "code",
   "execution_count": null,
   "metadata": {
    "id": "Q4Du8IK_WmFk"
   },
   "outputs": [],
   "source": [
    "### 포인트 플롯\n",
    "# Step 1\n",
    "mpl.rc('font', size=11)\n",
    "figure, axes = plt.subplots(nrows=5)\n",
    "figure.set_size_inches(12,18)\n",
    "\n",
    "# Step 2\n",
    "sns.pointplot(x='hour', y='count', data=train, hue='workingday', ax=axes[0])\n",
    "sns.pointplot(x='hour', y='count', data=train, hue='holiday', ax=axes[1])\n",
    "sns.pointplot(x='hour', y='count', data=train, hue='weekday', ax=axes[2])\n",
    "sns.pointplot(x='hour', y='count', data=train, hue='season', ax=axes[3])\n",
    "sns.pointplot(x='hour', y='count', data=train, hue='weather', ax=axes[4])"
   ]
  },
  {
   "cell_type": "code",
   "execution_count": null,
   "metadata": {
    "id": "Jv9oOxLaWmCn"
   },
   "outputs": [],
   "source": [
    "### 회귀선을 포함한 산점도 그래프\n",
    "# Step 1\n",
    "mpl.rc('font', size=15)\n",
    "figure, axes = plt.subplots(nrows=2, ncols=2)\n",
    "plt.tight_layout()\n",
    "figure.set_size_inches(7,6)\n",
    "\n",
    "# Step 2\n",
    "sns.regplot(x='temp', y='count', data=train, ax=axes[0,0], scatter_kws={'alpha':0.2}, line_kws={'color': 'blue'})\n",
    "sns.regplot(x='atemp', y='count', data=train, ax=axes[0,1], scatter_kws={'alpha':0.2}, line_kws={'color': 'blue'})\n",
    "sns.regplot(x='windspeed', y='count', data=train, ax=axes[1,0], scatter_kws={'alpha':0.2}, line_kws={'color': 'blue'})\n",
    "sns.regplot(x='humidity', y='count', data=train, ax=axes[1,1], scatter_kws={'alpha':0.2}, line_kws={'color': 'blue'})"
   ]
  },
  {
   "cell_type": "code",
   "execution_count": null,
   "metadata": {
    "id": "X32M5xdkWmAa"
   },
   "outputs": [],
   "source": [
    "### 히트맵\n",
    "train[['temp','atemp','humidity','windspeed','count']].corr()"
   ]
  },
  {
   "cell_type": "code",
   "execution_count": null,
   "metadata": {
    "id": "CfmpvpLgWl9f"
   },
   "outputs": [],
   "source": [
    "corrMat = train[['temp','atemp','humidity','windspeed','count']].corr()\n",
    "\n",
    "fig, ax = plt.subplots()\n",
    "fig.set_size_inches(10, 10)\n",
    "\n",
    "sns.heatmap(corrMat, annot=True)\n",
    "\n",
    "ax.set(title='Heatmap of Numerical Data');"
   ]
  },
  {
   "cell_type": "markdown",
   "metadata": {
    "id": "ILWCzevNKy5u"
   },
   "source": [
    "## Start"
   ]
  },
  {
   "cell_type": "code",
   "execution_count": null,
   "metadata": {
    "id": "TeTFkxjsWl7Q"
   },
   "outputs": [],
   "source": [
    "## 베이스라인 모델\n",
    "import pandas as pd\n",
    "import numpy as np\n",
    "from tqdm import tqdm\n",
    "\n",
    "### 데이터 불러오기\n",
    "data_path = '/content/drive/MyDrive/'\n",
    "\n",
    "train = pd.read_csv(data_path + 'train.csv')\n",
    "test = pd.read_csv(data_path + 'test.csv')\n",
    "submission = pd.read_csv(data_path + 'sampleSubmission.csv')\n",
    "\n",
    "### 피처 엔지니어링\n",
    "# 이상치 제거\n",
    "train = train[train['weather'] != 4]"
   ]
  },
  {
   "cell_type": "code",
   "execution_count": null,
   "metadata": {
    "id": "BFDe-OjFWl5K"
   },
   "outputs": [],
   "source": [
    "### 데이터 합치기\n",
    "all_data_temp = pd.concat([train, test])\n",
    "all_data_temp"
   ]
  },
  {
   "cell_type": "code",
   "execution_count": null,
   "metadata": {
    "id": "TW4jHx1WWl2i"
   },
   "outputs": [],
   "source": [
    "all_data = pd.concat([train, test], ignore_index=True)\n",
    "all_data"
   ]
  },
  {
   "cell_type": "code",
   "execution_count": null,
   "metadata": {
    "id": "rNbhnIiaWl0T"
   },
   "outputs": [],
   "source": [
    "### 파생 피처 추가\n",
    "from datetime import datetime\n",
    "\n",
    "all_data['date'] = all_data['datetime'].apply(lambda x: x.split()[0])\n",
    "\n",
    "all_data['year'] = all_data['datetime'].apply(lambda x: x.split()[0].split('-')[0])\n",
    "\n",
    "all_data['month'] = all_data['datetime'].apply(lambda x: x.split()[0].split('-')[1])\n",
    "\n",
    "all_data['day'] = all_data['datetime'].apply(lambda x: x.split()[0].split('-')[2])\n",
    "\n",
    "all_data['weekday'] = all_data['date'].apply(lambda dateString : datetime.strptime(dateString, \"%Y-%m-%d\").weekday())\n",
    "\n",
    "all_data['hour'] = all_data['datetime'].apply(lambda x: x.split()[1].split(':')[0])\n",
    "\n",
    "\n",
    "all_data"
   ]
  },
  {
   "cell_type": "code",
   "execution_count": null,
   "metadata": {
    "id": "A82aS2wDWlyD"
   },
   "outputs": [],
   "source": [
    "### 필요 없는 피처 제거\n",
    "drop_features = ['casual','registered','datetime','date','windspeed','month']\n",
    "\n",
    "all_data = all_data.drop(drop_features, axis=1)\n",
    "\n",
    "all_data"
   ]
  },
  {
   "cell_type": "code",
   "execution_count": null,
   "metadata": {
    "id": "mrWKTLD4Wlvb"
   },
   "outputs": [],
   "source": [
    "## 데이터 나누기\n",
    "X_train = all_data[~pd.isnull(all_data['count'])]\n",
    "X_test = all_data[pd.isnull(all_data['count'])]\n",
    "\n",
    "X_train"
   ]
  },
  {
   "cell_type": "code",
   "execution_count": null,
   "metadata": {
    "id": "qBgBXgN-XGjV"
   },
   "outputs": [],
   "source": [
    "# 타깃값 count 제거\n",
    "X_train = X_train.drop(['count'], axis=1)\n",
    "X_test = X_test.drop(['count'], axis=1)\n",
    "\n",
    "y = train['count']"
   ]
  },
  {
   "cell_type": "code",
   "execution_count": null,
   "metadata": {
    "id": "oR3mGWjqXGgq"
   },
   "outputs": [],
   "source": [
    "X_train.head()"
   ]
  },
  {
   "cell_type": "code",
   "execution_count": null,
   "metadata": {
    "id": "ONDy5qJorx26"
   },
   "outputs": [],
   "source": [
    "X_train.info()"
   ]
  },
  {
   "cell_type": "code",
   "execution_count": null,
   "metadata": {
    "id": "Th3GLNUrXGeu"
   },
   "outputs": [],
   "source": [
    "## 평가지표 계산 함수\n",
    "import numpy as np\n",
    "\n",
    "def rmsle(y_true, y_pred, convertExp=True):\n",
    "    if convertExp:\n",
    "        y_true = np.exp(y_true)\n",
    "        y_pred = np.exp(y_pred)\n",
    "\n",
    "    log_true = np.nan_to_num(np.log(y_true+1))\n",
    "    log_pred = np.nan_to_num(np.log(y_pred+1))\n",
    "\n",
    "    output = np.sqrt(np.mean((log_true - log_pred)**2))\n",
    "\n",
    "    return output"
   ]
  },
  {
   "cell_type": "code",
   "execution_count": null,
   "metadata": {
    "id": "bs8mZabmXGcp"
   },
   "outputs": [],
   "source": [
    "## 모델 훈련\n",
    "from sklearn.linear_model import LinearRegression\n",
    "\n",
    "linear_reg_model = LinearRegression()\n",
    "\n",
    "log_y = np.log(y)\n",
    "\n",
    "linear_reg_model.fit(X_train, log_y)"
   ]
  },
  {
   "cell_type": "code",
   "execution_count": null,
   "metadata": {
    "id": "OiF4wNUMXGaY"
   },
   "outputs": [],
   "source": [
    "## 모델 성능 검증\n",
    "preds = linear_reg_model.predict(X_train)"
   ]
  },
  {
   "cell_type": "code",
   "execution_count": null,
   "metadata": {
    "id": "7rcdtMIMXGYe"
   },
   "outputs": [],
   "source": [
    "print(f'선형 회귀의 RMSLE 값: {rmsle(log_y, preds, True): .4f}')"
   ]
  },
  {
   "cell_type": "code",
   "execution_count": null,
   "metadata": {
    "id": "E2Rk4UB1XGV6"
   },
   "outputs": [],
   "source": [
    "## 예측 및 결과제출\n",
    "linearreg_preds = linear_reg_model.predict(X_test)\n",
    "\n",
    "#submission['count'] = np.exp(linearreg_preds)\n",
    "\n",
    "#submission.to_csv('submission.csv', index=False)\n",
    "\n",
    "linearreg_preds"
   ]
  },
  {
   "cell_type": "code",
   "execution_count": null,
   "metadata": {
    "id": "cu9EmNBEXPTD"
   },
   "outputs": [],
   "source": [
    "## 성능 개선 1 : 릿지 회귀 모델\n",
    "### 모델 생성\n",
    "from sklearn.linear_model import Ridge\n",
    "from sklearn.model_selection import GridSearchCV\n",
    "from sklearn import metrics\n",
    "\n",
    "ridge_model = Ridge()\n",
    "\n",
    "### 그리드서치 객체 생성\n",
    "# 하이퍼파라미터 값 목록\n",
    "ridge_params ={'max_iter':[5000], 'alpha':[0.001,0.01,0.1,1,2,3,4,10,30,100,200,300,400,800,900,1000]}\n",
    "\n",
    "# 교차 검증용 평가 함수 (RMSLE 점수 계산)\n",
    "rmsle_scorer = metrics.make_scorer(rmsle, greater_is_better=False)\n",
    "\n",
    "# 그리드서치 객체 생성\n",
    "gridsearch_ridge_model = GridSearchCV(estimator=ridge_model,\n",
    "                                     param_grid=ridge_params,\n",
    "                                     scoring=rmsle_scorer,\n",
    "                                     cv=5)"
   ]
  },
  {
   "cell_type": "code",
   "execution_count": null,
   "metadata": {
    "id": "wfxzavj2XPQZ"
   },
   "outputs": [],
   "source": [
    "### 그리드서치 수행\n",
    "log_y = np.log(y)\n",
    "gridsearch_ridge_model.fit(X_train, log_y)\n",
    "\n",
    "print('최적 하이퍼파라미터 :', gridsearch_ridge_model.best_params_)"
   ]
  },
  {
   "cell_type": "code",
   "execution_count": null,
   "metadata": {
    "id": "Z_cyOo7tXPNJ"
   },
   "outputs": [],
   "source": [
    "## 성능 검증\n",
    "preds = gridsearch_ridge_model.best_estimator_.predict(X_train)\n",
    "\n",
    "print(f'릿지 회귀의 RMSLE 값: {rmsle(log_y, preds, True): .4f}')"
   ]
  },
  {
   "cell_type": "code",
   "execution_count": null,
   "metadata": {
    "id": "YNhPcX-IXPKT"
   },
   "outputs": [],
   "source": [
    "## 성능 개선 2 : 라쏘 회귀 모델\n",
    "### 모델 생성\n",
    "from sklearn.linear_model import Lasso\n",
    "from sklearn.model_selection import GridSearchCV\n",
    "from sklearn import metrics\n",
    "\n",
    "lasso_model = Lasso()\n",
    "\n",
    "### 그리드서치 객체 생성\n",
    "# 하이퍼파라미터 값 목록\n",
    "lasso_alpha = 1/np.array([0.001,0.01,0.1,1,2,3,4,10,30,100,200,300,400,800,900,1000])\n",
    "lasso_params = {'max_iter':[3000], 'alpha': lasso_alpha}\n",
    "\n",
    "# 교차 검증용 평가 함수 (RMSLE 점수 계산)\n",
    "rmsle_scorer = metrics.make_scorer(rmsle, greater_is_better=False)\n",
    "\n",
    "# 그리드서치 객체 생성\n",
    "gridsearch_lasso_model = GridSearchCV(estimator=lasso_model,\n",
    "                                     param_grid=lasso_params,\n",
    "                                     scoring=rmsle_scorer,\n",
    "                                     cv=5)\n",
    "\n",
    "### 그리드서치 수행\n",
    "log_y = np.log(y)\n",
    "gridsearch_lasso_model.fit(X_train, log_y)\n",
    "\n",
    "print('최적 하이퍼파라미터 :', gridsearch_lasso_model.best_params_)"
   ]
  },
  {
   "cell_type": "code",
   "execution_count": null,
   "metadata": {
    "id": "uRVqfbViXPH5"
   },
   "outputs": [],
   "source": [
    "## 성능 검증\n",
    "preds = gridsearch_lasso_model.best_estimator_.predict(X_train)\n",
    "\n",
    "print(f'라쏘 회귀의 RMSLE 값: {rmsle(log_y, preds, True): .4f}')"
   ]
  },
  {
   "cell_type": "code",
   "execution_count": null,
   "metadata": {
    "id": "-ubH88AeXO95"
   },
   "outputs": [],
   "source": [
    "## 성능 개선 3 : 랜덤 포레스트 회귀 모델\n",
    "\n",
    "### 모델 생성\n",
    "from sklearn.ensemble import RandomForestRegressor\n",
    "from sklearn.model_selection import GridSearchCV\n",
    "from sklearn import metrics\n",
    "\n",
    "randomforest_model = RandomForestRegressor()\n",
    "\n",
    "### 그리드서치 객체 생성\n",
    "# 하이퍼파라미터 값 목록\n",
    "rf_params = {'random_state':[15, 42],\n",
    "             'n_estimators': [100,140,150,200,300,400]}\n",
    "# 교차 검증용 평가 함수 (RMSLE 점수 계산)\n",
    "rmsle_scorer = metrics.make_scorer(rmsle, greater_is_better=False)\n",
    "\n",
    "# 그리드서치 객체 생성\n",
    "gridsearch_random_forest_model = GridSearchCV(estimator=randomforest_model,\n",
    "                                     param_grid=rf_params,\n",
    "                                     scoring=rmsle_scorer,\n",
    "                                     cv=5)\n",
    "\n",
    "### 그리드서치 수행\n",
    "log_y = np.log(y)\n",
    "gridsearch_random_forest_model.fit(X_train, log_y)\n",
    "\n",
    "print('최적 하이퍼파라미터 :', gridsearch_random_forest_model.best_params_)"
   ]
  },
  {
   "cell_type": "code",
   "execution_count": null,
   "metadata": {
    "id": "0KlIJdnMXXD_"
   },
   "outputs": [],
   "source": [
    "## 성능 검증\n",
    "preds = gridsearch_random_forest_model.best_estimator_.predict(X_train)\n",
    "\n",
    "print(f'랜덤 포레스트 회귀의 RMSLE 값: {rmsle(log_y, preds, True): .4f}')"
   ]
  },
  {
   "cell_type": "code",
   "execution_count": null,
   "metadata": {
    "id": "3uwcVpMbr5lB"
   },
   "outputs": [],
   "source": [
    "X_train['year'] = X_train['year'].astype(int)\n",
    "X_train['day'] = X_train['day'].astype(int)\n",
    "X_train['hour'] = X_train['hour'].astype(int)"
   ]
  },
  {
   "cell_type": "code",
   "execution_count": null,
   "metadata": {
    "id": "duvmvQBVhDr_"
   },
   "outputs": [],
   "source": [
    "## 성능 개선 4 : XGBoost\n",
    "\n",
    "### 모델 생성\n",
    "from xgboost import XGBRegressor\n",
    "from sklearn.model_selection import GridSearchCV\n",
    "from sklearn import metrics\n",
    "\n",
    "xgb_model = XGBRegressor()\n",
    "\n",
    "### 그리드서치 객체 생성\n",
    "# 하이퍼파라미터 값 목록\n",
    "xgb_params = {'random_state':[42],\n",
    "              'subsample':[x/10 for x in range(6,10)],\n",
    "              'colsample_bytree':[x/10.0 for x in range(6,10)]\n",
    "            #  'n_estimators': [60,80,100,120,140,160],\n",
    "              }\n",
    "# 교차 검증용 평가 함수 (RMSLE 점수 계산)\n",
    "rmsle_scorer = metrics.make_scorer(rmsle, greater_is_better=False)\n",
    "\n",
    "# 그리드서치 객체 생성\n",
    "gridsearch_xgb_model = GridSearchCV(estimator=xgb_model,\n",
    "                                     param_grid=xgb_params,\n",
    "                                     scoring=rmsle_scorer,\n",
    "                                     cv=5)\n",
    "\n",
    "### 그리드서치 수행\n",
    "log_y = np.log(y)\n",
    "gridsearch_xgb_model.fit(X_train, log_y)\n",
    "\n",
    "print('최적 하이퍼파라미터 :', gridsearch_xgb_model.best_params_)"
   ]
  },
  {
   "cell_type": "code",
   "execution_count": null,
   "metadata": {
    "id": "-BItKJ2AOo2K"
   },
   "outputs": [],
   "source": [
    "## 성능 검증\n",
    "preds = gridsearch_xgb_model.best_estimator_.predict(X_train)\n",
    "\n",
    "print(f'XGBoost 회귀의 RMSLE 값: {rmsle(log_y, preds, True): .4f}')"
   ]
  },
  {
   "cell_type": "code",
   "execution_count": null,
   "metadata": {
    "id": "ea5_xUWshDmS"
   },
   "outputs": [],
   "source": [
    "## 성능 개선 5 : LightGBM\n",
    "\n",
    "### 모델 생성\n",
    "from lightgbm import LGBMRegressor\n",
    "from sklearn.model_selection import GridSearchCV\n",
    "from sklearn import metrics\n",
    "\n",
    "lgbm_model = LGBMRegressor()\n",
    "\n",
    "### 그리드서치 객체 생성\n",
    "# 하이퍼파라미터 값 목록\n",
    "lgbm_params = {'random_state':[42],\n",
    "               'num_leaves':[32, 64],\n",
    "               'n_estimators': [60,80,100,120,140,160]}\n",
    "\n",
    "# 교차 검증용 평가 함수 (RMSLE 점수 계산)\n",
    "rmsle_scorer = metrics.make_scorer(rmsle, greater_is_better=False)\n",
    "\n",
    "# 그리드서치 객체 생성\n",
    "gridsearch_lgbm_model = GridSearchCV(estimator=lgbm_model,\n",
    "                                     param_grid=lgbm_params,\n",
    "                                     scoring=rmsle_scorer,\n",
    "                                     cv=5)\n",
    "\n",
    "### 그리드서치 수행\n",
    "log_y = np.log(y)\n",
    "gridsearch_lgbm_model.fit(X_train, log_y)\n",
    "\n",
    "print('최적 하이퍼파라미터 :', gridsearch_lgbm_model.best_params_)"
   ]
  },
  {
   "cell_type": "code",
   "execution_count": null,
   "metadata": {
    "id": "CySduQHKhDiC"
   },
   "outputs": [],
   "source": [
    "## 성능 검증\n",
    "preds = gridsearch_lgbm_model.best_estimator_.predict(X_train)\n",
    "\n",
    "print(f'LightGBM 회귀의 RMSLE 값: {rmsle(log_y, preds, True): .4f}')"
   ]
  },
  {
   "cell_type": "code",
   "execution_count": null,
   "metadata": {
    "id": "Lc_Fl1KMXW5O"
   },
   "outputs": [],
   "source": [
    "## 예측 및 결과 제출\n",
    "\n",
    "import seaborn as sns\n",
    "import matplotlib.pyplot as plt\n",
    "\n",
    "randomforest_preds = gridsearch_random_forest_model.best_estimator_.predict(X_test)\n",
    "\n",
    "figure, axes = plt.subplots(ncols=2)\n",
    "figure.set_size_inches(10,4)\n",
    "\n",
    "sns.histplot(y, bins=50, ax=axes[0])\n",
    "sns.histplot(np.exp(randomforest_preds), bins=50, ax=axes[1])\n",
    "\n",
    "axes[0].set_title('Train Data Distribution')\n",
    "axes[1].set_title('Predicted Test Data Distribution')"
   ]
  },
  {
   "cell_type": "code",
   "execution_count": null,
   "metadata": {
    "id": "o-iAEXY4sibt"
   },
   "outputs": [],
   "source": [
    "X_test['year'] = X_test['year'].astype(int)\n",
    "X_test['day'] = X_test['day'].astype(int)\n",
    "X_test['hour'] = X_test['hour'].astype(int)"
   ]
  },
  {
   "cell_type": "code",
   "execution_count": null,
   "metadata": {
    "id": "b7jkxbp6slhN"
   },
   "outputs": [],
   "source": [
    "X_test.info()"
   ]
  },
  {
   "cell_type": "code",
   "execution_count": null,
   "metadata": {
    "id": "wu08w5jThJS7"
   },
   "outputs": [],
   "source": [
    "## 예측 및 결과 제출\n",
    "\n",
    "import seaborn as sns\n",
    "import matplotlib.pyplot as plt\n",
    "\n",
    "xgb_preds = gridsearch_xgb_model.best_estimator_.predict(X_test)\n",
    "\n",
    "figure, axes = plt.subplots(ncols=2)\n",
    "figure.set_size_inches(10,4)\n",
    "\n",
    "sns.histplot(y, bins=50, ax=axes[0])\n",
    "sns.histplot(np.exp(xgb_preds), bins=50, ax=axes[1])\n",
    "\n",
    "axes[0].set_title('Train Data Distribution')\n",
    "axes[1].set_title('Predicted Test Data Distribution')"
   ]
  },
  {
   "cell_type": "code",
   "execution_count": null,
   "metadata": {
    "id": "0x7-MwrWhJLs"
   },
   "outputs": [],
   "source": [
    "## 예측 및 결과 제출\n",
    "\n",
    "import seaborn as sns\n",
    "import matplotlib.pyplot as plt\n",
    "\n",
    "lgbm_preds = gridsearch_lgbm_model.best_estimator_.predict(X_test)\n",
    "\n",
    "figure, axes = plt.subplots(ncols=2)\n",
    "figure.set_size_inches(10,4)\n",
    "\n",
    "sns.histplot(y, bins=50, ax=axes[0])\n",
    "sns.histplot(np.exp(lgbm_preds), bins=50, ax=axes[1])\n",
    "\n",
    "axes[0].set_title('Train Data Distribution')\n",
    "axes[1].set_title('Predicted Test Data Distribution')"
   ]
  },
  {
   "cell_type": "code",
   "execution_count": null,
   "metadata": {
    "id": "SZ-cK8oIXW2n"
   },
   "outputs": [],
   "source": [
    "## 결과 제출\n",
    "# submission['count'] = np.exp(randomforest_preds)\n",
    "\n",
    "# submission.to_csv('submission.csv', index=False)"
   ]
  }
 ],
 "metadata": {
  "accelerator": "GPU",
  "colab": {
   "gpuType": "T4",
   "private_outputs": true,
   "provenance": []
  },
  "kernelspec": {
   "display_name": "Python 3 (ipykernel)",
   "language": "python",
   "name": "python3"
  },
  "language_info": {
   "codemirror_mode": {
    "name": "ipython",
    "version": 3
   },
   "file_extension": ".py",
   "mimetype": "text/x-python",
   "name": "python",
   "nbconvert_exporter": "python",
   "pygments_lexer": "ipython3",
   "version": "3.9.13"
  }
 },
 "nbformat": 4,
 "nbformat_minor": 1
}

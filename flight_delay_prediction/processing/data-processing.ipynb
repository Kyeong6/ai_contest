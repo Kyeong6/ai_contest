{
 "cells": [
  {
   "cell_type": "code",
   "execution_count": 4,
   "id": "0a396ee0-55e7-4ada-9217-a667af96b3ab",
   "metadata": {
    "id": "95Datb_QOoEK",
    "tags": []
   },
   "outputs": [],
   "source": [
    "import pandas as pd\n",
    "import numpy as np\n",
    "import matplotlib.pyplot as plt\n",
    "from tqdm import tqdm"
   ]
  },
  {
   "cell_type": "markdown",
   "id": "5776c82c-4661-435b-9523-8888dc540a6a",
   "metadata": {
    "id": "UyHyRJXqSrx4",
    "tags": []
   },
   "source": [
    "# Load Data"
   ]
  },
  {
   "cell_type": "code",
   "execution_count": 5,
   "id": "73542c16-83a3-4470-96a9-85d4bc0ef380",
   "metadata": {
    "id": "cexFwwfN8dKC",
    "tags": []
   },
   "outputs": [],
   "source": [
    "train_data = pd.read_csv('./train.csv')\n",
    "test_data = pd.read_csv('./test.csv')"
   ]
  },
  {
   "cell_type": "code",
   "execution_count": 6,
   "id": "69dcf87f-72a6-44a4-a7b4-abbee9ce70bc",
   "metadata": {
    "tags": []
   },
   "outputs": [
    {
     "data": {
      "text/plain": [
       "2000000"
      ]
     },
     "execution_count": 6,
     "metadata": {},
     "output_type": "execute_result"
    }
   ],
   "source": [
    "len(train_data) + len(test_data)"
   ]
  },
  {
   "cell_type": "code",
   "execution_count": 7,
   "id": "2e4dec51-a4ef-4fc9-ad50-460db7ca0716",
   "metadata": {
    "tags": []
   },
   "outputs": [],
   "source": [
    "train_data = pd.concat([train_data, test_data])"
   ]
  },
  {
   "cell_type": "markdown",
   "id": "b532cbd9-6a19-476a-b642-740c26b9b263",
   "metadata": {},
   "source": [
    "# preprocessing Data"
   ]
  },
  {
   "cell_type": "code",
   "execution_count": 8,
   "id": "7aefe44e-720e-4d49-b799-f321dc7f0ed6",
   "metadata": {
    "tags": []
   },
   "outputs": [
    {
     "data": {
      "text/plain": [
       "Cancelled\n",
       "0    2000000\n",
       "Name: count, dtype: int64"
      ]
     },
     "execution_count": 8,
     "metadata": {},
     "output_type": "execute_result"
    }
   ],
   "source": [
    "train_data.Cancelled.value_counts()"
   ]
  },
  {
   "cell_type": "code",
   "execution_count": 9,
   "id": "36f0652e-a080-4218-b6e4-25c84b545680",
   "metadata": {
    "tags": []
   },
   "outputs": [
    {
     "data": {
      "text/plain": [
       "Cancelled\n",
       "0    1000000\n",
       "Name: count, dtype: int64"
      ]
     },
     "execution_count": 9,
     "metadata": {},
     "output_type": "execute_result"
    }
   ],
   "source": [
    "test_data.Cancelled.value_counts()"
   ]
  },
  {
   "cell_type": "code",
   "execution_count": 10,
   "id": "4c553d11-f2e5-43ed-a274-544a4f791eef",
   "metadata": {
    "tags": []
   },
   "outputs": [
    {
     "data": {
      "text/plain": [
       "Diverted\n",
       "0    2000000\n",
       "Name: count, dtype: int64"
      ]
     },
     "execution_count": 10,
     "metadata": {},
     "output_type": "execute_result"
    }
   ],
   "source": [
    "train_data.Diverted.value_counts()"
   ]
  },
  {
   "cell_type": "code",
   "execution_count": 11,
   "id": "322c6a83-29a5-443b-9b48-0633974e3d54",
   "metadata": {
    "tags": []
   },
   "outputs": [
    {
     "data": {
      "text/plain": [
       "Diverted\n",
       "0    1000000\n",
       "Name: count, dtype: int64"
      ]
     },
     "execution_count": 11,
     "metadata": {},
     "output_type": "execute_result"
    }
   ],
   "source": [
    "test_data.Diverted.value_counts()"
   ]
  },
  {
   "cell_type": "code",
   "execution_count": 12,
   "id": "f32730da-cf63-40e5-8bdc-e78b6c1918fe",
   "metadata": {
    "tags": []
   },
   "outputs": [],
   "source": [
    "train_data.drop(['Cancelled'],axis=1,inplace=True)\n",
    "train_data.drop(['Diverted'],axis=1,inplace=True)\n",
    "# 이 두 컬럼은 모두 0, 필요없으므로 제거\n",
    "test_data.drop(['Cancelled'],axis=1,inplace=True)\n",
    "test_data.drop(['Diverted'],axis=1,inplace=True)\n",
    "# 이 두 컬럼은 모두 0, 필요없으므로 제거"
   ]
  },
  {
   "cell_type": "code",
   "execution_count": 13,
   "id": "b378e1b6-9f8e-4d38-89bb-7b8d0177f0a7",
   "metadata": {
    "tags": []
   },
   "outputs": [
    {
     "name": "stdout",
     "output_type": "stream",
     "text": [
      "<class 'pandas.core.frame.DataFrame'>\n",
      "Index: 2000000 entries, 0 to 999999\n",
      "Data columns (total 17 columns):\n",
      " #   Column                    Non-Null Count    Dtype  \n",
      "---  ------                    --------------    -----  \n",
      " 0   ID                        2000000 non-null  object \n",
      " 1   Month                     2000000 non-null  int64  \n",
      " 2   Day_of_Month              2000000 non-null  int64  \n",
      " 3   Estimated_Departure_Time  1781997 non-null  float64\n",
      " 4   Estimated_Arrival_Time    1781912 non-null  float64\n",
      " 5   Origin_Airport            2000000 non-null  object \n",
      " 6   Origin_Airport_ID         2000000 non-null  int64  \n",
      " 7   Origin_State              1784480 non-null  object \n",
      " 8   Destination_Airport       2000000 non-null  object \n",
      " 9   Destination_Airport_ID    2000000 non-null  int64  \n",
      " 10  Destination_State         1784398 non-null  object \n",
      " 11  Distance                  2000000 non-null  float64\n",
      " 12  Airline                   1784553 non-null  object \n",
      " 13  Carrier_Code(IATA)        1782017 non-null  object \n",
      " 14  Carrier_ID(DOT)           1781997 non-null  float64\n",
      " 15  Tail_Number               2000000 non-null  object \n",
      " 16  Delay                     255001 non-null   object \n",
      "dtypes: float64(4), int64(4), object(9)\n",
      "memory usage: 274.7+ MB\n"
     ]
    }
   ],
   "source": [
    "train_data.info(show_counts=True)"
   ]
  },
  {
   "cell_type": "code",
   "execution_count": 14,
   "id": "0857e46e-8f18-4d33-9891-fee17e64f8b9",
   "metadata": {
    "tags": []
   },
   "outputs": [
    {
     "data": {
      "text/plain": [
       "113787"
      ]
     },
     "execution_count": 14,
     "metadata": {},
     "output_type": "execute_result"
    }
   ],
   "source": [
    "len(train_data.dropna())"
   ]
  },
  {
   "cell_type": "markdown",
   "id": "657f6dff-9e58-4a3b-a532-28976aa10843",
   "metadata": {},
   "source": [
    "# fill Nan value"
   ]
  },
  {
   "cell_type": "markdown",
   "id": "599abdff-8c9f-42b3-93fc-b68f17304b0b",
   "metadata": {},
   "source": [
    "## state"
   ]
  },
  {
   "cell_type": "code",
   "execution_count": 16,
   "id": "da25dcc2-3b31-4325-948b-e240bd38b279",
   "metadata": {
    "tags": []
   },
   "outputs": [],
   "source": [
    "airports = dict()\n",
    "# airprots : id"
   ]
  },
  {
   "cell_type": "code",
   "execution_count": 17,
   "id": "298c82f5-e092-4a26-a976-b0d97b26c978",
   "metadata": {
    "tags": []
   },
   "outputs": [
    {
     "name": "stderr",
     "output_type": "stream",
     "text": [
      "379it [00:00, 22390.26it/s]\n"
     ]
    }
   ],
   "source": [
    "for _,v in tqdm(train_data.loc[:,['Origin_Airport','Origin_Airport_ID']].drop_duplicates().iterrows()):\n",
    "    oai = v['Origin_Airport_ID']\n",
    "    oa = v['Origin_Airport']\n",
    "    if not airports.get(oa):\n",
    "        airports[oa] = oai\n",
    "    elif airports[oa] != oai:\n",
    "        print(oa, oai)"
   ]
  },
  {
   "cell_type": "code",
   "execution_count": 18,
   "id": "9605790f-7221-4f81-9a5a-50b14967c040",
   "metadata": {
    "tags": []
   },
   "outputs": [
    {
     "name": "stderr",
     "output_type": "stream",
     "text": [
      "378it [00:00, 22258.76it/s]\n"
     ]
    }
   ],
   "source": [
    "for i,v in tqdm(train_data.loc[:,['Destination_Airport','Destination_Airport_ID']].drop_duplicates().iterrows()):\n",
    "    dai = v['Destination_Airport_ID']\n",
    "    da = v['Destination_Airport']\n",
    "    if not airports.get(da):\n",
    "        airports[da] = dai\n",
    "    elif airports[da] != dai:\n",
    "        print(da, dai)"
   ]
  },
  {
   "cell_type": "code",
   "execution_count": 20,
   "id": "e3e2c182-9f61-4fd5-a747-981580d971b6",
   "metadata": {
    "tags": []
   },
   "outputs": [
    {
     "data": {
      "text/plain": [
       "379"
      ]
     },
     "execution_count": 20,
     "metadata": {},
     "output_type": "execute_result"
    }
   ],
   "source": [
    "len(airports) # 375 개 airport , ID 와 불일치 없음"
   ]
  },
  {
   "cell_type": "code",
   "execution_count": 21,
   "id": "5b7d6e60-91d6-4d12-bf98-a55adc8cec87",
   "metadata": {
    "tags": []
   },
   "outputs": [],
   "source": [
    "airports_state = dict()\n",
    "# airprots : state"
   ]
  },
  {
   "cell_type": "code",
   "execution_count": 22,
   "id": "a6845cb7-d770-4afc-8c8e-22e567a292a3",
   "metadata": {
    "tags": []
   },
   "outputs": [],
   "source": [
    "airports_state['RIW'] = 'Wyoming'\n",
    "airports_state['SHR'] = 'Wyoming'\n",
    "airports_state['DDC'] = 'Kansas'\n",
    "airports_state['DEC'] = 'Illinois'"
   ]
  },
  {
   "cell_type": "code",
   "execution_count": 18,
   "id": "b54a4f23-63e5-44be-a7b7-95fdf53c5168",
   "metadata": {
    "tags": []
   },
   "outputs": [],
   "source": [
    "# train_data.loc[train_data['Origin_State'].isna(),'Origin_State'] = ''\n",
    "# train_data.loc[train_data['Destination_State'].isna(),'Destination_State'] = ''"
   ]
  },
  {
   "cell_type": "code",
   "execution_count": 23,
   "id": "8913e524-2648-44ab-8793-99dd28685f13",
   "metadata": {
    "tags": []
   },
   "outputs": [
    {
     "name": "stderr",
     "output_type": "stream",
     "text": [
      "375it [00:00, 23502.94it/s]\n"
     ]
    }
   ],
   "source": [
    "for i,v in tqdm(train_data.loc[~train_data['Origin_State'].isna(),['Origin_Airport','Origin_State']].drop_duplicates().iterrows()):\n",
    "    os = v['Origin_State']\n",
    "    oa = v['Origin_Airport']\n",
    "    if not airports_state.get(oa):\n",
    "        airports_state[oa] = os\n",
    "    elif airports_state[oa] != os:\n",
    "        print(oa, os,airports_state[oa])"
   ]
  },
  {
   "cell_type": "code",
   "execution_count": 25,
   "id": "6b2ea076-52ce-4c4e-9df0-d0e12d36f617",
   "metadata": {
    "tags": []
   },
   "outputs": [
    {
     "name": "stderr",
     "output_type": "stream",
     "text": [
      "374it [00:00, 23397.61it/s]\n"
     ]
    }
   ],
   "source": [
    "for i,v in tqdm(train_data.loc[~train_data['Destination_State'].isna(),['Destination_Airport','Destination_State']].drop_duplicates().iterrows()):\n",
    "    ds = v['Destination_State']\n",
    "    da = v['Destination_Airport']\n",
    "    if not airports_state.get(da):\n",
    "        airports_state[da] = ds\n",
    "    elif airports_state[da] != ds:\n",
    "        print(da, ds,airports_state[da])"
   ]
  },
  {
   "cell_type": "code",
   "execution_count": 26,
   "id": "8b433ad4-778c-4113-9dbd-da6478f6a8d1",
   "metadata": {
    "tags": []
   },
   "outputs": [],
   "source": [
    "#109015 개 Origin_State null값 있음\n",
    "#109079 개 Destination_State null 값 있음"
   ]
  },
  {
   "cell_type": "code",
   "execution_count": 29,
   "id": "40cd36e3-bd3f-448f-a9a0-6d69d090cbab",
   "metadata": {
    "tags": []
   },
   "outputs": [],
   "source": [
    "train_data.loc[train_data['Origin_State'].isna() ,'Origin_State'] = train_data.loc[train_data['Origin_State'].isna(),'Origin_Airport'].apply(lambda x : airports_state.get(x))"
   ]
  },
  {
   "cell_type": "code",
   "execution_count": 30,
   "id": "cb9cf468-ebec-4196-a986-dfacf66f4c79",
   "metadata": {
    "tags": []
   },
   "outputs": [],
   "source": [
    "train_data.loc[train_data['Destination_State'].isna() ,'Destination_State'] = train_data.loc[train_data['Destination_State'].isna(),'Destination_Airport'].apply(lambda x : airports_state.get(x))"
   ]
  },
  {
   "cell_type": "code",
   "execution_count": 24,
   "id": "4abbb432-246e-449a-97be-61908a51abcc",
   "metadata": {
    "tags": []
   },
   "outputs": [],
   "source": [
    "# State 정보 채워줌"
   ]
  },
  {
   "cell_type": "code",
   "execution_count": 32,
   "id": "f6d2dac5-8caa-4794-9b2b-c7afd0778515",
   "metadata": {
    "tags": []
   },
   "outputs": [
    {
     "name": "stdout",
     "output_type": "stream",
     "text": [
      "<class 'pandas.core.frame.DataFrame'>\n",
      "Index: 2000000 entries, 0 to 999999\n",
      "Data columns (total 17 columns):\n",
      " #   Column                    Non-Null Count    Dtype  \n",
      "---  ------                    --------------    -----  \n",
      " 0   ID                        2000000 non-null  object \n",
      " 1   Month                     2000000 non-null  int64  \n",
      " 2   Day_of_Month              2000000 non-null  int64  \n",
      " 3   Estimated_Departure_Time  1781997 non-null  float64\n",
      " 4   Estimated_Arrival_Time    1781912 non-null  float64\n",
      " 5   Origin_Airport            2000000 non-null  object \n",
      " 6   Origin_Airport_ID         2000000 non-null  int64  \n",
      " 7   Origin_State              2000000 non-null  object \n",
      " 8   Destination_Airport       2000000 non-null  object \n",
      " 9   Destination_Airport_ID    2000000 non-null  int64  \n",
      " 10  Destination_State         2000000 non-null  object \n",
      " 11  Distance                  2000000 non-null  float64\n",
      " 12  Airline                   1784553 non-null  object \n",
      " 13  Carrier_Code(IATA)        1782017 non-null  object \n",
      " 14  Carrier_ID(DOT)           1781997 non-null  float64\n",
      " 15  Tail_Number               2000000 non-null  object \n",
      " 16  Delay                     255001 non-null   object \n",
      "dtypes: float64(4), int64(4), object(9)\n",
      "memory usage: 274.7+ MB\n"
     ]
    }
   ],
   "source": [
    "train_data.info(show_counts=True)"
   ]
  },
  {
   "cell_type": "markdown",
   "id": "90e64119-b322-4a97-b27e-c9c20d4a76ae",
   "metadata": {},
   "source": [
    " > Origin_State, Destination_State는 100% 정확한 정보를 채울수 있었음"
   ]
  },
  {
   "cell_type": "code",
   "execution_count": 33,
   "id": "3ead7045-1a57-40da-977c-1c9cc03b8b0c",
   "metadata": {
    "tags": []
   },
   "outputs": [
    {
     "data": {
      "text/plain": [
       "143245"
      ]
     },
     "execution_count": 33,
     "metadata": {},
     "output_type": "execute_result"
    }
   ],
   "source": [
    "len(train_data.dropna())"
   ]
  },
  {
   "cell_type": "markdown",
   "id": "132b84f0-7fa0-4b57-b746-67d615537587",
   "metadata": {},
   "source": [
    "## airline"
   ]
  },
  {
   "cell_type": "markdown",
   "id": "93fe128e-602e-45e4-a405-fe57b7c8e5de",
   "metadata": {},
   "source": [
    "> Airline과 Carrier_ID(DOT)가 일치한다는 가정하에 채우기 시작"
   ]
  },
  {
   "cell_type": "code",
   "execution_count": 34,
   "id": "ea9228df-27ed-4dbd-a778-3aaf406a30dc",
   "metadata": {
    "tags": []
   },
   "outputs": [],
   "source": [
    "airline = dict()\n",
    "# airline : id"
   ]
  },
  {
   "cell_type": "code",
   "execution_count": 35,
   "id": "2f369cc8-23d7-41bf-a549-e66d0c9a8802",
   "metadata": {
    "tags": []
   },
   "outputs": [
    {
     "data": {
      "text/plain": [
       "29"
      ]
     },
     "execution_count": 35,
     "metadata": {},
     "output_type": "execute_result"
    }
   ],
   "source": [
    "len(set(train_data['Airline']))"
   ]
  },
  {
   "cell_type": "code",
   "execution_count": 36,
   "id": "e83129a0-af14-4691-babc-c7ea4357164d",
   "metadata": {
    "tags": []
   },
   "outputs": [
    {
     "name": "stderr",
     "output_type": "stream",
     "text": [
      "28it [00:00, 14054.63it/s]\n"
     ]
    }
   ],
   "source": [
    "for i,v in tqdm(train_data.loc[~train_data['Airline'].isna() * ~train_data['Carrier_ID(DOT)'].isna(),['Airline','Carrier_ID(DOT)']].drop_duplicates().iterrows()):\n",
    "    al = v['Airline']\n",
    "    ci = v['Carrier_ID(DOT)']\n",
    "    if not airline.get(al):\n",
    "        airline[al] = ci\n",
    "    elif airline[al] != ci:\n",
    "        print(ci, al, airline[al])\n",
    "        break"
   ]
  },
  {
   "cell_type": "code",
   "execution_count": 37,
   "id": "80b488bd-9041-49c2-98d8-c47ba00cca1a",
   "metadata": {
    "tags": []
   },
   "outputs": [
    {
     "data": {
      "text/plain": [
       "194577"
      ]
     },
     "execution_count": 37,
     "metadata": {},
     "output_type": "execute_result"
    }
   ],
   "source": [
    "(train_data['Carrier_ID(DOT)'].isna() * ~train_data['Airline'].isna() ).sum()\n",
    "# id 없고 airline 있는거 개수"
   ]
  },
  {
   "cell_type": "code",
   "execution_count": 43,
   "id": "ae66cba4-1b3d-409b-87a3-41872aeb85a6",
   "metadata": {
    "tags": []
   },
   "outputs": [],
   "source": [
    "train_data.loc[train_data['Carrier_ID(DOT)'].isna() * ~train_data['Airline'].isna() ,'Carrier_ID(DOT)'] = train_data.loc[train_data['Carrier_ID(DOT)'].isna() * ~train_data['Airline'].isna() ,'Airline'].apply(lambda x : airline.get(x))"
   ]
  },
  {
   "cell_type": "code",
   "execution_count": 44,
   "id": "c3f22303-2b17-4dc7-b066-6a9e9810da6d",
   "metadata": {
    "tags": []
   },
   "outputs": [
    {
     "data": {
      "text/plain": [
       "0"
      ]
     },
     "execution_count": 44,
     "metadata": {},
     "output_type": "execute_result"
    }
   ],
   "source": [
    "(~train_data['Carrier_ID(DOT)'].isna() * train_data['Airline'].isna() ).sum()\n",
    "# id 있고 airline없는거 개수"
   ]
  },
  {
   "cell_type": "code",
   "execution_count": 45,
   "id": "e63737ee-54e2-4b54-ae27-175d45a0d6a7",
   "metadata": {
    "tags": []
   },
   "outputs": [],
   "source": [
    "airline_reverse = dict([(v, k) for k,v in airline.items()])\n",
    "# id : airline"
   ]
  },
  {
   "cell_type": "code",
   "execution_count": 46,
   "id": "5420fb3d-b2db-4add-987b-a43ce1a3a6d7",
   "metadata": {
    "tags": []
   },
   "outputs": [],
   "source": [
    "train_data.loc[~train_data['Carrier_ID(DOT)'].isna() * train_data['Airline'].isna() ,'Airline'] = train_data.loc[~train_data['Carrier_ID(DOT)'].isna() * train_data['Airline'].isna() ,'Carrier_ID(DOT)'].apply(lambda x : airline_reverse.get(x))"
   ]
  },
  {
   "cell_type": "markdown",
   "id": "a9f16431-babe-421b-aa64-97bb5cb64c94",
   "metadata": {},
   "source": [
    "> 해당 출발 공항/ 도착공항 가는게 한개 밖에 없으면 넣음"
   ]
  },
  {
   "cell_type": "code",
   "execution_count": 47,
   "id": "57c29095-8238-47ac-8904-01197af835a7",
   "metadata": {
    "tags": []
   },
   "outputs": [
    {
     "data": {
      "text/plain": [
       "23426"
      ]
     },
     "execution_count": 47,
     "metadata": {},
     "output_type": "execute_result"
    }
   ],
   "source": [
    "train_data['Airline'].isna().sum()"
   ]
  },
  {
   "cell_type": "code",
   "execution_count": 49,
   "id": "871e6d5e-4636-44c7-aa91-8413c5a6a493",
   "metadata": {
    "tags": []
   },
   "outputs": [],
   "source": [
    "train_data['ODA'] = train_data.Origin_Airport + '_' + train_data.Destination_Airport"
   ]
  },
  {
   "cell_type": "code",
   "execution_count": 50,
   "id": "5bdd988f-1db3-418d-b1f1-9288b8122a3a",
   "metadata": {
    "tags": []
   },
   "outputs": [],
   "source": [
    "oda = train_data.loc[train_data.ODA.isin(set(train_data.loc[train_data.Airline.isna(),'ODA']))].groupby(by='ODA').Airline.apply(lambda x : x.value_counts().index[0] if len(x.value_counts()) == 1 else None)"
   ]
  },
  {
   "cell_type": "code",
   "execution_count": 51,
   "id": "cddea50a-74f5-4f4c-afe1-5b66ee9d462a",
   "metadata": {
    "tags": []
   },
   "outputs": [],
   "source": [
    "train_data.loc[train_data.Airline.isna(),['Airline']] = train_data.loc[train_data.Airline.isna(), 'ODA'].map(lambda x : oda[x])"
   ]
  },
  {
   "cell_type": "code",
   "execution_count": 52,
   "id": "88cdc167-4999-48d5-96a2-57390ead9ff6",
   "metadata": {
    "tags": []
   },
   "outputs": [],
   "source": [
    "train_data.loc[train_data['Carrier_ID(DOT)'].isna(),['Carrier_ID(DOT)']] = train_data.loc[train_data['Carrier_ID(DOT)'].isna(), 'ODA'].map(lambda x : airline.get(oda[x]))"
   ]
  },
  {
   "cell_type": "code",
   "execution_count": 53,
   "id": "6c588017-6078-4e50-a463-375d6f644dff",
   "metadata": {
    "tags": []
   },
   "outputs": [
    {
     "data": {
      "text/plain": [
       "19168"
      ]
     },
     "execution_count": 53,
     "metadata": {},
     "output_type": "execute_result"
    }
   ],
   "source": [
    "train_data['Airline'].isna().sum()"
   ]
  },
  {
   "cell_type": "code",
   "execution_count": 54,
   "id": "8865d1b3-cd86-4258-a065-03cb493c4c32",
   "metadata": {
    "tags": []
   },
   "outputs": [],
   "source": [
    "train_data.drop('ODA', axis=1 , inplace=True)"
   ]
  },
  {
   "cell_type": "code",
   "execution_count": 55,
   "id": "90728762-0741-4948-84ed-5cfdd4914343",
   "metadata": {
    "tags": []
   },
   "outputs": [
    {
     "name": "stdout",
     "output_type": "stream",
     "text": [
      "<class 'pandas.core.frame.DataFrame'>\n",
      "Index: 2000000 entries, 0 to 999999\n",
      "Data columns (total 17 columns):\n",
      " #   Column                    Non-Null Count    Dtype  \n",
      "---  ------                    --------------    -----  \n",
      " 0   ID                        2000000 non-null  object \n",
      " 1   Month                     2000000 non-null  int64  \n",
      " 2   Day_of_Month              2000000 non-null  int64  \n",
      " 3   Estimated_Departure_Time  1781997 non-null  float64\n",
      " 4   Estimated_Arrival_Time    1781912 non-null  float64\n",
      " 5   Origin_Airport            2000000 non-null  object \n",
      " 6   Origin_Airport_ID         2000000 non-null  int64  \n",
      " 7   Origin_State              2000000 non-null  object \n",
      " 8   Destination_Airport       2000000 non-null  object \n",
      " 9   Destination_Airport_ID    2000000 non-null  int64  \n",
      " 10  Destination_State         2000000 non-null  object \n",
      " 11  Distance                  2000000 non-null  float64\n",
      " 12  Airline                   1980832 non-null  object \n",
      " 13  Carrier_Code(IATA)        1782017 non-null  object \n",
      " 14  Carrier_ID(DOT)           1980832 non-null  object \n",
      " 15  Tail_Number               2000000 non-null  object \n",
      " 16  Delay                     255001 non-null   object \n",
      "dtypes: float64(3), int64(4), object(10)\n",
      "memory usage: 274.7+ MB\n"
     ]
    }
   ],
   "source": [
    "train_data.info(show_counts=True)"
   ]
  },
  {
   "cell_type": "code",
   "execution_count": 56,
   "id": "738168f2-ab12-4022-a6e2-3ba5f3e7dbad",
   "metadata": {
    "tags": []
   },
   "outputs": [
    {
     "data": {
      "text/plain": [
       "178582"
      ]
     },
     "execution_count": 56,
     "metadata": {},
     "output_type": "execute_result"
    }
   ],
   "source": [
    "len(train_data.dropna())"
   ]
  },
  {
   "cell_type": "markdown",
   "id": "98c3c696-d4a2-426e-8321-7b6777aee9c5",
   "metadata": {},
   "source": [
    "> airline 과 id는 아직 덜 참"
   ]
  },
  {
   "cell_type": "markdown",
   "id": "c6afbedc-75b0-4a60-9a39-194f15bea686",
   "metadata": {},
   "source": [
    "## Carrier_Code(IATA) "
   ]
  },
  {
   "cell_type": "markdown",
   "id": "ef092474-2445-465a-93a1-bc6a92628134",
   "metadata": {},
   "source": [
    "Carrier_Code(IATA) -> 지맘대로임"
   ]
  },
  {
   "cell_type": "code",
   "execution_count": 57,
   "id": "33210f81-9190-40b8-931c-68c997704410",
   "metadata": {
    "tags": []
   },
   "outputs": [
    {
     "data": {
      "text/plain": [
       "19168"
      ]
     },
     "execution_count": 57,
     "metadata": {},
     "output_type": "execute_result"
    }
   ],
   "source": [
    "train_data['Airline'].isna().sum()"
   ]
  },
  {
   "cell_type": "markdown",
   "id": "e9d398d9-cca4-49bc-9842-8e2c404925f3",
   "metadata": {},
   "source": [
    "## Tail_Number"
   ]
  },
  {
   "cell_type": "markdown",
   "id": "850cc939-8822-4a35-8839-459c10e1f72e",
   "metadata": {},
   "source": [
    "Tail_Number 같은데 항공사 다를수 있음  \n",
    "이 경우는 항공기를 다른 항공사에서 빌려서 운행한거"
   ]
  },
  {
   "cell_type": "code",
   "execution_count": 58,
   "id": "f3602db2-29b1-4dde-8ace-d6dc8d2e1cbf",
   "metadata": {
    "tags": []
   },
   "outputs": [
    {
     "data": {
      "text/plain": [
       "19168"
      ]
     },
     "execution_count": 58,
     "metadata": {},
     "output_type": "execute_result"
    }
   ],
   "source": [
    "train_data['Airline'].isna().sum()"
   ]
  },
  {
   "cell_type": "code",
   "execution_count": 59,
   "id": "1e7dfac5-dbb7-4c2b-8767-2ca11028d2e5",
   "metadata": {
    "tags": []
   },
   "outputs": [
    {
     "data": {
      "text/plain": [
       "6506"
      ]
     },
     "execution_count": 59,
     "metadata": {},
     "output_type": "execute_result"
    }
   ],
   "source": [
    "len(set(train_data['Tail_Number']))"
   ]
  },
  {
   "cell_type": "markdown",
   "id": "95e53b46-0c4a-4f40-8469-40455b2676c3",
   "metadata": {},
   "source": [
    "> 빌려준적 없는 애는 그거 Tail_Number 토대로 항공사 유추함 \n"
   ]
  },
  {
   "cell_type": "code",
   "execution_count": 60,
   "id": "44f8bc20-97a2-4636-9d4a-1af2afc209fc",
   "metadata": {
    "tags": []
   },
   "outputs": [],
   "source": [
    "trail = train_data.loc[train_data.Tail_Number.isin(set(train_data.loc[train_data.Airline.isna(),'Tail_Number']))].groupby(by='Tail_Number').Airline.apply(lambda x : x.value_counts().index[0] if len(x.value_counts()) == 1 else None)"
   ]
  },
  {
   "cell_type": "code",
   "execution_count": 61,
   "id": "09654c55-4662-4791-ad8a-4ed4fd903b66",
   "metadata": {
    "tags": []
   },
   "outputs": [],
   "source": [
    "train_data.loc[train_data.Airline.isna(),['Airline']] = train_data.loc[train_data.Airline.isna(), 'Tail_Number'].map(lambda x : trail[x])\n",
    "train_data.loc[train_data['Carrier_ID(DOT)'].isna(),['Carrier_ID(DOT)']] = train_data.loc[train_data['Carrier_ID(DOT)'].isna(), 'Tail_Number'].map(lambda x : airline.get(trail[x]))"
   ]
  },
  {
   "cell_type": "code",
   "execution_count": 62,
   "id": "67e88f7d-b125-4f04-8454-c7a3926c8b0e",
   "metadata": {
    "tags": []
   },
   "outputs": [
    {
     "data": {
      "text/plain": [
       "727"
      ]
     },
     "execution_count": 62,
     "metadata": {},
     "output_type": "execute_result"
    }
   ],
   "source": [
    "train_data['Airline'].isna().sum()"
   ]
  },
  {
   "cell_type": "markdown",
   "id": "4426e319-f60c-433f-875f-65929e6ac03b",
   "metadata": {},
   "source": [
    "> 빌려준적 있는 애중에서 그 공항에서 출발한 항공사가 한개면 걔로 넣음"
   ]
  },
  {
   "cell_type": "markdown",
   "id": "67b72da8-2a92-4c4a-8bd5-7fcd1b8ff30e",
   "metadata": {},
   "source": [
    "> 빌려준적 있는 애중에서 그 공항에서 도착한 항공사가 한개면 걔로 넣음"
   ]
  },
  {
   "cell_type": "code",
   "execution_count": 63,
   "id": "3b9731ea-8d9c-4b64-bb91-300c0c7daa33",
   "metadata": {
    "tags": []
   },
   "outputs": [],
   "source": [
    "train_data['ot'] = train_data.loc[:,['Origin_Airport','Tail_Number']].apply(lambda x: '_'.join(x),axis=1)"
   ]
  },
  {
   "cell_type": "code",
   "execution_count": 64,
   "id": "583ce1e0-90e7-4333-980b-57583474487b",
   "metadata": {
    "tags": []
   },
   "outputs": [],
   "source": [
    "train_data['dt'] = train_data.loc[:,['Destination_Airport','Tail_Number']].apply(lambda x: '_'.join(x),axis=1)"
   ]
  },
  {
   "cell_type": "code",
   "execution_count": 65,
   "id": "ef1d533f-dbc0-4134-a574-b9f2febf3107",
   "metadata": {
    "tags": []
   },
   "outputs": [],
   "source": [
    "trail = train_data.loc[train_data.ot.isin(set(train_data.loc[train_data.Airline.isna(),'ot']))].groupby(by='ot').Airline.apply(lambda x : x.value_counts().index[0] if len(x.value_counts())==1 else None)"
   ]
  },
  {
   "cell_type": "code",
   "execution_count": 66,
   "id": "c8257b65-aa0d-4ab7-9c1d-bbc0d6e99d63",
   "metadata": {
    "tags": []
   },
   "outputs": [],
   "source": [
    "train_data.loc[train_data.Airline.isna(),['Airline']] = train_data.loc[train_data.Airline.isna(), 'ot'].map(lambda x : trail[x])"
   ]
  },
  {
   "cell_type": "code",
   "execution_count": 67,
   "id": "212044ef-c8d6-4729-9744-cc19d22d4290",
   "metadata": {
    "tags": []
   },
   "outputs": [],
   "source": [
    "train_data.loc[train_data['Carrier_ID(DOT)'].isna(),['Carrier_ID(DOT)']] = train_data.loc[train_data['Carrier_ID(DOT)'].isna(), 'ot'].map(lambda x : airline.get(trail[x]))"
   ]
  },
  {
   "cell_type": "code",
   "execution_count": 68,
   "id": "595031b8-4234-40ff-9a46-45b14a232a10",
   "metadata": {
    "tags": []
   },
   "outputs": [
    {
     "data": {
      "text/plain": [
       "351"
      ]
     },
     "execution_count": 68,
     "metadata": {},
     "output_type": "execute_result"
    }
   ],
   "source": [
    "train_data['Carrier_ID(DOT)'].isna().sum()"
   ]
  },
  {
   "cell_type": "code",
   "execution_count": 69,
   "id": "61625adf-e71e-4f86-b80b-00b3f312d07b",
   "metadata": {
    "tags": []
   },
   "outputs": [],
   "source": [
    "trail = train_data.loc[train_data.dt.isin(set(train_data.loc[train_data.Airline.isna(),'dt']))].groupby(by='dt').Airline.apply(lambda x : x.value_counts().index[0] if len(x.value_counts())==1 else None)"
   ]
  },
  {
   "cell_type": "code",
   "execution_count": 70,
   "id": "f13f1e0a-6ac1-4920-a272-3484ccbca886",
   "metadata": {
    "tags": []
   },
   "outputs": [],
   "source": [
    "train_data.loc[train_data.Airline.isna(),['Airline']] = train_data.loc[train_data.Airline.isna(), 'dt'].map(lambda x : trail[x])\n",
    "train_data.loc[train_data['Carrier_ID(DOT)'].isna(),['Carrier_ID(DOT)']] = train_data.loc[train_data['Carrier_ID(DOT)'].isna(), 'dt'].map(lambda x : airline.get(trail[x]))"
   ]
  },
  {
   "cell_type": "code",
   "execution_count": 71,
   "id": "02ac7588-c545-4999-9891-9e1a0287cd1e",
   "metadata": {
    "tags": []
   },
   "outputs": [
    {
     "data": {
      "text/plain": [
       "222"
      ]
     },
     "execution_count": 71,
     "metadata": {},
     "output_type": "execute_result"
    }
   ],
   "source": [
    "train_data['Carrier_ID(DOT)'].isna().sum()"
   ]
  },
  {
   "cell_type": "code",
   "execution_count": 72,
   "id": "a0ed89de-5e41-49ee-b09e-048e1f9f3fb5",
   "metadata": {
    "tags": []
   },
   "outputs": [],
   "source": [
    "train_data.drop('ot',axis=1, inplace=True)\n",
    "train_data.drop('dt',axis=1, inplace=True)"
   ]
  },
  {
   "cell_type": "markdown",
   "id": "4af7da6b-023a-49df-8a04-55b5c4e71202",
   "metadata": {},
   "source": [
    "> 빌려준적 있는 애중에서 그 state에서 출발한 항공사가 한개면 걔로 넣음"
   ]
  },
  {
   "cell_type": "markdown",
   "id": "b60f5d8a-3c36-40b3-b382-d72d349a905a",
   "metadata": {},
   "source": [
    "> 빌려준적 있는 애중에서 그 state에서 도착한 항공사가 한개면 걔로 넣음"
   ]
  },
  {
   "cell_type": "code",
   "execution_count": 73,
   "id": "c9eb1ca8-bb5e-473a-8506-d4e6abcf8e6c",
   "metadata": {
    "tags": []
   },
   "outputs": [],
   "source": [
    "train_data['os'] = train_data.loc[:,['Origin_State','Tail_Number']].apply(lambda x: '_'.join(x),axis=1)"
   ]
  },
  {
   "cell_type": "code",
   "execution_count": 74,
   "id": "5a4ee964-b5e7-4921-94f4-7771b0b294d0",
   "metadata": {
    "tags": []
   },
   "outputs": [],
   "source": [
    "train_data['ds'] = train_data.loc[:,['Origin_State','Tail_Number']].apply(lambda x: '_'.join(x),axis=1)"
   ]
  },
  {
   "cell_type": "code",
   "execution_count": 75,
   "id": "b3af2097-f622-4676-aac4-1e6b5b66fad7",
   "metadata": {
    "tags": []
   },
   "outputs": [],
   "source": [
    "trail = train_data.loc[train_data.os.isin(set(train_data.loc[train_data.Airline.isna(),'os']))].groupby(by='os').Airline.apply(lambda x : x.value_counts().index[0] if len(x.value_counts())==1 else None)"
   ]
  },
  {
   "cell_type": "code",
   "execution_count": 76,
   "id": "74565a73-7aa8-40f8-86a5-0ffbbfbd10bb",
   "metadata": {
    "tags": []
   },
   "outputs": [],
   "source": [
    "train_data.loc[train_data.Airline.isna(),['Airline']] = train_data.loc[train_data.Airline.isna(), 'os'].map(lambda x : trail[x])\n",
    "train_data.loc[train_data['Carrier_ID(DOT)'].isna(),['Carrier_ID(DOT)']] = train_data.loc[train_data['Carrier_ID(DOT)'].isna(), 'os'].map(lambda x : airline.get(trail[x]))"
   ]
  },
  {
   "cell_type": "code",
   "execution_count": 77,
   "id": "1cf3cddf-ccfa-4ed1-880f-284922194f05",
   "metadata": {
    "tags": []
   },
   "outputs": [
    {
     "data": {
      "text/plain": [
       "216"
      ]
     },
     "execution_count": 77,
     "metadata": {},
     "output_type": "execute_result"
    }
   ],
   "source": [
    "train_data['Carrier_ID(DOT)'].isna().sum()"
   ]
  },
  {
   "cell_type": "code",
   "execution_count": 78,
   "id": "c8a8c501-be1d-4066-ab0d-346bc68bdfb3",
   "metadata": {
    "tags": []
   },
   "outputs": [],
   "source": [
    "trail = train_data.loc[train_data.ds.isin(set(train_data.loc[train_data.Airline.isna(),'ds']))].groupby(by='ds').Airline.apply(lambda x : x.value_counts().index[0] if len(x.value_counts())==1 else None)"
   ]
  },
  {
   "cell_type": "code",
   "execution_count": 79,
   "id": "132f5206-851e-4f93-96f1-546c57ab2eda",
   "metadata": {
    "tags": []
   },
   "outputs": [],
   "source": [
    "train_data.loc[train_data.Airline.isna(),['Airline']] = train_data.loc[train_data.Airline.isna(), 'ds'].map(lambda x : trail[x])\n",
    "train_data.loc[train_data['Carrier_ID(DOT)'].isna(),['Carrier_ID(DOT)']] = train_data.loc[train_data['Carrier_ID(DOT)'].isna(), 'ds'].map(lambda x : airline.get(trail[x]))"
   ]
  },
  {
   "cell_type": "code",
   "execution_count": 80,
   "id": "d4823c40-0ec7-4054-a5d9-455dac9c80bd",
   "metadata": {
    "tags": []
   },
   "outputs": [
    {
     "data": {
      "text/plain": [
       "216"
      ]
     },
     "execution_count": 80,
     "metadata": {},
     "output_type": "execute_result"
    }
   ],
   "source": [
    "train_data['Carrier_ID(DOT)'].isna().sum()"
   ]
  },
  {
   "cell_type": "code",
   "execution_count": 81,
   "id": "9cd0e7df-1aec-428a-8a03-e4cdacc2f8e5",
   "metadata": {
    "tags": []
   },
   "outputs": [],
   "source": [
    "train_data.drop('os',axis=1, inplace=True)\n",
    "train_data.drop('ds',axis=1, inplace=True)"
   ]
  },
  {
   "cell_type": "markdown",
   "id": "d80f097b-720e-41b2-a013-99ba0db5ca17",
   "metadata": {},
   "source": [
    "> 나머지는 그냥 많이 쓰는 항공회사로 넣음"
   ]
  },
  {
   "cell_type": "code",
   "execution_count": 82,
   "id": "88e9f914-8e2b-44b7-ae9b-da73894b229b",
   "metadata": {
    "tags": []
   },
   "outputs": [],
   "source": [
    "trail = train_data.loc[train_data.Tail_Number.isin(set(train_data.loc[train_data.Airline.isna(),'Tail_Number']))].groupby(by='Tail_Number').Airline.apply(lambda x : x.value_counts().index[0])"
   ]
  },
  {
   "cell_type": "code",
   "execution_count": 83,
   "id": "604eda96-2993-4224-9240-0fc4ea135192",
   "metadata": {
    "tags": []
   },
   "outputs": [],
   "source": [
    "train_data.loc[train_data.Airline.isna(),['Airline']] = train_data.loc[train_data.Airline.isna(), 'Tail_Number'].map(lambda x : trail[x])\n",
    "train_data.loc[train_data['Carrier_ID(DOT)'].isna(),['Carrier_ID(DOT)']] = train_data.loc[train_data['Carrier_ID(DOT)'].isna(), 'Tail_Number'].map(lambda x : airline.get(trail[x]))"
   ]
  },
  {
   "cell_type": "code",
   "execution_count": 84,
   "id": "19a30403-2d0a-479f-827d-101d474abfda",
   "metadata": {
    "tags": []
   },
   "outputs": [
    {
     "data": {
      "text/plain": [
       "0"
      ]
     },
     "execution_count": 84,
     "metadata": {},
     "output_type": "execute_result"
    }
   ],
   "source": [
    "train_data['Airline'].isna().sum()"
   ]
  },
  {
   "cell_type": "code",
   "execution_count": 85,
   "id": "4c36fa55-8a59-413e-b941-ea9426c92fe8",
   "metadata": {
    "tags": []
   },
   "outputs": [
    {
     "name": "stdout",
     "output_type": "stream",
     "text": [
      "<class 'pandas.core.frame.DataFrame'>\n",
      "Index: 2000000 entries, 0 to 999999\n",
      "Data columns (total 17 columns):\n",
      " #   Column                    Non-Null Count    Dtype  \n",
      "---  ------                    --------------    -----  \n",
      " 0   ID                        2000000 non-null  object \n",
      " 1   Month                     2000000 non-null  int64  \n",
      " 2   Day_of_Month              2000000 non-null  int64  \n",
      " 3   Estimated_Departure_Time  1781997 non-null  float64\n",
      " 4   Estimated_Arrival_Time    1781912 non-null  float64\n",
      " 5   Origin_Airport            2000000 non-null  object \n",
      " 6   Origin_Airport_ID         2000000 non-null  int64  \n",
      " 7   Origin_State              2000000 non-null  object \n",
      " 8   Destination_Airport       2000000 non-null  object \n",
      " 9   Destination_Airport_ID    2000000 non-null  int64  \n",
      " 10  Destination_State         2000000 non-null  object \n",
      " 11  Distance                  2000000 non-null  float64\n",
      " 12  Airline                   2000000 non-null  object \n",
      " 13  Carrier_Code(IATA)        1782017 non-null  object \n",
      " 14  Carrier_ID(DOT)           2000000 non-null  object \n",
      " 15  Tail_Number               2000000 non-null  object \n",
      " 16  Delay                     255001 non-null   object \n",
      "dtypes: float64(3), int64(4), object(10)\n",
      "memory usage: 274.7+ MB\n"
     ]
    }
   ],
   "source": [
    "train_data.info(show_counts=True)"
   ]
  },
  {
   "cell_type": "code",
   "execution_count": 86,
   "id": "71a63bc4-b157-4b79-8111-f8a737c47456",
   "metadata": {
    "tags": []
   },
   "outputs": [
    {
     "data": {
      "text/plain": [
       "180285"
      ]
     },
     "execution_count": 86,
     "metadata": {},
     "output_type": "execute_result"
    }
   ],
   "source": [
    "len(train_data.dropna())"
   ]
  },
  {
   "cell_type": "markdown",
   "id": "8ebdeeec-f9d4-405a-93ba-2349fd05ea6b",
   "metadata": {},
   "source": [
    "## Estimated_Departure_Time"
   ]
  },
  {
   "cell_type": "markdown",
   "id": "9cb5477c-4ac7-4675-b8a5-11078188b8b5",
   "metadata": {},
   "source": [
    "시 분을 대충 평균 때리면 안되는 이유 :  \n",
    "11:50 - 00: 10 의 평균은 00 : 00 이지만 12시가 되어버림  \n",
    "각도로 계산해야함"
   ]
  },
  {
   "cell_type": "markdown",
   "id": "27a3a6bf-cb72-49b0-9466-fc3d8d565150",
   "metadata": {},
   "source": [
    "https://www.deeyook.com/post/circular-statistics-in-python-an-intuitive-intro"
   ]
  },
  {
   "cell_type": "code",
   "execution_count": 87,
   "id": "c4908591-dcd8-4aff-b97f-5423bffb7007",
   "metadata": {
    "tags": []
   },
   "outputs": [],
   "source": [
    "import math\n",
    "\n",
    "def time_to_radians(x):\n",
    "    radians = x / (24 * 60)  * 2.0 * math.pi # 2pi\n",
    "    return radians\n",
    "\n",
    "def mean_angle(angles):\n",
    "    angles = list(filter(np.isfinite,angles))\n",
    "    if len(angles) == 0:\n",
    "        return np.nan\n",
    "\n",
    "    x = list(map(math.sin, angles))\n",
    "    y = list(map(math.cos, angles))\n",
    "    x_mean = np.mean(x)\n",
    "    y_mean = np.mean(y) \n",
    "    avg = np.arctan2(x_mean, y_mean)\n",
    "  \n",
    "    return avg\n",
    "\n",
    "def std_angle(angles):\n",
    "    angles = list(filter(np.isfinite,angles))\n",
    "    if len(angles) == 0:\n",
    "        return np.nan\n",
    "    x = list(map(math.sin, angles))\n",
    "    y = list(map(math.cos, angles))\n",
    "    x_mean = np.mean(x)\n",
    "    y_mean = np.mean(y)\n",
    "    \n",
    "    R = math.sqrt(x_mean**2 + y_mean**2)\n",
    "    try:\n",
    "        std = math.sqrt(-2 * math.log(R))\n",
    "    except :\n",
    "        return 0\n",
    "    return std\n",
    "\n",
    "def radians_to_min(x):\n",
    "    if np.isnan(x):\n",
    "        return np.nan\n",
    "    if x < 0:\n",
    "        x += math.pi * 2\n",
    "    m = int(x / (2 * math.pi) * 24 * 60  ) \n",
    "    return m\n",
    "\n",
    "def radians_to_time(x):\n",
    "    if np.isnan(x):\n",
    "        return np.nan\n",
    "    if x < 0:\n",
    "        x += math.pi * 2\n",
    "    x = int(x / (2 * math.pi) * 24 * 60  ) \n",
    "    h, m = divmod(x, 60)\n",
    "    return 100 * h + m\n",
    "\n",
    "def time_to_min(x):\n",
    "    if np.isnan(x):\n",
    "        return np.nan\n",
    "    h, m = divmod(x, 100)\n",
    "    return 60 * h + m\n",
    "def min_to_time(x):\n",
    "    if np.isnan(x):\n",
    "        return np.nan\n",
    "    h, m = divmod(x, 60)\n",
    "    return h * 100 + m"
   ]
  },
  {
   "cell_type": "markdown",
   "id": "30a5b345-d620-452d-a934-a616f0875f6f",
   "metadata": {
    "tags": []
   },
   "source": [
    "Estimated_Departure_Time: 전산 시스템을 바탕으로 측정된 비행기의 출발 시간 (현지 시각, HH:MM 형식)   \n",
    "Estimated_Arrival_Time: 전산 시스템을 바탕으로 측정된 비행기의 도착 시간 (현지 시각, HH:MM 형식)  "
   ]
  },
  {
   "cell_type": "code",
   "execution_count": 88,
   "id": "2ec2b69f-fb99-45fb-bf8b-7efa83be4488",
   "metadata": {
    "tags": []
   },
   "outputs": [
    {
     "data": {
      "text/plain": [
       "218088"
      ]
     },
     "execution_count": 88,
     "metadata": {},
     "output_type": "execute_result"
    }
   ],
   "source": [
    "train_data.Estimated_Arrival_Time.isna().sum() # 도착 x"
   ]
  },
  {
   "cell_type": "code",
   "execution_count": 89,
   "id": "df3aa8f4-d6a9-4b70-9f29-3cee16aa65b5",
   "metadata": {
    "tags": []
   },
   "outputs": [
    {
     "data": {
      "text/plain": [
       "218003"
      ]
     },
     "execution_count": 89,
     "metadata": {},
     "output_type": "execute_result"
    }
   ],
   "source": [
    "train_data.Estimated_Departure_Time.isna().sum() # 출발 x"
   ]
  },
  {
   "cell_type": "code",
   "execution_count": 90,
   "id": "2a2b6e0c-f9dc-4c80-b512-1d4fb46dfeb2",
   "metadata": {
    "tags": []
   },
   "outputs": [
    {
     "data": {
      "text/plain": [
       "412475"
      ]
     },
     "execution_count": 90,
     "metadata": {},
     "output_type": "execute_result"
    }
   ],
   "source": [
    "(train_data.Estimated_Departure_Time.isna() | train_data.Estimated_Arrival_Time.isna()).sum() # 둘 중 하나 x"
   ]
  },
  {
   "cell_type": "code",
   "execution_count": 92,
   "id": "e4ceb06a-967b-4cfe-a8be-c5a4f4c82919",
   "metadata": {
    "tags": []
   },
   "outputs": [
    {
     "data": {
      "text/plain": [
       "23616"
      ]
     },
     "execution_count": 92,
     "metadata": {},
     "output_type": "execute_result"
    }
   ],
   "source": [
    "(train_data.Estimated_Departure_Time.isna() * train_data.Estimated_Arrival_Time.isna()).sum() # 둘 다 x"
   ]
  },
  {
   "cell_type": "code",
   "execution_count": 93,
   "id": "47339b42-ac75-410f-bcb2-93139fab82f2",
   "metadata": {
    "tags": []
   },
   "outputs": [
    {
     "data": {
      "text/plain": [
       "388859"
      ]
     },
     "execution_count": 93,
     "metadata": {},
     "output_type": "execute_result"
    }
   ],
   "source": [
    "# 둘 중 하나는 있\n",
    "((train_data.Estimated_Departure_Time.isna() & ~train_data.Estimated_Arrival_Time.isna()) | (~train_data.Estimated_Departure_Time.isna() & train_data.Estimated_Arrival_Time.isna())).sum()"
   ]
  },
  {
   "cell_type": "markdown",
   "id": "6b93fb1b-96fe-45af-aa77-ddaaea2e37a4",
   "metadata": {},
   "source": [
    "둘 중 하나라도 없는 경우 > 206371  \n",
    "둘 다 없는 경우 > 11688   \n",
    "둘 중 하나는 있는 경우 > 194683  \n",
    "94% 는 둘 중 하나라도 있음"
   ]
  },
  {
   "cell_type": "markdown",
   "id": "e1f6c6df-27b4-4d56-984b-e4122f292560",
   "metadata": {},
   "source": [
    "> 우선 도착 시간 출발 시간 둘 중에 하나만 이라도 있으면 걸린 시간으로 역산하자"
   ]
  },
  {
   "cell_type": "code",
   "execution_count": 94,
   "id": "95716c24-c643-4e75-a0da-e2425f31da96",
   "metadata": {
    "tags": []
   },
   "outputs": [],
   "source": [
    "train_data['ODA'] = train_data.Origin_Airport + '_' + train_data.Destination_Airport"
   ]
  },
  {
   "cell_type": "code",
   "execution_count": 95,
   "id": "7f7f6c8d-f8e9-4485-ba64-b41eed6a2133",
   "metadata": {
    "tags": []
   },
   "outputs": [],
   "source": [
    "import airporttime # https://pypi.org/project/airporttime/\n",
    "import datetime"
   ]
  },
  {
   "cell_type": "code",
   "execution_count": 96,
   "id": "1d3e76f5-a03d-422a-a5a2-71597f9ae972",
   "metadata": {
    "tags": []
   },
   "outputs": [],
   "source": [
    "airports_time = dict()"
   ]
  },
  {
   "cell_type": "code",
   "execution_count": 97,
   "id": "cdaf02af-89b2-446e-9613-ff5c2af243a2",
   "metadata": {
    "tags": []
   },
   "outputs": [],
   "source": [
    "for a in airports.keys():\n",
    "    at= airporttime.AirportTime(iata_code=a).airport.__dict__\n",
    "    # dst_offset => summer time \n",
    "    airports_time[a] = at['gmt_offset']\n",
    "# 현지시각 -> GMT 0 로 변환\n",
    "# 맹점 : 서머 타임이 적용되는가?"
   ]
  },
  {
   "cell_type": "code",
   "execution_count": 98,
   "id": "cf4bbebc-5441-498f-ab23-3524bc49955d",
   "metadata": {
    "tags": []
   },
   "outputs": [],
   "source": [
    "train_data['OA_offset'] = train_data.Origin_Airport.map(lambda x : eval(airports_time[x]))\n",
    "train_data['DA_offset'] = train_data.Destination_Airport.map(lambda x : eval(airports_time[x]))"
   ]
  },
  {
   "cell_type": "code",
   "execution_count": 87,
   "id": "1bc86b9c-8682-4e7d-a569-5e4f31fb637c",
   "metadata": {
    "tags": []
   },
   "outputs": [],
   "source": [
    "for _ in range(2):\n",
    "    train_data['Estimated_Departure_Time2'] = ((train_data.Estimated_Departure_Time.map(time_to_min) - (train_data.OA_offset * 60) + 24 * 60) % (24 * 60)).map(min_to_time)\n",
    "    train_data['Estimated_Arrival_Time2'] = ((train_data.Estimated_Arrival_Time.map(time_to_min) - (train_data.DA_offset * 60) + 24 * 60) % (24 * 60)).map(min_to_time)\n",
    "\n",
    "    train_data['Flying_Time'] = train_data.Estimated_Arrival_Time2.apply(time_to_min) -  train_data.Estimated_Departure_Time2.apply(time_to_min) \n",
    "    # under_0 = train_data.loc[train_data.Flying_Time < 0].index\n",
    "    train_data.loc[train_data.Flying_Time < 0,'Flying_Time' ] += 24 * 60\n",
    "\n",
    "    oda_std = train_data.groupby(by='ODA').Flying_Time.std()\n",
    "    train_data['ODA_std'] =  train_data.ODA.apply(lambda x :oda_std[x])\n",
    "    oda_mean = train_data.groupby(by='ODA').Flying_Time.mean()\n",
    "    train_data['ODA_mean'] = train_data.ODA.apply(lambda x :oda_mean[x])\n",
    "    \n",
    "    train_data.loc[(((train_data.Flying_Time < train_data.ODA_mean -2*train_data.ODA_std))|(train_data.Flying_Time > train_data.ODA_mean + 2*train_data.ODA_std)) & (train_data.ODA_std > 20),'Estimated_Arrival_Time'] = np.NaN"
   ]
  },
  {
   "cell_type": "code",
   "execution_count": 88,
   "id": "ac255b52-4412-4b4c-ab6a-c518dbbe263d",
   "metadata": {
    "tags": []
   },
   "outputs": [],
   "source": [
    "train_data['Estimated_Departure_Time2'] = ((train_data.Estimated_Departure_Time.map(time_to_min) - (train_data.OA_offset * 60) + 24 * 60) % (24 * 60)).map(min_to_time)\n",
    "train_data['Estimated_Arrival_Time2'] = ((train_data.Estimated_Arrival_Time.map(time_to_min) - (train_data.DA_offset * 60) + 24 * 60) % (24 * 60)).map(min_to_time)"
   ]
  },
  {
   "cell_type": "code",
   "execution_count": 89,
   "id": "edf89420-cc26-4d69-9955-0ad092d69698",
   "metadata": {
    "tags": []
   },
   "outputs": [
    {
     "data": {
      "text/plain": [
       "<Axes: >"
      ]
     },
     "execution_count": 89,
     "metadata": {},
     "output_type": "execute_result"
    },
    {
     "data": {
      "image/png": "[encoded data removed]",
      "text/plain": [
       "<Figure size 640x480 with 1 Axes>"
      ]
     },
     "metadata": {},
     "output_type": "display_data"
    }
   ],
   "source": [
    "train_data.groupby(by='ODA').ODA_std.mean().hist()"
   ]
  },
  {
   "cell_type": "code",
   "execution_count": 90,
   "id": "a6b4ed5f-942b-4ade-925b-71a6758844b1",
   "metadata": {
    "tags": []
   },
   "outputs": [
    {
     "data": {
      "text/plain": [
       "<Axes: >"
      ]
     },
     "execution_count": 90,
     "metadata": {},
     "output_type": "execute_result"
    },
    {
     "data": {
      "image/png": "[encoded data removed]",
      "text/plain": [
       "<Figure size 640x480 with 1 Axes>"
      ]
     },
     "metadata": {},
     "output_type": "display_data"
    }
   ],
   "source": [
    "train_data.groupby(by='ODA').ODA_std.mean().hist()"
   ]
  },
  {
   "cell_type": "code",
   "execution_count": 91,
   "id": "957321b3-6507-406c-95e9-6122c4664e6d",
   "metadata": {
    "tags": []
   },
   "outputs": [],
   "source": [
    "DoAx = ~train_data.Estimated_Departure_Time2.isna() & train_data.Estimated_Arrival_Time2.isna()"
   ]
  },
  {
   "cell_type": "code",
   "execution_count": 92,
   "id": "598886d3-5151-4cf7-902d-705b7cb0a35d",
   "metadata": {
    "tags": []
   },
   "outputs": [
    {
     "data": {
      "text/plain": [
       "194832"
      ]
     },
     "execution_count": 92,
     "metadata": {},
     "output_type": "execute_result"
    }
   ],
   "source": [
    "(~train_data.Estimated_Departure_Time.isna() & train_data.Estimated_Arrival_Time.isna()).sum()"
   ]
  },
  {
   "cell_type": "code",
   "execution_count": 93,
   "id": "3d538543-8471-4a68-8a56-66b3af66da9d",
   "metadata": {
    "tags": []
   },
   "outputs": [
    {
     "data": {
      "text/plain": [
       "194832"
      ]
     },
     "execution_count": 93,
     "metadata": {},
     "output_type": "execute_result"
    }
   ],
   "source": [
    "DoAx.sum()"
   ]
  },
  {
   "cell_type": "code",
   "execution_count": 94,
   "id": "c14450aa-54b3-456d-a2d3-6a1f4ed51991",
   "metadata": {
    "tags": []
   },
   "outputs": [],
   "source": [
    "train_data.loc[DoAx,'Estimated_Arrival_Time'] = (( train_data.loc[DoAx,'Estimated_Departure_Time2'].map(time_to_min) + train_data.loc[DoAx,'ODA_mean'] + (train_data.loc[DoAx,'DA_offset'] * 60) + 24 * 60) % (24 * 60)).map(min_to_time)"
   ]
  },
  {
   "cell_type": "code",
   "execution_count": 95,
   "id": "00d6e5ba-c911-4fa0-934f-51b3ec42adea",
   "metadata": {
    "tags": []
   },
   "outputs": [],
   "source": [
    "train_data['Estimated_Departure_Time2'] = ((train_data.Estimated_Departure_Time.map(time_to_min) - (train_data.OA_offset * 60) + 24 * 60) % (24 * 60)).map(min_to_time)\n",
    "train_data['Estimated_Arrival_Time2'] = ((train_data.Estimated_Arrival_Time.map(time_to_min) - (train_data.DA_offset * 60) + 24 * 60) % (24 * 60)).map(min_to_time)"
   ]
  },
  {
   "cell_type": "code",
   "execution_count": 96,
   "id": "88bb1860-a1f6-425a-bc3a-3dde505fb833",
   "metadata": {
    "tags": []
   },
   "outputs": [
    {
     "data": {
      "text/html": [
       "<div>\n",
       "<style scoped>\n",
       "    .dataframe tbody tr th:only-of-type {\n",
       "        vertical-align: middle;\n",
       "    }\n",
       "\n",
       "    .dataframe tbody tr th {\n",
       "        vertical-align: top;\n",
       "    }\n",
       "\n",
       "    .dataframe thead th {\n",
       "        text-align: right;\n",
       "    }\n",
       "</style>\n",
       "<table border=\"1\" class=\"dataframe\">\n",
       "  <thead>\n",
       "    <tr style=\"text-align: right;\">\n",
       "      <th></th>\n",
       "      <th>ID</th>\n",
       "      <th>Month</th>\n",
       "      <th>Day_of_Month</th>\n",
       "      <th>Estimated_Departure_Time</th>\n",
       "      <th>Estimated_Arrival_Time</th>\n",
       "      <th>Origin_Airport</th>\n",
       "      <th>Origin_Airport_ID</th>\n",
       "      <th>Origin_State</th>\n",
       "      <th>Destination_Airport</th>\n",
       "      <th>Destination_Airport_ID</th>\n",
       "      <th>...</th>\n",
       "      <th>Tail_Number</th>\n",
       "      <th>Delay</th>\n",
       "      <th>ODA</th>\n",
       "      <th>OA_offset</th>\n",
       "      <th>DA_offset</th>\n",
       "      <th>Estimated_Departure_Time2</th>\n",
       "      <th>Estimated_Arrival_Time2</th>\n",
       "      <th>Flying_Time</th>\n",
       "      <th>ODA_std</th>\n",
       "      <th>ODA_mean</th>\n",
       "    </tr>\n",
       "  </thead>\n",
       "  <tbody>\n",
       "    <tr>\n",
       "      <th>5</th>\n",
       "      <td>TRAIN_000005</td>\n",
       "      <td>4</td>\n",
       "      <td>13</td>\n",
       "      <td>1545.0</td>\n",
       "      <td>1706.918110</td>\n",
       "      <td>EWR</td>\n",
       "      <td>11618</td>\n",
       "      <td>New Jersey</td>\n",
       "      <td>DCA</td>\n",
       "      <td>11278</td>\n",
       "      <td>...</td>\n",
       "      <td>N657RW</td>\n",
       "      <td>Not_Delayed</td>\n",
       "      <td>EWR_DCA</td>\n",
       "      <td>-5.0</td>\n",
       "      <td>-5.0</td>\n",
       "      <td>2045.0</td>\n",
       "      <td>2206.918110</td>\n",
       "      <td>NaN</td>\n",
       "      <td>5.720865</td>\n",
       "      <td>81.918110</td>\n",
       "    </tr>\n",
       "    <tr>\n",
       "      <th>20</th>\n",
       "      <td>TRAIN_000020</td>\n",
       "      <td>7</td>\n",
       "      <td>2</td>\n",
       "      <td>620.0</td>\n",
       "      <td>747.502894</td>\n",
       "      <td>BWI</td>\n",
       "      <td>10821</td>\n",
       "      <td>Maryland</td>\n",
       "      <td>BOS</td>\n",
       "      <td>10721</td>\n",
       "      <td>...</td>\n",
       "      <td>N292WN</td>\n",
       "      <td>NaN</td>\n",
       "      <td>BWI_BOS</td>\n",
       "      <td>-5.0</td>\n",
       "      <td>-5.0</td>\n",
       "      <td>1120.0</td>\n",
       "      <td>1247.502894</td>\n",
       "      <td>NaN</td>\n",
       "      <td>4.835864</td>\n",
       "      <td>87.502894</td>\n",
       "    </tr>\n",
       "    <tr>\n",
       "      <th>24</th>\n",
       "      <td>TRAIN_000024</td>\n",
       "      <td>11</td>\n",
       "      <td>28</td>\n",
       "      <td>1030.0</td>\n",
       "      <td>1056.751825</td>\n",
       "      <td>TPA</td>\n",
       "      <td>15304</td>\n",
       "      <td>Florida</td>\n",
       "      <td>BHM</td>\n",
       "      <td>10599</td>\n",
       "      <td>...</td>\n",
       "      <td>N921WN</td>\n",
       "      <td>NaN</td>\n",
       "      <td>TPA_BHM</td>\n",
       "      <td>-5.0</td>\n",
       "      <td>-6.0</td>\n",
       "      <td>1530.0</td>\n",
       "      <td>1656.751825</td>\n",
       "      <td>NaN</td>\n",
       "      <td>3.461513</td>\n",
       "      <td>86.751825</td>\n",
       "    </tr>\n",
       "    <tr>\n",
       "      <th>28</th>\n",
       "      <td>TRAIN_000028</td>\n",
       "      <td>8</td>\n",
       "      <td>7</td>\n",
       "      <td>930.0</td>\n",
       "      <td>1046.759303</td>\n",
       "      <td>SAN</td>\n",
       "      <td>14679</td>\n",
       "      <td>California</td>\n",
       "      <td>LAS</td>\n",
       "      <td>12889</td>\n",
       "      <td>...</td>\n",
       "      <td>N628NK</td>\n",
       "      <td>Not_Delayed</td>\n",
       "      <td>SAN_LAS</td>\n",
       "      <td>-8.0</td>\n",
       "      <td>-8.0</td>\n",
       "      <td>1730.0</td>\n",
       "      <td>1846.759303</td>\n",
       "      <td>NaN</td>\n",
       "      <td>7.332213</td>\n",
       "      <td>76.759303</td>\n",
       "    </tr>\n",
       "    <tr>\n",
       "      <th>29</th>\n",
       "      <td>TRAIN_000029</td>\n",
       "      <td>10</td>\n",
       "      <td>20</td>\n",
       "      <td>800.0</td>\n",
       "      <td>1042.595238</td>\n",
       "      <td>SEA</td>\n",
       "      <td>14747</td>\n",
       "      <td>Washington</td>\n",
       "      <td>ANC</td>\n",
       "      <td>10299</td>\n",
       "      <td>...</td>\n",
       "      <td>N457AS</td>\n",
       "      <td>NaN</td>\n",
       "      <td>SEA_ANC</td>\n",
       "      <td>-8.0</td>\n",
       "      <td>-9.0</td>\n",
       "      <td>1600.0</td>\n",
       "      <td>1942.595238</td>\n",
       "      <td>NaN</td>\n",
       "      <td>8.101669</td>\n",
       "      <td>222.595238</td>\n",
       "    </tr>\n",
       "    <tr>\n",
       "      <th>...</th>\n",
       "      <td>...</td>\n",
       "      <td>...</td>\n",
       "      <td>...</td>\n",
       "      <td>...</td>\n",
       "      <td>...</td>\n",
       "      <td>...</td>\n",
       "      <td>...</td>\n",
       "      <td>...</td>\n",
       "      <td>...</td>\n",
       "      <td>...</td>\n",
       "      <td>...</td>\n",
       "      <td>...</td>\n",
       "      <td>...</td>\n",
       "      <td>...</td>\n",
       "      <td>...</td>\n",
       "      <td>...</td>\n",
       "      <td>...</td>\n",
       "      <td>...</td>\n",
       "      <td>...</td>\n",
       "      <td>...</td>\n",
       "      <td>...</td>\n",
       "    </tr>\n",
       "    <tr>\n",
       "      <th>999931</th>\n",
       "      <td>TEST_999931</td>\n",
       "      <td>11</td>\n",
       "      <td>15</td>\n",
       "      <td>800.0</td>\n",
       "      <td>1043.665370</td>\n",
       "      <td>SEA</td>\n",
       "      <td>14747</td>\n",
       "      <td>Washington</td>\n",
       "      <td>PSP</td>\n",
       "      <td>14262</td>\n",
       "      <td>...</td>\n",
       "      <td>N285AK</td>\n",
       "      <td>NaN</td>\n",
       "      <td>SEA_PSP</td>\n",
       "      <td>-8.0</td>\n",
       "      <td>-8.0</td>\n",
       "      <td>1600.0</td>\n",
       "      <td>1843.665370</td>\n",
       "      <td>NaN</td>\n",
       "      <td>7.285265</td>\n",
       "      <td>163.665370</td>\n",
       "    </tr>\n",
       "    <tr>\n",
       "      <th>999933</th>\n",
       "      <td>TEST_999933</td>\n",
       "      <td>3</td>\n",
       "      <td>5</td>\n",
       "      <td>1334.0</td>\n",
       "      <td>1448.485169</td>\n",
       "      <td>DFW</td>\n",
       "      <td>11298</td>\n",
       "      <td>Texas</td>\n",
       "      <td>LIT</td>\n",
       "      <td>12992</td>\n",
       "      <td>...</td>\n",
       "      <td>N602NN</td>\n",
       "      <td>NaN</td>\n",
       "      <td>DFW_LIT</td>\n",
       "      <td>-6.0</td>\n",
       "      <td>-6.0</td>\n",
       "      <td>1934.0</td>\n",
       "      <td>2048.485169</td>\n",
       "      <td>NaN</td>\n",
       "      <td>4.330776</td>\n",
       "      <td>74.485169</td>\n",
       "    </tr>\n",
       "    <tr>\n",
       "      <th>999961</th>\n",
       "      <td>TEST_999961</td>\n",
       "      <td>6</td>\n",
       "      <td>2</td>\n",
       "      <td>600.0</td>\n",
       "      <td>713.790244</td>\n",
       "      <td>PHL</td>\n",
       "      <td>14100</td>\n",
       "      <td>Pennsylvania</td>\n",
       "      <td>MDW</td>\n",
       "      <td>13232</td>\n",
       "      <td>...</td>\n",
       "      <td>N8514F</td>\n",
       "      <td>NaN</td>\n",
       "      <td>PHL_MDW</td>\n",
       "      <td>-5.0</td>\n",
       "      <td>-6.0</td>\n",
       "      <td>1100.0</td>\n",
       "      <td>1313.790244</td>\n",
       "      <td>NaN</td>\n",
       "      <td>6.763551</td>\n",
       "      <td>133.790244</td>\n",
       "    </tr>\n",
       "    <tr>\n",
       "      <th>999984</th>\n",
       "      <td>TEST_999984</td>\n",
       "      <td>5</td>\n",
       "      <td>31</td>\n",
       "      <td>1045.0</td>\n",
       "      <td>1202.361842</td>\n",
       "      <td>ANC</td>\n",
       "      <td>10299</td>\n",
       "      <td>Alaska</td>\n",
       "      <td>BET</td>\n",
       "      <td>10551</td>\n",
       "      <td>...</td>\n",
       "      <td>N614AS</td>\n",
       "      <td>NaN</td>\n",
       "      <td>ANC_BET</td>\n",
       "      <td>-9.0</td>\n",
       "      <td>-9.0</td>\n",
       "      <td>1945.0</td>\n",
       "      <td>2102.361842</td>\n",
       "      <td>NaN</td>\n",
       "      <td>5.290939</td>\n",
       "      <td>77.361842</td>\n",
       "    </tr>\n",
       "    <tr>\n",
       "      <th>999991</th>\n",
       "      <td>TEST_999991</td>\n",
       "      <td>9</td>\n",
       "      <td>24</td>\n",
       "      <td>2140.0</td>\n",
       "      <td>602.088722</td>\n",
       "      <td>SEA</td>\n",
       "      <td>14747</td>\n",
       "      <td>Washington</td>\n",
       "      <td>JFK</td>\n",
       "      <td>12478</td>\n",
       "      <td>...</td>\n",
       "      <td>N273AK</td>\n",
       "      <td>NaN</td>\n",
       "      <td>SEA_JFK</td>\n",
       "      <td>-8.0</td>\n",
       "      <td>-5.0</td>\n",
       "      <td>540.0</td>\n",
       "      <td>1102.088722</td>\n",
       "      <td>NaN</td>\n",
       "      <td>10.472840</td>\n",
       "      <td>322.088722</td>\n",
       "    </tr>\n",
       "  </tbody>\n",
       "</table>\n",
       "<p>194832 rows × 25 columns</p>\n",
       "</div>"
      ],
      "text/plain": [
       "                  ID  Month  Day_of_Month  Estimated_Departure_Time   \n",
       "5       TRAIN_000005      4            13                    1545.0  \\\n",
       "20      TRAIN_000020      7             2                     620.0   \n",
       "24      TRAIN_000024     11            28                    1030.0   \n",
       "28      TRAIN_000028      8             7                     930.0   \n",
       "29      TRAIN_000029     10            20                     800.0   \n",
       "...              ...    ...           ...                       ...   \n",
       "999931   TEST_999931     11            15                     800.0   \n",
       "999933   TEST_999933      3             5                    1334.0   \n",
       "999961   TEST_999961      6             2                     600.0   \n",
       "999984   TEST_999984      5            31                    1045.0   \n",
       "999991   TEST_999991      9            24                    2140.0   \n",
       "\n",
       "        Estimated_Arrival_Time Origin_Airport  Origin_Airport_ID   \n",
       "5                  1706.918110            EWR              11618  \\\n",
       "20                  747.502894            BWI              10821   \n",
       "24                 1056.751825            TPA              15304   \n",
       "28                 1046.759303            SAN              14679   \n",
       "29                 1042.595238            SEA              14747   \n",
       "...                        ...            ...                ...   \n",
       "999931             1043.665370            SEA              14747   \n",
       "999933             1448.485169            DFW              11298   \n",
       "999961              713.790244            PHL              14100   \n",
       "999984             1202.361842            ANC              10299   \n",
       "999991              602.088722            SEA              14747   \n",
       "\n",
       "        Origin_State Destination_Airport  Destination_Airport_ID  ...   \n",
       "5         New Jersey                 DCA                   11278  ...  \\\n",
       "20          Maryland                 BOS                   10721  ...   \n",
       "24           Florida                 BHM                   10599  ...   \n",
       "28        California                 LAS                   12889  ...   \n",
       "29        Washington                 ANC                   10299  ...   \n",
       "...              ...                 ...                     ...  ...   \n",
       "999931    Washington                 PSP                   14262  ...   \n",
       "999933         Texas                 LIT                   12992  ...   \n",
       "999961  Pennsylvania                 MDW                   13232  ...   \n",
       "999984        Alaska                 BET                   10551  ...   \n",
       "999991    Washington                 JFK                   12478  ...   \n",
       "\n",
       "       Tail_Number        Delay      ODA OA_offset DA_offset   \n",
       "5           N657RW  Not_Delayed  EWR_DCA      -5.0      -5.0  \\\n",
       "20          N292WN          NaN  BWI_BOS      -5.0      -5.0   \n",
       "24          N921WN          NaN  TPA_BHM      -5.0      -6.0   \n",
       "28          N628NK  Not_Delayed  SAN_LAS      -8.0      -8.0   \n",
       "29          N457AS          NaN  SEA_ANC      -8.0      -9.0   \n",
       "...            ...          ...      ...       ...       ...   \n",
       "999931      N285AK          NaN  SEA_PSP      -8.0      -8.0   \n",
       "999933      N602NN          NaN  DFW_LIT      -6.0      -6.0   \n",
       "999961      N8514F          NaN  PHL_MDW      -5.0      -6.0   \n",
       "999984      N614AS          NaN  ANC_BET      -9.0      -9.0   \n",
       "999991      N273AK          NaN  SEA_JFK      -8.0      -5.0   \n",
       "\n",
       "       Estimated_Departure_Time2 Estimated_Arrival_Time2 Flying_Time   \n",
       "5                         2045.0             2206.918110         NaN  \\\n",
       "20                        1120.0             1247.502894         NaN   \n",
       "24                        1530.0             1656.751825         NaN   \n",
       "28                        1730.0             1846.759303         NaN   \n",
       "29                        1600.0             1942.595238         NaN   \n",
       "...                          ...                     ...         ...   \n",
       "999931                    1600.0             1843.665370         NaN   \n",
       "999933                    1934.0             2048.485169         NaN   \n",
       "999961                    1100.0             1313.790244         NaN   \n",
       "999984                    1945.0             2102.361842         NaN   \n",
       "999991                     540.0             1102.088722         NaN   \n",
       "\n",
       "          ODA_std    ODA_mean  \n",
       "5        5.720865   81.918110  \n",
       "20       4.835864   87.502894  \n",
       "24       3.461513   86.751825  \n",
       "28       7.332213   76.759303  \n",
       "29       8.101669  222.595238  \n",
       "...           ...         ...  \n",
       "999931   7.285265  163.665370  \n",
       "999933   4.330776   74.485169  \n",
       "999961   6.763551  133.790244  \n",
       "999984   5.290939   77.361842  \n",
       "999991  10.472840  322.088722  \n",
       "\n",
       "[194832 rows x 25 columns]"
      ]
     },
     "execution_count": 96,
     "metadata": {},
     "output_type": "execute_result"
    }
   ],
   "source": [
    "train_data[DoAx]"
   ]
  },
  {
   "cell_type": "code",
   "execution_count": 97,
   "id": "059fc9da-0963-4c80-986b-3fb7018a998e",
   "metadata": {
    "tags": []
   },
   "outputs": [],
   "source": [
    "DxAo = train_data.Estimated_Departure_Time2.isna() & ~train_data.Estimated_Arrival_Time2.isna()"
   ]
  },
  {
   "cell_type": "code",
   "execution_count": 98,
   "id": "577e08db-7322-4202-aab8-61b421cd110c",
   "metadata": {
    "tags": []
   },
   "outputs": [
    {
     "data": {
      "text/plain": [
       "194387"
      ]
     },
     "execution_count": 98,
     "metadata": {},
     "output_type": "execute_result"
    }
   ],
   "source": [
    "(train_data.Estimated_Departure_Time.isna() & ~train_data.Estimated_Arrival_Time.isna()).sum()"
   ]
  },
  {
   "cell_type": "code",
   "execution_count": 99,
   "id": "97efbfd0-3cd0-411c-bb80-aae4954357d8",
   "metadata": {
    "tags": []
   },
   "outputs": [
    {
     "data": {
      "text/plain": [
       "194387"
      ]
     },
     "execution_count": 99,
     "metadata": {},
     "output_type": "execute_result"
    }
   ],
   "source": [
    "DxAo.sum()"
   ]
  },
  {
   "cell_type": "code",
   "execution_count": 100,
   "id": "8296c283-901c-4d9c-b940-cca3f1cd188f",
   "metadata": {
    "tags": []
   },
   "outputs": [],
   "source": [
    "train_data.loc[DxAo,'Estimated_Departure_Time'] = (( train_data.loc[DxAo,'Estimated_Arrival_Time2'].map(time_to_min) - train_data.loc[DxAo,'ODA_mean'] + (train_data.loc[DxAo,'OA_offset'] * 60) + 24 * 60) % (24 * 60)).map(min_to_time)"
   ]
  },
  {
   "cell_type": "code",
   "execution_count": 101,
   "id": "169ebca4-3b8d-4ead-8540-2b9165280f9c",
   "metadata": {
    "tags": []
   },
   "outputs": [],
   "source": [
    "train_data['Estimated_Departure_Time2'] = ((train_data.Estimated_Departure_Time.map(time_to_min) - (train_data.OA_offset * 60) + 24 * 60) % (24 * 60)).map(min_to_time)\n",
    "train_data['Estimated_Arrival_Time2'] = ((train_data.Estimated_Arrival_Time.map(time_to_min) - (train_data.DA_offset * 60) + 24 * 60) % (24 * 60)).map(min_to_time)"
   ]
  },
  {
   "cell_type": "code",
   "execution_count": 102,
   "id": "334cd8a7-ba05-4e26-a01c-1b8777ca83cc",
   "metadata": {
    "tags": []
   },
   "outputs": [
    {
     "data": {
      "text/plain": [
       "180262"
      ]
     },
     "execution_count": 102,
     "metadata": {},
     "output_type": "execute_result"
    }
   ],
   "source": [
    "len(train_data.dropna())"
   ]
  },
  {
   "cell_type": "code",
   "execution_count": 103,
   "id": "87ca8cbd-c4b3-4901-bebf-cfeab61c64bf",
   "metadata": {
    "tags": []
   },
   "outputs": [
    {
     "name": "stdout",
     "output_type": "stream",
     "text": [
      "<class 'pandas.core.frame.DataFrame'>\n",
      "Index: 2000000 entries, 0 to 999999\n",
      "Data columns (total 25 columns):\n",
      " #   Column                     Non-Null Count    Dtype  \n",
      "---  ------                     --------------    -----  \n",
      " 0   ID                         2000000 non-null  object \n",
      " 1   Month                      2000000 non-null  int64  \n",
      " 2   Day_of_Month               2000000 non-null  int64  \n",
      " 3   Estimated_Departure_Time   1976376 non-null  float64\n",
      " 4   Estimated_Arrival_Time     1976374 non-null  float64\n",
      " 5   Origin_Airport             2000000 non-null  object \n",
      " 6   Origin_Airport_ID          2000000 non-null  int64  \n",
      " 7   Origin_State               2000000 non-null  object \n",
      " 8   Destination_Airport        2000000 non-null  object \n",
      " 9   Destination_Airport_ID     2000000 non-null  int64  \n",
      " 10  Destination_State          2000000 non-null  object \n",
      " 11  Distance                   2000000 non-null  float64\n",
      " 12  Airline                    2000000 non-null  object \n",
      " 13  Carrier_Code(IATA)         1782017 non-null  object \n",
      " 14  Carrier_ID(DOT)            2000000 non-null  object \n",
      " 15  Tail_Number                2000000 non-null  object \n",
      " 16  Delay                      255001 non-null   object \n",
      " 17  ODA                        2000000 non-null  object \n",
      " 18  OA_offset                  2000000 non-null  float64\n",
      " 19  DA_offset                  2000000 non-null  float64\n",
      " 20  Estimated_Departure_Time2  1976376 non-null  float64\n",
      " 21  Estimated_Arrival_Time2    1976374 non-null  float64\n",
      " 22  Flying_Time                1587218 non-null  float64\n",
      " 23  ODA_std                    1999843 non-null  float64\n",
      " 24  ODA_mean                   1999981 non-null  float64\n",
      "dtypes: float64(10), int64(4), object(11)\n",
      "memory usage: 396.7+ MB\n"
     ]
    }
   ],
   "source": [
    "train_data.info(show_counts=True)"
   ]
  },
  {
   "cell_type": "code",
   "execution_count": 104,
   "id": "7207346a-65b8-497c-a307-a0b32058b971",
   "metadata": {
    "tags": []
   },
   "outputs": [
    {
     "data": {
      "text/plain": [
       "23626"
      ]
     },
     "execution_count": 104,
     "metadata": {},
     "output_type": "execute_result"
    }
   ],
   "source": [
    "train_data.Estimated_Arrival_Time.isna().sum() # 도착 x"
   ]
  },
  {
   "cell_type": "code",
   "execution_count": 105,
   "id": "05c8b221-a9a1-4070-adfa-388b2a58ba40",
   "metadata": {
    "tags": []
   },
   "outputs": [
    {
     "data": {
      "text/plain": [
       "23624"
      ]
     },
     "execution_count": 105,
     "metadata": {},
     "output_type": "execute_result"
    }
   ],
   "source": [
    "train_data.Estimated_Departure_Time.isna().sum() # 출발 x"
   ]
  },
  {
   "cell_type": "code",
   "execution_count": 106,
   "id": "a2105733-82df-4dc3-a3db-74481b2bebba",
   "metadata": {
    "tags": []
   },
   "outputs": [],
   "source": [
    "DxAx = train_data.Estimated_Departure_Time.isna() | train_data.Estimated_Arrival_Time.isna()"
   ]
  },
  {
   "cell_type": "code",
   "execution_count": 107,
   "id": "e167fece-088a-478a-ac76-170213574cb6",
   "metadata": {
    "tags": []
   },
   "outputs": [
    {
     "data": {
      "text/plain": [
       "23634"
      ]
     },
     "execution_count": 107,
     "metadata": {},
     "output_type": "execute_result"
    }
   ],
   "source": [
    "(train_data.Estimated_Departure_Time.isna() | train_data.Estimated_Arrival_Time.isna()).sum() # 둘 중 하나 x"
   ]
  },
  {
   "cell_type": "code",
   "execution_count": 108,
   "id": "a5cab607-71a0-458a-ab21-2f98f1b021f0",
   "metadata": {
    "tags": []
   },
   "outputs": [
    {
     "data": {
      "text/plain": [
       "23616"
      ]
     },
     "execution_count": 108,
     "metadata": {},
     "output_type": "execute_result"
    }
   ],
   "source": [
    "(train_data.Estimated_Departure_Time.isna() * train_data.Estimated_Arrival_Time.isna()).sum() # 둘 다 x"
   ]
  },
  {
   "cell_type": "code",
   "execution_count": 109,
   "id": "309f58a4-0e97-4f0b-8f48-7faf2a122262",
   "metadata": {
    "tags": []
   },
   "outputs": [
    {
     "data": {
      "text/plain": [
       "18"
      ]
     },
     "execution_count": 109,
     "metadata": {},
     "output_type": "execute_result"
    }
   ],
   "source": [
    "# 둘 중 하나는 있\n",
    "((train_data.Estimated_Departure_Time.isna() & ~train_data.Estimated_Arrival_Time.isna()) | (~train_data.Estimated_Departure_Time.isna() & train_data.Estimated_Arrival_Time.isna())).sum()"
   ]
  },
  {
   "cell_type": "code",
   "execution_count": 110,
   "id": "33a12446-6594-49ae-abde-89498ded477f",
   "metadata": {},
   "outputs": [],
   "source": [
    "# <<중요>> 할일\n",
    "# 둘다 없는 11688의 경우 그냥 A-to-B 출발 시간의 평균"
   ]
  },
  {
   "cell_type": "code",
   "execution_count": 111,
   "id": "fe3e423a-df6b-46d7-b492-d69ba59fc3e3",
   "metadata": {
    "tags": []
   },
   "outputs": [],
   "source": [
    "train_data.loc[:,'Estimated_Arrival_Time3'] = train_data.Estimated_Arrival_Time2.apply(time_to_radians)\n",
    "train_data.loc[:,'Estimated_Departure_Time3'] = train_data.Estimated_Departure_Time2.apply(time_to_radians)\n",
    "# 분 -> radian"
   ]
  },
  {
   "cell_type": "code",
   "execution_count": 112,
   "id": "8c6bcb5e-fb63-4a7d-a750-7df02fb8b2af",
   "metadata": {
    "tags": []
   },
   "outputs": [],
   "source": [
    "a3mean = train_data.groupby(by='ODA').Estimated_Arrival_Time3.apply(mean_angle).apply(radians_to_time)\n",
    "a3std = train_data.groupby(by='ODA').Estimated_Arrival_Time3.apply(std_angle).apply(radians_to_time)\n",
    "d3mean = train_data.groupby(by='ODA').Estimated_Departure_Time3.apply(mean_angle).apply(radians_to_time)\n",
    "d3std = train_data.groupby(by='ODA').Estimated_Departure_Time3.apply(std_angle).apply(radians_to_time)"
   ]
  },
  {
   "cell_type": "code",
   "execution_count": 113,
   "id": "404bf927-0b2f-46c1-81ff-0f54badf8fbd",
   "metadata": {
    "tags": []
   },
   "outputs": [],
   "source": [
    "train_data['a3mean'] = train_data.ODA.apply(lambda x :a3mean[x])\n",
    "train_data['a3std'] = train_data.ODA.apply(lambda x :a3std[x])\n",
    "train_data['d3mean'] = train_data.ODA.apply(lambda x :d3mean[x])\n",
    "train_data['d3std'] = train_data.ODA.apply(lambda x :d3std[x])"
   ]
  },
  {
   "cell_type": "code",
   "execution_count": 114,
   "id": "ae58dbd2-ad9f-41f3-a168-4181f4ef2051",
   "metadata": {
    "tags": []
   },
   "outputs": [
    {
     "data": {
      "text/html": [
       "<div>\n",
       "<style scoped>\n",
       "    .dataframe tbody tr th:only-of-type {\n",
       "        vertical-align: middle;\n",
       "    }\n",
       "\n",
       "    .dataframe tbody tr th {\n",
       "        vertical-align: top;\n",
       "    }\n",
       "\n",
       "    .dataframe thead th {\n",
       "        text-align: right;\n",
       "    }\n",
       "</style>\n",
       "<table border=\"1\" class=\"dataframe\">\n",
       "  <thead>\n",
       "    <tr style=\"text-align: right;\">\n",
       "      <th></th>\n",
       "      <th>ID</th>\n",
       "      <th>Month</th>\n",
       "      <th>Day_of_Month</th>\n",
       "      <th>Estimated_Departure_Time</th>\n",
       "      <th>Estimated_Arrival_Time</th>\n",
       "      <th>Origin_Airport</th>\n",
       "      <th>Origin_Airport_ID</th>\n",
       "      <th>Origin_State</th>\n",
       "      <th>Destination_Airport</th>\n",
       "      <th>Destination_Airport_ID</th>\n",
       "      <th>...</th>\n",
       "      <th>Estimated_Arrival_Time2</th>\n",
       "      <th>Flying_Time</th>\n",
       "      <th>ODA_std</th>\n",
       "      <th>ODA_mean</th>\n",
       "      <th>Estimated_Arrival_Time3</th>\n",
       "      <th>Estimated_Departure_Time3</th>\n",
       "      <th>a3mean</th>\n",
       "      <th>a3std</th>\n",
       "      <th>d3mean</th>\n",
       "      <th>d3std</th>\n",
       "    </tr>\n",
       "  </thead>\n",
       "  <tbody>\n",
       "    <tr>\n",
       "      <th>912</th>\n",
       "      <td>TRAIN_000912</td>\n",
       "      <td>6</td>\n",
       "      <td>25</td>\n",
       "      <td>1305.0</td>\n",
       "      <td>1514.0</td>\n",
       "      <td>ABE</td>\n",
       "      <td>10135</td>\n",
       "      <td>Pennsylvania</td>\n",
       "      <td>ATL</td>\n",
       "      <td>10397</td>\n",
       "      <td>...</td>\n",
       "      <td>2014.0</td>\n",
       "      <td>129.0</td>\n",
       "      <td>6.948743</td>\n",
       "      <td>133.831169</td>\n",
       "      <td>8.787733</td>\n",
       "      <td>7.875798</td>\n",
       "      <td>126.0</td>\n",
       "      <td>502.0</td>\n",
       "      <td>1422.0</td>\n",
       "      <td>513.0</td>\n",
       "    </tr>\n",
       "    <tr>\n",
       "      <th>23683</th>\n",
       "      <td>TRAIN_023683</td>\n",
       "      <td>5</td>\n",
       "      <td>16</td>\n",
       "      <td>610.0</td>\n",
       "      <td>819.0</td>\n",
       "      <td>ABE</td>\n",
       "      <td>10135</td>\n",
       "      <td>Pennsylvania</td>\n",
       "      <td>ATL</td>\n",
       "      <td>10397</td>\n",
       "      <td>...</td>\n",
       "      <td>1319.0</td>\n",
       "      <td>129.0</td>\n",
       "      <td>6.948743</td>\n",
       "      <td>133.831169</td>\n",
       "      <td>5.755223</td>\n",
       "      <td>4.843289</td>\n",
       "      <td>126.0</td>\n",
       "      <td>502.0</td>\n",
       "      <td>1422.0</td>\n",
       "      <td>513.0</td>\n",
       "    </tr>\n",
       "    <tr>\n",
       "      <th>28901</th>\n",
       "      <td>TRAIN_028901</td>\n",
       "      <td>3</td>\n",
       "      <td>6</td>\n",
       "      <td>1755.0</td>\n",
       "      <td>2005.0</td>\n",
       "      <td>ABE</td>\n",
       "      <td>10135</td>\n",
       "      <td>Pennsylvania</td>\n",
       "      <td>ATL</td>\n",
       "      <td>10397</td>\n",
       "      <td>...</td>\n",
       "      <td>105.0</td>\n",
       "      <td>130.0</td>\n",
       "      <td>6.948743</td>\n",
       "      <td>133.831169</td>\n",
       "      <td>0.458149</td>\n",
       "      <td>9.839294</td>\n",
       "      <td>126.0</td>\n",
       "      <td>502.0</td>\n",
       "      <td>1422.0</td>\n",
       "      <td>513.0</td>\n",
       "    </tr>\n",
       "    <tr>\n",
       "      <th>40880</th>\n",
       "      <td>TRAIN_040880</td>\n",
       "      <td>8</td>\n",
       "      <td>11</td>\n",
       "      <td>1758.0</td>\n",
       "      <td>2009.0</td>\n",
       "      <td>ABE</td>\n",
       "      <td>10135</td>\n",
       "      <td>Pennsylvania</td>\n",
       "      <td>ATL</td>\n",
       "      <td>10397</td>\n",
       "      <td>...</td>\n",
       "      <td>109.0</td>\n",
       "      <td>131.0</td>\n",
       "      <td>6.948743</td>\n",
       "      <td>133.831169</td>\n",
       "      <td>0.475602</td>\n",
       "      <td>9.852384</td>\n",
       "      <td>126.0</td>\n",
       "      <td>502.0</td>\n",
       "      <td>1422.0</td>\n",
       "      <td>513.0</td>\n",
       "    </tr>\n",
       "    <tr>\n",
       "      <th>41238</th>\n",
       "      <td>TRAIN_041238</td>\n",
       "      <td>12</td>\n",
       "      <td>2</td>\n",
       "      <td>600.0</td>\n",
       "      <td>813.0</td>\n",
       "      <td>ABE</td>\n",
       "      <td>10135</td>\n",
       "      <td>Pennsylvania</td>\n",
       "      <td>ATL</td>\n",
       "      <td>10397</td>\n",
       "      <td>...</td>\n",
       "      <td>1313.0</td>\n",
       "      <td>133.0</td>\n",
       "      <td>6.948743</td>\n",
       "      <td>133.831169</td>\n",
       "      <td>5.729043</td>\n",
       "      <td>4.799655</td>\n",
       "      <td>126.0</td>\n",
       "      <td>502.0</td>\n",
       "      <td>1422.0</td>\n",
       "      <td>513.0</td>\n",
       "    </tr>\n",
       "    <tr>\n",
       "      <th>...</th>\n",
       "      <td>...</td>\n",
       "      <td>...</td>\n",
       "      <td>...</td>\n",
       "      <td>...</td>\n",
       "      <td>...</td>\n",
       "      <td>...</td>\n",
       "      <td>...</td>\n",
       "      <td>...</td>\n",
       "      <td>...</td>\n",
       "      <td>...</td>\n",
       "      <td>...</td>\n",
       "      <td>...</td>\n",
       "      <td>...</td>\n",
       "      <td>...</td>\n",
       "      <td>...</td>\n",
       "      <td>...</td>\n",
       "      <td>...</td>\n",
       "      <td>...</td>\n",
       "      <td>...</td>\n",
       "      <td>...</td>\n",
       "      <td>...</td>\n",
       "    </tr>\n",
       "    <tr>\n",
       "      <th>943480</th>\n",
       "      <td>TEST_943480</td>\n",
       "      <td>3</td>\n",
       "      <td>17</td>\n",
       "      <td>1303.0</td>\n",
       "      <td>1513.0</td>\n",
       "      <td>ABE</td>\n",
       "      <td>10135</td>\n",
       "      <td>Pennsylvania</td>\n",
       "      <td>ATL</td>\n",
       "      <td>10397</td>\n",
       "      <td>...</td>\n",
       "      <td>2013.0</td>\n",
       "      <td>130.0</td>\n",
       "      <td>6.948743</td>\n",
       "      <td>133.831169</td>\n",
       "      <td>8.783369</td>\n",
       "      <td>7.867072</td>\n",
       "      <td>126.0</td>\n",
       "      <td>502.0</td>\n",
       "      <td>1422.0</td>\n",
       "      <td>513.0</td>\n",
       "    </tr>\n",
       "    <tr>\n",
       "      <th>944298</th>\n",
       "      <td>TEST_944298</td>\n",
       "      <td>11</td>\n",
       "      <td>17</td>\n",
       "      <td>600.0</td>\n",
       "      <td>813.0</td>\n",
       "      <td>ABE</td>\n",
       "      <td>10135</td>\n",
       "      <td>Pennsylvania</td>\n",
       "      <td>ATL</td>\n",
       "      <td>10397</td>\n",
       "      <td>...</td>\n",
       "      <td>1313.0</td>\n",
       "      <td>133.0</td>\n",
       "      <td>6.948743</td>\n",
       "      <td>133.831169</td>\n",
       "      <td>5.729043</td>\n",
       "      <td>4.799655</td>\n",
       "      <td>126.0</td>\n",
       "      <td>502.0</td>\n",
       "      <td>1422.0</td>\n",
       "      <td>513.0</td>\n",
       "    </tr>\n",
       "    <tr>\n",
       "      <th>954891</th>\n",
       "      <td>TEST_954891</td>\n",
       "      <td>3</td>\n",
       "      <td>2</td>\n",
       "      <td>1844.0</td>\n",
       "      <td>2101.0</td>\n",
       "      <td>ABE</td>\n",
       "      <td>10135</td>\n",
       "      <td>Pennsylvania</td>\n",
       "      <td>ATL</td>\n",
       "      <td>10397</td>\n",
       "      <td>...</td>\n",
       "      <td>201.0</td>\n",
       "      <td>137.0</td>\n",
       "      <td>6.948743</td>\n",
       "      <td>133.831169</td>\n",
       "      <td>0.877028</td>\n",
       "      <td>10.227629</td>\n",
       "      <td>126.0</td>\n",
       "      <td>502.0</td>\n",
       "      <td>1422.0</td>\n",
       "      <td>513.0</td>\n",
       "    </tr>\n",
       "    <tr>\n",
       "      <th>988759</th>\n",
       "      <td>TEST_988759</td>\n",
       "      <td>12</td>\n",
       "      <td>18</td>\n",
       "      <td>600.0</td>\n",
       "      <td>817.0</td>\n",
       "      <td>ABE</td>\n",
       "      <td>10135</td>\n",
       "      <td>Pennsylvania</td>\n",
       "      <td>ATL</td>\n",
       "      <td>10397</td>\n",
       "      <td>...</td>\n",
       "      <td>1317.0</td>\n",
       "      <td>137.0</td>\n",
       "      <td>6.948743</td>\n",
       "      <td>133.831169</td>\n",
       "      <td>5.746497</td>\n",
       "      <td>4.799655</td>\n",
       "      <td>126.0</td>\n",
       "      <td>502.0</td>\n",
       "      <td>1422.0</td>\n",
       "      <td>513.0</td>\n",
       "    </tr>\n",
       "    <tr>\n",
       "      <th>998543</th>\n",
       "      <td>TEST_998543</td>\n",
       "      <td>12</td>\n",
       "      <td>27</td>\n",
       "      <td>600.0</td>\n",
       "      <td>833.0</td>\n",
       "      <td>ABE</td>\n",
       "      <td>10135</td>\n",
       "      <td>Pennsylvania</td>\n",
       "      <td>ATL</td>\n",
       "      <td>10397</td>\n",
       "      <td>...</td>\n",
       "      <td>1333.0</td>\n",
       "      <td>153.0</td>\n",
       "      <td>6.948743</td>\n",
       "      <td>133.831169</td>\n",
       "      <td>5.816310</td>\n",
       "      <td>4.799655</td>\n",
       "      <td>126.0</td>\n",
       "      <td>502.0</td>\n",
       "      <td>1422.0</td>\n",
       "      <td>513.0</td>\n",
       "    </tr>\n",
       "  </tbody>\n",
       "</table>\n",
       "<p>202 rows × 31 columns</p>\n",
       "</div>"
      ],
      "text/plain": [
       "                  ID  Month  Day_of_Month  Estimated_Departure_Time   \n",
       "912     TRAIN_000912      6            25                    1305.0  \\\n",
       "23683   TRAIN_023683      5            16                     610.0   \n",
       "28901   TRAIN_028901      3             6                    1755.0   \n",
       "40880   TRAIN_040880      8            11                    1758.0   \n",
       "41238   TRAIN_041238     12             2                     600.0   \n",
       "...              ...    ...           ...                       ...   \n",
       "943480   TEST_943480      3            17                    1303.0   \n",
       "944298   TEST_944298     11            17                     600.0   \n",
       "954891   TEST_954891      3             2                    1844.0   \n",
       "988759   TEST_988759     12            18                     600.0   \n",
       "998543   TEST_998543     12            27                     600.0   \n",
       "\n",
       "        Estimated_Arrival_Time Origin_Airport  Origin_Airport_ID   \n",
       "912                     1514.0            ABE              10135  \\\n",
       "23683                    819.0            ABE              10135   \n",
       "28901                   2005.0            ABE              10135   \n",
       "40880                   2009.0            ABE              10135   \n",
       "41238                    813.0            ABE              10135   \n",
       "...                        ...            ...                ...   \n",
       "943480                  1513.0            ABE              10135   \n",
       "944298                   813.0            ABE              10135   \n",
       "954891                  2101.0            ABE              10135   \n",
       "988759                   817.0            ABE              10135   \n",
       "998543                   833.0            ABE              10135   \n",
       "\n",
       "        Origin_State Destination_Airport  Destination_Airport_ID  ...   \n",
       "912     Pennsylvania                 ATL                   10397  ...  \\\n",
       "23683   Pennsylvania                 ATL                   10397  ...   \n",
       "28901   Pennsylvania                 ATL                   10397  ...   \n",
       "40880   Pennsylvania                 ATL                   10397  ...   \n",
       "41238   Pennsylvania                 ATL                   10397  ...   \n",
       "...              ...                 ...                     ...  ...   \n",
       "943480  Pennsylvania                 ATL                   10397  ...   \n",
       "944298  Pennsylvania                 ATL                   10397  ...   \n",
       "954891  Pennsylvania                 ATL                   10397  ...   \n",
       "988759  Pennsylvania                 ATL                   10397  ...   \n",
       "998543  Pennsylvania                 ATL                   10397  ...   \n",
       "\n",
       "       Estimated_Arrival_Time2  Flying_Time   ODA_std    ODA_mean   \n",
       "912                     2014.0        129.0  6.948743  133.831169  \\\n",
       "23683                   1319.0        129.0  6.948743  133.831169   \n",
       "28901                    105.0        130.0  6.948743  133.831169   \n",
       "40880                    109.0        131.0  6.948743  133.831169   \n",
       "41238                   1313.0        133.0  6.948743  133.831169   \n",
       "...                        ...          ...       ...         ...   \n",
       "943480                  2013.0        130.0  6.948743  133.831169   \n",
       "944298                  1313.0        133.0  6.948743  133.831169   \n",
       "954891                   201.0        137.0  6.948743  133.831169   \n",
       "988759                  1317.0        137.0  6.948743  133.831169   \n",
       "998543                  1333.0        153.0  6.948743  133.831169   \n",
       "\n",
       "       Estimated_Arrival_Time3 Estimated_Departure_Time3 a3mean  a3std   \n",
       "912                   8.787733                  7.875798  126.0  502.0  \\\n",
       "23683                 5.755223                  4.843289  126.0  502.0   \n",
       "28901                 0.458149                  9.839294  126.0  502.0   \n",
       "40880                 0.475602                  9.852384  126.0  502.0   \n",
       "41238                 5.729043                  4.799655  126.0  502.0   \n",
       "...                        ...                       ...    ...    ...   \n",
       "943480                8.783369                  7.867072  126.0  502.0   \n",
       "944298                5.729043                  4.799655  126.0  502.0   \n",
       "954891                0.877028                 10.227629  126.0  502.0   \n",
       "988759                5.746497                  4.799655  126.0  502.0   \n",
       "998543                5.816310                  4.799655  126.0  502.0   \n",
       "\n",
       "        d3mean  d3std  \n",
       "912     1422.0  513.0  \n",
       "23683   1422.0  513.0  \n",
       "28901   1422.0  513.0  \n",
       "40880   1422.0  513.0  \n",
       "41238   1422.0  513.0  \n",
       "...        ...    ...  \n",
       "943480  1422.0  513.0  \n",
       "944298  1422.0  513.0  \n",
       "954891  1422.0  513.0  \n",
       "988759  1422.0  513.0  \n",
       "998543  1422.0  513.0  \n",
       "\n",
       "[202 rows x 31 columns]"
      ]
     },
     "execution_count": 114,
     "metadata": {},
     "output_type": "execute_result"
    }
   ],
   "source": [
    "train_data[(train_data.ODA == 'ABE_ATL')]"
   ]
  },
  {
   "cell_type": "code",
   "execution_count": 115,
   "id": "cc37fd85-298d-4561-b72f-3f2a328a385d",
   "metadata": {
    "tags": []
   },
   "outputs": [],
   "source": [
    "train_data.loc[DxAx,'Estimated_Departure_Time'] = (( train_data.loc[DxAx,'d3mean'].map(time_to_min)  + (train_data.loc[DxAx,'OA_offset'] * 60) + 24 * 60) % (24 * 60)).map(min_to_time)\n",
    "train_data.loc[DxAx,'Estimated_Arrival_Time'] = (( train_data.loc[DxAx,'a3mean'].map(time_to_min) + (train_data.loc[DxAx,'DA_offset'] * 60) + 24 * 60) % (24 * 60)).map(min_to_time)"
   ]
  },
  {
   "cell_type": "code",
   "execution_count": 116,
   "id": "1eef5685-c598-49b5-9bda-f2f3cae87145",
   "metadata": {
    "tags": []
   },
   "outputs": [
    {
     "name": "stdout",
     "output_type": "stream",
     "text": [
      "<class 'pandas.core.frame.DataFrame'>\n",
      "Index: 2000000 entries, 0 to 999999\n",
      "Data columns (total 16 columns):\n",
      " #   Column                    Non-Null Count    Dtype  \n",
      "---  ------                    --------------    -----  \n",
      " 0   ID                        2000000 non-null  object \n",
      " 1   Month                     2000000 non-null  int64  \n",
      " 2   Day_of_Month              2000000 non-null  int64  \n",
      " 3   Estimated_Departure_Time  1999992 non-null  float64\n",
      " 4   Estimated_Arrival_Time    1999989 non-null  float64\n",
      " 5   Origin_Airport            2000000 non-null  object \n",
      " 6   Origin_Airport_ID         2000000 non-null  int64  \n",
      " 7   Origin_State              2000000 non-null  object \n",
      " 8   Destination_Airport       2000000 non-null  object \n",
      " 9   Destination_Airport_ID    2000000 non-null  int64  \n",
      " 10  Destination_State         2000000 non-null  object \n",
      " 11  Distance                  2000000 non-null  float64\n",
      " 12  Airline                   2000000 non-null  object \n",
      " 13  Carrier_Code(IATA)        1782017 non-null  object \n",
      " 14  Carrier_ID(DOT)           2000000 non-null  object \n",
      " 15  Tail_Number               2000000 non-null  object \n",
      "dtypes: float64(3), int64(4), object(9)\n",
      "memory usage: 259.4+ MB\n"
     ]
    }
   ],
   "source": [
    "train_data.loc[:,train_data.columns[:16]].info(show_counts=True)"
   ]
  },
  {
   "cell_type": "code",
   "execution_count": 117,
   "id": "8462e3b1-e4ec-4143-940e-2377f31bd844",
   "metadata": {
    "tags": []
   },
   "outputs": [
    {
     "data": {
      "text/html": [
       "<div>\n",
       "<style scoped>\n",
       "    .dataframe tbody tr th:only-of-type {\n",
       "        vertical-align: middle;\n",
       "    }\n",
       "\n",
       "    .dataframe tbody tr th {\n",
       "        vertical-align: top;\n",
       "    }\n",
       "\n",
       "    .dataframe thead th {\n",
       "        text-align: right;\n",
       "    }\n",
       "</style>\n",
       "<table border=\"1\" class=\"dataframe\">\n",
       "  <thead>\n",
       "    <tr style=\"text-align: right;\">\n",
       "      <th></th>\n",
       "      <th>ID</th>\n",
       "      <th>Month</th>\n",
       "      <th>Day_of_Month</th>\n",
       "      <th>Estimated_Departure_Time</th>\n",
       "      <th>Estimated_Arrival_Time</th>\n",
       "      <th>Origin_Airport</th>\n",
       "      <th>Origin_Airport_ID</th>\n",
       "      <th>Origin_State</th>\n",
       "      <th>Destination_Airport</th>\n",
       "      <th>Destination_Airport_ID</th>\n",
       "      <th>Destination_State</th>\n",
       "      <th>Distance</th>\n",
       "      <th>Airline</th>\n",
       "      <th>Carrier_Code(IATA)</th>\n",
       "      <th>Carrier_ID(DOT)</th>\n",
       "      <th>Tail_Number</th>\n",
       "    </tr>\n",
       "  </thead>\n",
       "  <tbody>\n",
       "    <tr>\n",
       "      <th>0</th>\n",
       "      <td>TRAIN_000000</td>\n",
       "      <td>4</td>\n",
       "      <td>15</td>\n",
       "      <td>2300.000000</td>\n",
       "      <td>49.0</td>\n",
       "      <td>OKC</td>\n",
       "      <td>13851</td>\n",
       "      <td>Oklahoma</td>\n",
       "      <td>HOU</td>\n",
       "      <td>12191</td>\n",
       "      <td>Texas</td>\n",
       "      <td>419.0</td>\n",
       "      <td>Southwest Airlines Co.</td>\n",
       "      <td>WN</td>\n",
       "      <td>19393.0</td>\n",
       "      <td>N7858A</td>\n",
       "    </tr>\n",
       "    <tr>\n",
       "      <th>1</th>\n",
       "      <td>TRAIN_000001</td>\n",
       "      <td>8</td>\n",
       "      <td>15</td>\n",
       "      <td>740.000000</td>\n",
       "      <td>1024.0</td>\n",
       "      <td>ORD</td>\n",
       "      <td>13930</td>\n",
       "      <td>Illinois</td>\n",
       "      <td>SLC</td>\n",
       "      <td>14869</td>\n",
       "      <td>Utah</td>\n",
       "      <td>1250.0</td>\n",
       "      <td>SkyWest Airlines Inc.</td>\n",
       "      <td>UA</td>\n",
       "      <td>20304.0</td>\n",
       "      <td>N125SY</td>\n",
       "    </tr>\n",
       "    <tr>\n",
       "      <th>2</th>\n",
       "      <td>TRAIN_000002</td>\n",
       "      <td>9</td>\n",
       "      <td>6</td>\n",
       "      <td>1610.000000</td>\n",
       "      <td>1805.0</td>\n",
       "      <td>CLT</td>\n",
       "      <td>11057</td>\n",
       "      <td>North Carolina</td>\n",
       "      <td>LGA</td>\n",
       "      <td>12953</td>\n",
       "      <td>New York</td>\n",
       "      <td>544.0</td>\n",
       "      <td>American Airlines Inc.</td>\n",
       "      <td>AA</td>\n",
       "      <td>19805.0</td>\n",
       "      <td>N103US</td>\n",
       "    </tr>\n",
       "    <tr>\n",
       "      <th>3</th>\n",
       "      <td>TRAIN_000003</td>\n",
       "      <td>7</td>\n",
       "      <td>10</td>\n",
       "      <td>905.000000</td>\n",
       "      <td>1735.0</td>\n",
       "      <td>LAX</td>\n",
       "      <td>12892</td>\n",
       "      <td>California</td>\n",
       "      <td>EWR</td>\n",
       "      <td>11618</td>\n",
       "      <td>New Jersey</td>\n",
       "      <td>2454.0</td>\n",
       "      <td>United Air Lines Inc.</td>\n",
       "      <td>UA</td>\n",
       "      <td>19977.0</td>\n",
       "      <td>N595UA</td>\n",
       "    </tr>\n",
       "    <tr>\n",
       "      <th>4</th>\n",
       "      <td>TRAIN_000004</td>\n",
       "      <td>1</td>\n",
       "      <td>11</td>\n",
       "      <td>900.000000</td>\n",
       "      <td>1019.0</td>\n",
       "      <td>SFO</td>\n",
       "      <td>14771</td>\n",
       "      <td>California</td>\n",
       "      <td>ACV</td>\n",
       "      <td>10157</td>\n",
       "      <td>California</td>\n",
       "      <td>250.0</td>\n",
       "      <td>SkyWest Airlines Inc.</td>\n",
       "      <td>UA</td>\n",
       "      <td>20304.0</td>\n",
       "      <td>N161SY</td>\n",
       "    </tr>\n",
       "    <tr>\n",
       "      <th>...</th>\n",
       "      <td>...</td>\n",
       "      <td>...</td>\n",
       "      <td>...</td>\n",
       "      <td>...</td>\n",
       "      <td>...</td>\n",
       "      <td>...</td>\n",
       "      <td>...</td>\n",
       "      <td>...</td>\n",
       "      <td>...</td>\n",
       "      <td>...</td>\n",
       "      <td>...</td>\n",
       "      <td>...</td>\n",
       "      <td>...</td>\n",
       "      <td>...</td>\n",
       "      <td>...</td>\n",
       "      <td>...</td>\n",
       "    </tr>\n",
       "    <tr>\n",
       "      <th>999995</th>\n",
       "      <td>TEST_999995</td>\n",
       "      <td>6</td>\n",
       "      <td>2</td>\n",
       "      <td>1917.937534</td>\n",
       "      <td>2240.0</td>\n",
       "      <td>LAX</td>\n",
       "      <td>12892</td>\n",
       "      <td>California</td>\n",
       "      <td>DEN</td>\n",
       "      <td>11292</td>\n",
       "      <td>Colorado</td>\n",
       "      <td>862.0</td>\n",
       "      <td>Southwest Airlines Co.</td>\n",
       "      <td>WN</td>\n",
       "      <td>19393.0</td>\n",
       "      <td>N720WN</td>\n",
       "    </tr>\n",
       "    <tr>\n",
       "      <th>999996</th>\n",
       "      <td>TEST_999996</td>\n",
       "      <td>6</td>\n",
       "      <td>8</td>\n",
       "      <td>600.000000</td>\n",
       "      <td>648.0</td>\n",
       "      <td>BUF</td>\n",
       "      <td>10792</td>\n",
       "      <td>New York</td>\n",
       "      <td>ORD</td>\n",
       "      <td>13930</td>\n",
       "      <td>Illinois</td>\n",
       "      <td>473.0</td>\n",
       "      <td>United Air Lines Inc.</td>\n",
       "      <td>UA</td>\n",
       "      <td>19977.0</td>\n",
       "      <td>N401UA</td>\n",
       "    </tr>\n",
       "    <tr>\n",
       "      <th>999997</th>\n",
       "      <td>TEST_999997</td>\n",
       "      <td>6</td>\n",
       "      <td>11</td>\n",
       "      <td>1710.000000</td>\n",
       "      <td>1907.0</td>\n",
       "      <td>IAD</td>\n",
       "      <td>12264</td>\n",
       "      <td>Virginia</td>\n",
       "      <td>DTW</td>\n",
       "      <td>11433</td>\n",
       "      <td>Michigan</td>\n",
       "      <td>383.0</td>\n",
       "      <td>Mesa Airlines Inc.</td>\n",
       "      <td>UA</td>\n",
       "      <td>20378.0</td>\n",
       "      <td>N510MJ</td>\n",
       "    </tr>\n",
       "    <tr>\n",
       "      <th>999998</th>\n",
       "      <td>TEST_999998</td>\n",
       "      <td>11</td>\n",
       "      <td>17</td>\n",
       "      <td>2028.613861</td>\n",
       "      <td>500.0</td>\n",
       "      <td>SAN</td>\n",
       "      <td>14679</td>\n",
       "      <td>California</td>\n",
       "      <td>BOS</td>\n",
       "      <td>10721</td>\n",
       "      <td>Massachusetts</td>\n",
       "      <td>2588.0</td>\n",
       "      <td>JetBlue Airways</td>\n",
       "      <td>B6</td>\n",
       "      <td>20409.0</td>\n",
       "      <td>N986JB</td>\n",
       "    </tr>\n",
       "    <tr>\n",
       "      <th>999999</th>\n",
       "      <td>TEST_999999</td>\n",
       "      <td>10</td>\n",
       "      <td>13</td>\n",
       "      <td>1220.000000</td>\n",
       "      <td>1345.0</td>\n",
       "      <td>OAK</td>\n",
       "      <td>13796</td>\n",
       "      <td>California</td>\n",
       "      <td>LAX</td>\n",
       "      <td>12892</td>\n",
       "      <td>California</td>\n",
       "      <td>337.0</td>\n",
       "      <td>Southwest Airlines Co.</td>\n",
       "      <td>WN</td>\n",
       "      <td>19393.0</td>\n",
       "      <td>N733SA</td>\n",
       "    </tr>\n",
       "  </tbody>\n",
       "</table>\n",
       "<p>2000000 rows × 16 columns</p>\n",
       "</div>"
      ],
      "text/plain": [
       "                  ID  Month  Day_of_Month  Estimated_Departure_Time   \n",
       "0       TRAIN_000000      4            15               2300.000000  \\\n",
       "1       TRAIN_000001      8            15                740.000000   \n",
       "2       TRAIN_000002      9             6               1610.000000   \n",
       "3       TRAIN_000003      7            10                905.000000   \n",
       "4       TRAIN_000004      1            11                900.000000   \n",
       "...              ...    ...           ...                       ...   \n",
       "999995   TEST_999995      6             2               1917.937534   \n",
       "999996   TEST_999996      6             8                600.000000   \n",
       "999997   TEST_999997      6            11               1710.000000   \n",
       "999998   TEST_999998     11            17               2028.613861   \n",
       "999999   TEST_999999     10            13               1220.000000   \n",
       "\n",
       "        Estimated_Arrival_Time Origin_Airport  Origin_Airport_ID   \n",
       "0                         49.0            OKC              13851  \\\n",
       "1                       1024.0            ORD              13930   \n",
       "2                       1805.0            CLT              11057   \n",
       "3                       1735.0            LAX              12892   \n",
       "4                       1019.0            SFO              14771   \n",
       "...                        ...            ...                ...   \n",
       "999995                  2240.0            LAX              12892   \n",
       "999996                   648.0            BUF              10792   \n",
       "999997                  1907.0            IAD              12264   \n",
       "999998                   500.0            SAN              14679   \n",
       "999999                  1345.0            OAK              13796   \n",
       "\n",
       "          Origin_State Destination_Airport  Destination_Airport_ID   \n",
       "0             Oklahoma                 HOU                   12191  \\\n",
       "1             Illinois                 SLC                   14869   \n",
       "2       North Carolina                 LGA                   12953   \n",
       "3           California                 EWR                   11618   \n",
       "4           California                 ACV                   10157   \n",
       "...                ...                 ...                     ...   \n",
       "999995      California                 DEN                   11292   \n",
       "999996        New York                 ORD                   13930   \n",
       "999997        Virginia                 DTW                   11433   \n",
       "999998      California                 BOS                   10721   \n",
       "999999      California                 LAX                   12892   \n",
       "\n",
       "       Destination_State  Distance                 Airline Carrier_Code(IATA)   \n",
       "0                  Texas     419.0  Southwest Airlines Co.                 WN  \\\n",
       "1                   Utah    1250.0   SkyWest Airlines Inc.                 UA   \n",
       "2               New York     544.0  American Airlines Inc.                 AA   \n",
       "3             New Jersey    2454.0   United Air Lines Inc.                 UA   \n",
       "4             California     250.0   SkyWest Airlines Inc.                 UA   \n",
       "...                  ...       ...                     ...                ...   \n",
       "999995          Colorado     862.0  Southwest Airlines Co.                 WN   \n",
       "999996          Illinois     473.0   United Air Lines Inc.                 UA   \n",
       "999997          Michigan     383.0      Mesa Airlines Inc.                 UA   \n",
       "999998     Massachusetts    2588.0         JetBlue Airways                 B6   \n",
       "999999        California     337.0  Southwest Airlines Co.                 WN   \n",
       "\n",
       "       Carrier_ID(DOT) Tail_Number  \n",
       "0              19393.0      N7858A  \n",
       "1              20304.0      N125SY  \n",
       "2              19805.0      N103US  \n",
       "3              19977.0      N595UA  \n",
       "4              20304.0      N161SY  \n",
       "...                ...         ...  \n",
       "999995         19393.0      N720WN  \n",
       "999996         19977.0      N401UA  \n",
       "999997         20378.0      N510MJ  \n",
       "999998         20409.0      N986JB  \n",
       "999999         19393.0      N733SA  \n",
       "\n",
       "[2000000 rows x 16 columns]"
      ]
     },
     "execution_count": 117,
     "metadata": {},
     "output_type": "execute_result"
    }
   ],
   "source": [
    "train_data.loc[:,train_data.columns[:16]]"
   ]
  },
  {
   "cell_type": "code",
   "execution_count": 118,
   "id": "3a945dbc-979b-4b3c-8ec1-61da191f797e",
   "metadata": {
    "tags": []
   },
   "outputs": [
    {
     "data": {
      "text/plain": [
       "19"
      ]
     },
     "execution_count": 118,
     "metadata": {},
     "output_type": "execute_result"
    }
   ],
   "source": [
    "(train_data.Estimated_Departure_Time.isna() | train_data.Estimated_Arrival_Time.isna()).sum() # 둘 중 하나 x"
   ]
  },
  {
   "cell_type": "code",
   "execution_count": 119,
   "id": "9a3f1235-171f-49ef-93b6-be4b752593c1",
   "metadata": {
    "tags": []
   },
   "outputs": [
    {
     "data": {
      "text/plain": [
       "0"
      ]
     },
     "execution_count": 119,
     "metadata": {},
     "output_type": "execute_result"
    }
   ],
   "source": [
    "(train_data.Estimated_Departure_Time.isna() * train_data.Estimated_Arrival_Time.isna()).sum() # 둘 다 x"
   ]
  },
  {
   "cell_type": "code",
   "execution_count": 120,
   "id": "2d9be0b7-d49e-418c-8468-25dcd2f3e421",
   "metadata": {
    "tags": []
   },
   "outputs": [
    {
     "data": {
      "text/plain": [
       "19"
      ]
     },
     "execution_count": 120,
     "metadata": {},
     "output_type": "execute_result"
    }
   ],
   "source": [
    "# 둘 중 하나는 있\n",
    "((train_data.Estimated_Departure_Time.isna() & ~train_data.Estimated_Arrival_Time.isna()) | (~train_data.Estimated_Departure_Time.isna() & train_data.Estimated_Arrival_Time.isna())).sum()"
   ]
  },
  {
   "cell_type": "code",
   "execution_count": 121,
   "id": "d2508cc5-25c6-4f44-9816-148d8bb9f5fd",
   "metadata": {
    "tags": []
   },
   "outputs": [],
   "source": [
    "train_data.loc[:,'Estimated_Departure_Time'].fillna(train_data.loc[:,'Estimated_Departure_Time'].mean(),inplace=True)\n",
    "train_data.loc[:,'Estimated_Arrival_Time'].fillna(train_data.loc[:,'Estimated_Arrival_Time'].mean(),inplace=True)\n"
   ]
  },
  {
   "cell_type": "code",
   "execution_count": 122,
   "id": "79dd077a-bf68-46a4-84fa-1a70c53b828e",
   "metadata": {
    "tags": []
   },
   "outputs": [
    {
     "name": "stdout",
     "output_type": "stream",
     "text": [
      "<class 'pandas.core.frame.DataFrame'>\n",
      "Index: 2000000 entries, 0 to 999999\n",
      "Data columns (total 16 columns):\n",
      " #   Column                    Non-Null Count    Dtype  \n",
      "---  ------                    --------------    -----  \n",
      " 0   ID                        2000000 non-null  object \n",
      " 1   Month                     2000000 non-null  int64  \n",
      " 2   Day_of_Month              2000000 non-null  int64  \n",
      " 3   Estimated_Departure_Time  2000000 non-null  float64\n",
      " 4   Estimated_Arrival_Time    2000000 non-null  float64\n",
      " 5   Origin_Airport            2000000 non-null  object \n",
      " 6   Origin_Airport_ID         2000000 non-null  int64  \n",
      " 7   Origin_State              2000000 non-null  object \n",
      " 8   Destination_Airport       2000000 non-null  object \n",
      " 9   Destination_Airport_ID    2000000 non-null  int64  \n",
      " 10  Destination_State         2000000 non-null  object \n",
      " 11  Distance                  2000000 non-null  float64\n",
      " 12  Airline                   2000000 non-null  object \n",
      " 13  Carrier_Code(IATA)        1782017 non-null  object \n",
      " 14  Carrier_ID(DOT)           2000000 non-null  object \n",
      " 15  Tail_Number               2000000 non-null  object \n",
      "dtypes: float64(3), int64(4), object(9)\n",
      "memory usage: 259.4+ MB\n"
     ]
    }
   ],
   "source": [
    "train_data.loc[:,train_data.columns[:16]].info(show_counts=True)"
   ]
  },
  {
   "cell_type": "code",
   "execution_count": 123,
   "id": "a007a351-011d-4919-b044-c361b75d823d",
   "metadata": {
    "tags": []
   },
   "outputs": [],
   "source": [
    "test_data = train_data.loc[train_data.ID.str.contains('TEST')]\n",
    "train_data = train_data.loc[train_data.ID.str.contains('TRAIN')]"
   ]
  },
  {
   "cell_type": "code",
   "execution_count": 125,
   "id": "c89a2ac1-15c6-4e9d-bea8-0bb4b4884fd1",
   "metadata": {
    "tags": []
   },
   "outputs": [],
   "source": [
    "train_data = train_data.loc[:,['Month','Estimated_Departure_Time','Estimated_Arrival_Time','Origin_Airport_ID','Origin_State','Destination_Airport_ID','Destination_State','Distance','Carrier_ID(DOT)','Tail_Number','Delay']].dropna()"
   ]
  },
  {
   "cell_type": "code",
   "execution_count": 126,
   "id": "3858e8df-fb34-4489-8b3d-ecff32806b26",
   "metadata": {},
   "outputs": [],
   "source": [
    "test_data = test_data.loc[:,['Month','Estimated_Departure_Time','Estimated_Arrival_Time','Origin_Airport_ID','Origin_State','Destination_Airport_ID','Destination_State','Distance','Carrier_ID(DOT)','Tail_Number']]"
   ]
  }
 ],
 "metadata": {
  "kernelspec": {
   "display_name": "Python 3 (ipykernel)",
   "language": "python",
   "name": "python3"
  },
  "language_info": {
   "codemirror_mode": {
    "name": "ipython",
    "version": 3
   },
   "file_extension": ".py",
   "mimetype": "text/x-python",
   "name": "python",
   "nbconvert_exporter": "python",
   "pygments_lexer": "ipython3",
   "version": "3.8.7"
  }
 },
 "nbformat": 4,
 "nbformat_minor": 5
}

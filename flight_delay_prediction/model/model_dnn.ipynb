{
 "cells": [
  {
   "cell_type": "code",
   "execution_count": 1,
   "id": "4785cef1-9267-4807-9e40-b13fd19ecbd9",
   "metadata": {
    "id": "95Datb_QOoEK",
    "tags": []
   },
   "outputs": [],
   "source": [
    "import pandas as pd\n",
    "import numpy as np\n",
    "import matplotlib.pyplot as plt\n",
    "from tqdm import tqdm"
   ]
  },
  {
   "cell_type": "markdown",
   "id": "b2407593-3273-4d2a-9c53-4c274fd1bdcf",
   "metadata": {
    "id": "UyHyRJXqSrx4",
    "tags": []
   },
   "source": [
    "# Load Data"
   ]
  },
  {
   "cell_type": "code",
   "execution_count": 2,
   "id": "c3b5376a-8074-4355-8e17-d47bcc15b652",
   "metadata": {
    "id": "cexFwwfN8dKC",
    "tags": []
   },
   "outputs": [],
   "source": [
    "train_data = pd.read_csv('./train.csv')\n",
    "test_data = pd.read_csv('./test.csv')"
   ]
  },
  {
   "cell_type": "code",
   "execution_count": 3,
   "id": "b9844c89-8e00-4089-9977-ac56404eb648",
   "metadata": {
    "tags": []
   },
   "outputs": [
    {
     "data": {
      "text/plain": [
       "2000000"
      ]
     },
     "execution_count": 3,
     "metadata": {},
     "output_type": "execute_result"
    }
   ],
   "source": [
    "len(train_data) + len(test_data)"
   ]
  },
  {
   "cell_type": "code",
   "execution_count": 4,
   "id": "6682b657-bfd6-448f-b069-acd82ec34a2e",
   "metadata": {
    "tags": []
   },
   "outputs": [],
   "source": [
    "train_data = pd.concat([train_data, test_data])"
   ]
  },
  {
   "cell_type": "markdown",
   "id": "7c6d86a0-3e24-4c9d-8cfd-a67a7fdd4eef",
   "metadata": {},
   "source": [
    "# preprocessing Data"
   ]
  },
  {
   "cell_type": "code",
   "execution_count": 5,
   "id": "1a22e280-04bb-41de-ba0e-a19d9577d867",
   "metadata": {
    "tags": []
   },
   "outputs": [
    {
     "data": {
      "text/plain": [
       "Cancelled\n",
       "0    2000000\n",
       "Name: count, dtype: int64"
      ]
     },
     "execution_count": 5,
     "metadata": {},
     "output_type": "execute_result"
    }
   ],
   "source": [
    "train_data.Cancelled.value_counts()"
   ]
  },
  {
   "cell_type": "code",
   "execution_count": 6,
   "id": "10df79e8-88ba-416d-b4d2-637a2b1a72a6",
   "metadata": {
    "tags": []
   },
   "outputs": [
    {
     "data": {
      "text/plain": [
       "Cancelled\n",
       "0    1000000\n",
       "Name: count, dtype: int64"
      ]
     },
     "execution_count": 6,
     "metadata": {},
     "output_type": "execute_result"
    }
   ],
   "source": [
    "test_data.Cancelled.value_counts()"
   ]
  },
  {
   "cell_type": "code",
   "execution_count": 7,
   "id": "ee1ccfe2-d9e9-4e8d-9a61-32e64af7060d",
   "metadata": {
    "tags": []
   },
   "outputs": [
    {
     "data": {
      "text/plain": [
       "Diverted\n",
       "0    2000000\n",
       "Name: count, dtype: int64"
      ]
     },
     "execution_count": 7,
     "metadata": {},
     "output_type": "execute_result"
    }
   ],
   "source": [
    "train_data.Diverted.value_counts()"
   ]
  },
  {
   "cell_type": "code",
   "execution_count": 8,
   "id": "adcf4791-6967-462f-863a-3907d0b4d64e",
   "metadata": {
    "tags": []
   },
   "outputs": [
    {
     "data": {
      "text/plain": [
       "Diverted\n",
       "0    1000000\n",
       "Name: count, dtype: int64"
      ]
     },
     "execution_count": 8,
     "metadata": {},
     "output_type": "execute_result"
    }
   ],
   "source": [
    "test_data.Diverted.value_counts()"
   ]
  },
  {
   "cell_type": "code",
   "execution_count": 9,
   "id": "70087d1b-caf4-4d7b-8880-7472cf9b7b1d",
   "metadata": {
    "tags": []
   },
   "outputs": [],
   "source": [
    "train_data.drop(['Cancelled'],axis=1,inplace=True)\n",
    "train_data.drop(['Diverted'],axis=1,inplace=True)\n",
    "# 이 두 컬럼은 모두 0, 필요없으므로 제거\n",
    "test_data.drop(['Cancelled'],axis=1,inplace=True)\n",
    "test_data.drop(['Diverted'],axis=1,inplace=True)\n",
    "# 이 두 컬럼은 모두 0, 필요없으므로 제거"
   ]
  },
  {
   "cell_type": "markdown",
   "id": "40c85ff4-399b-4acf-9e9f-11454a0586a7",
   "metadata": {
    "tags": []
   },
   "source": [
    "train_data.drop(['ID'],axis=1,inplace=True)\n",
    "# ID는 필요없음\n",
    "test_data.drop(['ID'],axis=1,inplace=True)\n",
    "# ID는 필요없음"
   ]
  },
  {
   "cell_type": "code",
   "execution_count": 10,
   "id": "23dcc3bf-ec46-4245-ac70-69f1813e5417",
   "metadata": {
    "tags": []
   },
   "outputs": [
    {
     "name": "stdout",
     "output_type": "stream",
     "text": [
      "<class 'pandas.core.frame.DataFrame'>\n",
      "Index: 2000000 entries, 0 to 999999\n",
      "Data columns (total 17 columns):\n",
      " #   Column                    Dtype  \n",
      "---  ------                    -----  \n",
      " 0   ID                        object \n",
      " 1   Month                     int64  \n",
      " 2   Day_of_Month              int64  \n",
      " 3   Estimated_Departure_Time  float64\n",
      " 4   Estimated_Arrival_Time    float64\n",
      " 5   Origin_Airport            object \n",
      " 6   Origin_Airport_ID         int64  \n",
      " 7   Origin_State              object \n",
      " 8   Destination_Airport       object \n",
      " 9   Destination_Airport_ID    int64  \n",
      " 10  Destination_State         object \n",
      " 11  Distance                  float64\n",
      " 12  Airline                   object \n",
      " 13  Carrier_Code(IATA)        object \n",
      " 14  Carrier_ID(DOT)           float64\n",
      " 15  Tail_Number               object \n",
      " 16  Delay                     object \n",
      "dtypes: float64(4), int64(4), object(9)\n",
      "memory usage: 274.7+ MB\n"
     ]
    }
   ],
   "source": [
    "train_data.info()"
   ]
  },
  {
   "cell_type": "code",
   "execution_count": 11,
   "id": "c95c7d47-ae55-4ba2-a2dc-1749d8ceb9ab",
   "metadata": {
    "tags": []
   },
   "outputs": [
    {
     "data": {
      "text/plain": [
       "113787"
      ]
     },
     "execution_count": 11,
     "metadata": {},
     "output_type": "execute_result"
    }
   ],
   "source": [
    "len(train_data.dropna())"
   ]
  },
  {
   "cell_type": "markdown",
   "id": "e312f7fa-310d-4c57-8df9-8100a37dc4bd",
   "metadata": {},
   "source": [
    "# fill Nan value"
   ]
  },
  {
   "cell_type": "markdown",
   "id": "2393983e-f6ff-4c23-8a0d-6dbe859aa01f",
   "metadata": {},
   "source": [
    "## state"
   ]
  },
  {
   "cell_type": "code",
   "execution_count": 12,
   "id": "94e6d26d-8e89-40b4-bf83-24d5ad9e2843",
   "metadata": {
    "tags": []
   },
   "outputs": [],
   "source": [
    "airports = dict()\n",
    "# airprots : id"
   ]
  },
  {
   "cell_type": "code",
   "execution_count": 13,
   "id": "fb654f17-d970-4f6d-b51d-8cb99c344cd5",
   "metadata": {
    "tags": []
   },
   "outputs": [
    {
     "name": "stderr",
     "output_type": "stream",
     "text": [
      "379it [00:00, 22352.16it/s]\n"
     ]
    }
   ],
   "source": [
    "for i,v in tqdm(train_data.loc[:,['Origin_Airport','Origin_Airport_ID']].drop_duplicates().iterrows()):\n",
    "    oai = v['Origin_Airport_ID']\n",
    "    oa = v['Origin_Airport']\n",
    "    if not airports.get(oa):\n",
    "        airports[oa] = oai\n",
    "    elif airports[oa] != oai:\n",
    "        print(oa, oai)"
   ]
  },
  {
   "cell_type": "code",
   "execution_count": 14,
   "id": "201be85f-c96f-4897-895f-a849c1825cc9",
   "metadata": {
    "tags": []
   },
   "outputs": [
    {
     "name": "stderr",
     "output_type": "stream",
     "text": [
      "378it [00:00, 23639.75it/s]\n"
     ]
    }
   ],
   "source": [
    "for i,v in tqdm(train_data.loc[:,['Destination_Airport','Destination_Airport_ID']].drop_duplicates().iterrows()):\n",
    "    dai = v['Destination_Airport_ID']\n",
    "    da = v['Destination_Airport']\n",
    "    if not airports.get(da):\n",
    "        airports[da] = dai\n",
    "    elif airports[da] != dai:\n",
    "        print(da, dai)"
   ]
  },
  {
   "cell_type": "code",
   "execution_count": 15,
   "id": "1edba763-4d2e-4a06-a261-2cdc59756895",
   "metadata": {
    "tags": []
   },
   "outputs": [
    {
     "data": {
      "text/plain": [
       "379"
      ]
     },
     "execution_count": 15,
     "metadata": {},
     "output_type": "execute_result"
    }
   ],
   "source": [
    "len(airports) # 375 개 airport , ID 와 불일치 없음"
   ]
  },
  {
   "cell_type": "code",
   "execution_count": 16,
   "id": "b0616ca4-041a-4ff8-b01b-095ba5d730e1",
   "metadata": {
    "tags": []
   },
   "outputs": [],
   "source": [
    "airports_state = dict()\n",
    "# airprots : state"
   ]
  },
  {
   "cell_type": "code",
   "execution_count": 17,
   "id": "19084ef8-a8d8-42a3-a9a5-cc3795a519e9",
   "metadata": {
    "tags": []
   },
   "outputs": [],
   "source": [
    "airports_state['RIW'] = 'Wyoming'\n",
    "airports_state['SHR'] = 'Wyoming'\n",
    "airports_state['DDC'] = 'Kansas'\n",
    "airports_state['DEC'] = 'Illinois'"
   ]
  },
  {
   "cell_type": "code",
   "execution_count": 18,
   "id": "ff793567-d8a2-4f91-9de4-6b5b13dc8e8f",
   "metadata": {
    "tags": []
   },
   "outputs": [],
   "source": [
    "# train_data.loc[train_data['Origin_State'].isna(),'Origin_State'] = ''\n",
    "# train_data.loc[train_data['Destination_State'].isna(),'Destination_State'] = ''"
   ]
  },
  {
   "cell_type": "code",
   "execution_count": 19,
   "id": "26bcfee5-c8b2-4193-9be2-2ef6020e0754",
   "metadata": {
    "tags": []
   },
   "outputs": [
    {
     "name": "stderr",
     "output_type": "stream",
     "text": [
      "375it [00:00, 23497.68it/s]\n"
     ]
    }
   ],
   "source": [
    "for i,v in tqdm(train_data.loc[~train_data['Origin_State'].isna(),['Origin_Airport','Origin_State']].drop_duplicates().iterrows()):\n",
    "    os = v['Origin_State']\n",
    "    oa = v['Origin_Airport']\n",
    "    if not airports_state.get(oa):\n",
    "        airports_state[oa] = os\n",
    "    elif airports_state[oa] != os:\n",
    "        print(oa, os,airports_state[oa])"
   ]
  },
  {
   "cell_type": "code",
   "execution_count": 20,
   "id": "7efd9fe3-e30f-456a-81fb-604be98b50b8",
   "metadata": {
    "tags": []
   },
   "outputs": [
    {
     "name": "stderr",
     "output_type": "stream",
     "text": [
      "374it [00:00, 23435.37it/s]\n"
     ]
    }
   ],
   "source": [
    "for i,v in tqdm(train_data.loc[~train_data['Destination_State'].isna(),['Destination_Airport','Destination_State']].drop_duplicates().iterrows()):\n",
    "    ds = v['Destination_State']\n",
    "    da = v['Destination_Airport']\n",
    "    if not airports_state.get(da):\n",
    "        airports_state[da] = ds\n",
    "    elif airports_state[da] != ds:\n",
    "        print(da, ds,airports_state[da])"
   ]
  },
  {
   "cell_type": "code",
   "execution_count": 21,
   "id": "29172950-30a2-46a9-8579-fdf8fcb5a97f",
   "metadata": {
    "tags": []
   },
   "outputs": [],
   "source": [
    "#109015 개 Origin_State null값 있음\n",
    "#109079 개 Destination_State null 값 있음"
   ]
  },
  {
   "cell_type": "code",
   "execution_count": 22,
   "id": "a43033c8-6a56-4f68-9cdd-9eae0412071a",
   "metadata": {
    "tags": []
   },
   "outputs": [],
   "source": [
    "train_data.loc[train_data['Origin_State'].isna() ,'Origin_State'] = train_data.loc[train_data['Origin_State'].isna(),'Origin_Airport'].apply(lambda x : airports_state.get(x))"
   ]
  },
  {
   "cell_type": "code",
   "execution_count": 23,
   "id": "6690e660-81e8-44a0-9ce0-6f64e4ac6715",
   "metadata": {
    "tags": []
   },
   "outputs": [],
   "source": [
    "train_data.loc[train_data['Destination_State'].isna() ,'Destination_State'] = train_data.loc[train_data['Destination_State'].isna(),'Destination_Airport'].apply(lambda x : airports_state.get(x))"
   ]
  },
  {
   "cell_type": "code",
   "execution_count": 24,
   "id": "d7cb82fe-5f65-4a58-b42c-14b42ee4bd04",
   "metadata": {
    "tags": []
   },
   "outputs": [],
   "source": [
    "# State 정보 채워줌"
   ]
  },
  {
   "cell_type": "code",
   "execution_count": 25,
   "id": "a0f83e15-fd0c-43f1-832d-a77c04da03ec",
   "metadata": {
    "tags": []
   },
   "outputs": [
    {
     "data": {
      "text/plain": [
       "'Ohio'"
      ]
     },
     "execution_count": 25,
     "metadata": {},
     "output_type": "execute_result"
    }
   ],
   "source": [
    "airports_state.get('YNG') # 만 유일하게 없음 -> Ohio 주임"
   ]
  },
  {
   "cell_type": "code",
   "execution_count": 26,
   "id": "98bd12d5-5015-495f-89eb-d0fe645a6e85",
   "metadata": {
    "tags": []
   },
   "outputs": [],
   "source": [
    "train_data.loc[train_data['Destination_Airport']=='YNG','Destination_State'] = 'Ohio'"
   ]
  },
  {
   "cell_type": "code",
   "execution_count": 27,
   "id": "ec69bd44-847f-4812-8a1d-c88bcb4ade8a",
   "metadata": {
    "tags": []
   },
   "outputs": [
    {
     "name": "stdout",
     "output_type": "stream",
     "text": [
      "<class 'pandas.core.frame.DataFrame'>\n",
      "Index: 2000000 entries, 0 to 999999\n",
      "Data columns (total 17 columns):\n",
      " #   Column                    Non-Null Count    Dtype  \n",
      "---  ------                    --------------    -----  \n",
      " 0   ID                        2000000 non-null  object \n",
      " 1   Month                     2000000 non-null  int64  \n",
      " 2   Day_of_Month              2000000 non-null  int64  \n",
      " 3   Estimated_Departure_Time  1781997 non-null  float64\n",
      " 4   Estimated_Arrival_Time    1781912 non-null  float64\n",
      " 5   Origin_Airport            2000000 non-null  object \n",
      " 6   Origin_Airport_ID         2000000 non-null  int64  \n",
      " 7   Origin_State              2000000 non-null  object \n",
      " 8   Destination_Airport       2000000 non-null  object \n",
      " 9   Destination_Airport_ID    2000000 non-null  int64  \n",
      " 10  Destination_State         2000000 non-null  object \n",
      " 11  Distance                  2000000 non-null  float64\n",
      " 12  Airline                   1784553 non-null  object \n",
      " 13  Carrier_Code(IATA)        1782017 non-null  object \n",
      " 14  Carrier_ID(DOT)           1781997 non-null  float64\n",
      " 15  Tail_Number               2000000 non-null  object \n",
      " 16  Delay                     255001 non-null   object \n",
      "dtypes: float64(4), int64(4), object(9)\n",
      "memory usage: 274.7+ MB\n"
     ]
    }
   ],
   "source": [
    "train_data.info(show_counts=True)"
   ]
  },
  {
   "cell_type": "markdown",
   "id": "1dff3661-accd-4c7a-8efe-98f0b2b36ebf",
   "metadata": {},
   "source": [
    " > Origin_State, Destination_State는 100% 정확한 정보를 채울수 있었음"
   ]
  },
  {
   "cell_type": "code",
   "execution_count": 28,
   "id": "3ce01b8e-2fc8-4145-b00e-3f065be53411",
   "metadata": {
    "tags": []
   },
   "outputs": [
    {
     "data": {
      "text/plain": [
       "143245"
      ]
     },
     "execution_count": 28,
     "metadata": {},
     "output_type": "execute_result"
    }
   ],
   "source": [
    "len(train_data.dropna())"
   ]
  },
  {
   "cell_type": "markdown",
   "id": "a026c167-70fe-4be6-a618-93e9d6263bda",
   "metadata": {},
   "source": [
    "## airline"
   ]
  },
  {
   "cell_type": "markdown",
   "id": "b84dc6f3-87aa-4483-98e7-4dcac53ea44e",
   "metadata": {},
   "source": [
    "> Airline과 Carrier_ID(DOT)가 일치한다는 가정하에 채우기 시작"
   ]
  },
  {
   "cell_type": "code",
   "execution_count": 29,
   "id": "66a81d92-e9e5-49a2-b8d0-3770aa8bab1a",
   "metadata": {
    "tags": []
   },
   "outputs": [],
   "source": [
    "airline = dict()\n",
    "# airline : id"
   ]
  },
  {
   "cell_type": "code",
   "execution_count": 30,
   "id": "cc59e83e-fad5-405a-8f05-06dc388b5ef7",
   "metadata": {
    "tags": []
   },
   "outputs": [
    {
     "data": {
      "text/plain": [
       "29"
      ]
     },
     "execution_count": 30,
     "metadata": {},
     "output_type": "execute_result"
    }
   ],
   "source": [
    "len(set(train_data['Airline']))"
   ]
  },
  {
   "cell_type": "code",
   "execution_count": 31,
   "id": "22663ae0-a9e4-4a18-9f19-5175f5c4446f",
   "metadata": {
    "tags": []
   },
   "outputs": [
    {
     "name": "stderr",
     "output_type": "stream",
     "text": [
      "28it [00:00, 14037.83it/s]\n"
     ]
    }
   ],
   "source": [
    "for i,v in tqdm(train_data.loc[~train_data['Airline'].isna() * ~train_data['Carrier_ID(DOT)'].isna(),['Airline','Carrier_ID(DOT)']].drop_duplicates().iterrows()):\n",
    "    al = v['Airline']\n",
    "    ci = v['Carrier_ID(DOT)']\n",
    "    if not airline.get(al):\n",
    "        airline[al] = ci\n",
    "    elif airline[al] != ci:\n",
    "        print(ci, al, airline[al])\n",
    "        break"
   ]
  },
  {
   "cell_type": "code",
   "execution_count": 32,
   "id": "c5095276-b66b-458b-872f-7224f4eff3ef",
   "metadata": {
    "tags": []
   },
   "outputs": [
    {
     "data": {
      "text/plain": [
       "194577"
      ]
     },
     "execution_count": 32,
     "metadata": {},
     "output_type": "execute_result"
    }
   ],
   "source": [
    "(train_data['Carrier_ID(DOT)'].isna() * ~train_data['Airline'].isna() ).sum()\n",
    "# id 없고 airline 있는거 개수"
   ]
  },
  {
   "cell_type": "code",
   "execution_count": 33,
   "id": "48abf66c-d5b7-46b2-bdb5-6946a10c49ae",
   "metadata": {
    "tags": []
   },
   "outputs": [],
   "source": [
    "train_data.loc[train_data['Carrier_ID(DOT)'].isna() * ~train_data['Airline'].isna() ,'Carrier_ID(DOT)'] = train_data.loc[train_data['Carrier_ID(DOT)'].isna() * ~train_data['Airline'].isna() ,'Airline'].apply(lambda x : airline.get(x))"
   ]
  },
  {
   "cell_type": "code",
   "execution_count": 34,
   "id": "6d983f9b-46b4-45a7-b5a3-eb8280face74",
   "metadata": {
    "tags": []
   },
   "outputs": [
    {
     "data": {
      "text/plain": [
       "192021"
      ]
     },
     "execution_count": 34,
     "metadata": {},
     "output_type": "execute_result"
    }
   ],
   "source": [
    "(~train_data['Carrier_ID(DOT)'].isna() * train_data['Airline'].isna() ).sum()\n",
    "# id 있고 airline없는거 개수"
   ]
  },
  {
   "cell_type": "code",
   "execution_count": 35,
   "id": "1d4d2bfb-82fd-43eb-a84c-ce4df8d90c49",
   "metadata": {
    "tags": []
   },
   "outputs": [],
   "source": [
    "airline_reverse = dict([(v, k) for k,v in airline.items()])\n",
    "# id : airline"
   ]
  },
  {
   "cell_type": "code",
   "execution_count": 36,
   "id": "b2f3cb84-ccee-4268-8438-c7225b6d68cd",
   "metadata": {
    "tags": []
   },
   "outputs": [],
   "source": [
    "train_data.loc[~train_data['Carrier_ID(DOT)'].isna() * train_data['Airline'].isna() ,'Airline'] = train_data.loc[~train_data['Carrier_ID(DOT)'].isna() * train_data['Airline'].isna() ,'Carrier_ID(DOT)'].apply(lambda x : airline_reverse.get(x))"
   ]
  },
  {
   "cell_type": "markdown",
   "id": "0b350427-b972-4aec-809a-3a04b9b0ea70",
   "metadata": {},
   "source": [
    "> 해당 출발 공항/ 도착공항 가는게 한개 밖에 없으면 넣음"
   ]
  },
  {
   "cell_type": "code",
   "execution_count": 37,
   "id": "b30fcc03-11c6-40be-921d-1382b4cafebc",
   "metadata": {
    "tags": []
   },
   "outputs": [
    {
     "data": {
      "text/plain": [
       "23426"
      ]
     },
     "execution_count": 37,
     "metadata": {},
     "output_type": "execute_result"
    }
   ],
   "source": [
    "train_data['Airline'].isna().sum()"
   ]
  },
  {
   "cell_type": "code",
   "execution_count": 38,
   "id": "a72a3010-90de-4b62-8a9f-1a92facc6285",
   "metadata": {
    "tags": []
   },
   "outputs": [],
   "source": [
    "train_data['ODA'] = train_data.Origin_Airport + '_' + train_data.Destination_Airport"
   ]
  },
  {
   "cell_type": "code",
   "execution_count": 39,
   "id": "25f447dc-76b1-4a7d-9e91-82500916dc02",
   "metadata": {
    "tags": []
   },
   "outputs": [],
   "source": [
    "oda = train_data.loc[train_data.ODA.isin(set(train_data.loc[train_data.Airline.isna(),'ODA']))].groupby(by='ODA').Airline.apply(lambda x : x.value_counts().index[0] if len(x.value_counts()) == 1 else None)"
   ]
  },
  {
   "cell_type": "code",
   "execution_count": 40,
   "id": "750625b6-195d-48cb-9189-d0fe9fb51bb2",
   "metadata": {
    "tags": []
   },
   "outputs": [],
   "source": [
    "train_data.loc[train_data.Airline.isna(),['Airline']] = train_data.loc[train_data.Airline.isna(), 'ODA'].map(lambda x : oda[x])"
   ]
  },
  {
   "cell_type": "code",
   "execution_count": 41,
   "id": "819919c4-f019-4da5-890a-98e4571471ba",
   "metadata": {
    "tags": []
   },
   "outputs": [],
   "source": [
    "train_data.loc[train_data['Carrier_ID(DOT)'].isna(),['Carrier_ID(DOT)']] = train_data.loc[train_data['Carrier_ID(DOT)'].isna(), 'ODA'].map(lambda x : airline.get(oda[x]))"
   ]
  },
  {
   "cell_type": "code",
   "execution_count": 42,
   "id": "db223f17-5f96-4425-b1bb-838ecea165bf",
   "metadata": {
    "tags": []
   },
   "outputs": [
    {
     "data": {
      "text/plain": [
       "19168"
      ]
     },
     "execution_count": 42,
     "metadata": {},
     "output_type": "execute_result"
    }
   ],
   "source": [
    "train_data['Airline'].isna().sum()"
   ]
  },
  {
   "cell_type": "code",
   "execution_count": 43,
   "id": "c54ccb01-83a7-45c8-a237-d6b2e9f21640",
   "metadata": {
    "tags": []
   },
   "outputs": [],
   "source": [
    "train_data.drop('ODA', axis=1 , inplace=True)"
   ]
  },
  {
   "cell_type": "code",
   "execution_count": 44,
   "id": "b0cde4b8-1891-4f1e-b936-9e8680d22090",
   "metadata": {
    "tags": []
   },
   "outputs": [
    {
     "name": "stdout",
     "output_type": "stream",
     "text": [
      "<class 'pandas.core.frame.DataFrame'>\n",
      "Index: 2000000 entries, 0 to 999999\n",
      "Data columns (total 17 columns):\n",
      " #   Column                    Non-Null Count    Dtype  \n",
      "---  ------                    --------------    -----  \n",
      " 0   ID                        2000000 non-null  object \n",
      " 1   Month                     2000000 non-null  int64  \n",
      " 2   Day_of_Month              2000000 non-null  int64  \n",
      " 3   Estimated_Departure_Time  1781997 non-null  float64\n",
      " 4   Estimated_Arrival_Time    1781912 non-null  float64\n",
      " 5   Origin_Airport            2000000 non-null  object \n",
      " 6   Origin_Airport_ID         2000000 non-null  int64  \n",
      " 7   Origin_State              2000000 non-null  object \n",
      " 8   Destination_Airport       2000000 non-null  object \n",
      " 9   Destination_Airport_ID    2000000 non-null  int64  \n",
      " 10  Destination_State         2000000 non-null  object \n",
      " 11  Distance                  2000000 non-null  float64\n",
      " 12  Airline                   1980832 non-null  object \n",
      " 13  Carrier_Code(IATA)        1782017 non-null  object \n",
      " 14  Carrier_ID(DOT)           1980832 non-null  float64\n",
      " 15  Tail_Number               2000000 non-null  object \n",
      " 16  Delay                     255001 non-null   object \n",
      "dtypes: float64(4), int64(4), object(9)\n",
      "memory usage: 274.7+ MB\n"
     ]
    }
   ],
   "source": [
    "train_data.info(show_counts=True)"
   ]
  },
  {
   "cell_type": "code",
   "execution_count": 45,
   "id": "8e1684f4-3e4c-4afe-b512-b2707a9148a4",
   "metadata": {
    "tags": []
   },
   "outputs": [
    {
     "data": {
      "text/plain": [
       "178582"
      ]
     },
     "execution_count": 45,
     "metadata": {},
     "output_type": "execute_result"
    }
   ],
   "source": [
    "len(train_data.dropna())"
   ]
  },
  {
   "cell_type": "markdown",
   "id": "5406cd0b-b4cf-404e-a7fb-6a94a909bd28",
   "metadata": {},
   "source": [
    "> airline 과 id는 아직 덜 참"
   ]
  },
  {
   "cell_type": "markdown",
   "id": "f27963d1-f2e2-4ee9-b022-ab43dca2550c",
   "metadata": {},
   "source": [
    "## Carrier_Code(IATA) "
   ]
  },
  {
   "cell_type": "markdown",
   "id": "7b3ce8f6-abbe-40a0-988e-832a255f179d",
   "metadata": {},
   "source": [
    "Carrier_Code(IATA) -> 지맘대로임"
   ]
  },
  {
   "cell_type": "code",
   "execution_count": 46,
   "id": "fafbdb7c-5717-4478-9dfd-d42e79a80c90",
   "metadata": {
    "tags": []
   },
   "outputs": [
    {
     "data": {
      "text/plain": [
       "19168"
      ]
     },
     "execution_count": 46,
     "metadata": {},
     "output_type": "execute_result"
    }
   ],
   "source": [
    "train_data['Airline'].isna().sum()"
   ]
  },
  {
   "cell_type": "markdown",
   "id": "65ea71b6-6022-4a9d-a512-009c71dd1a1c",
   "metadata": {},
   "source": [
    "## Tail_Number"
   ]
  },
  {
   "cell_type": "markdown",
   "id": "722138b2-cfb2-4565-882f-716a08d53eeb",
   "metadata": {},
   "source": [
    "Tail_Number 같은데 항공사 다를수 있음  \n",
    "이 경우는 항공기를 다른 항공사에서 빌려서 운행한거"
   ]
  },
  {
   "cell_type": "code",
   "execution_count": 47,
   "id": "dd44c73e-e3a6-4ac6-a77b-145dace39208",
   "metadata": {
    "tags": []
   },
   "outputs": [
    {
     "data": {
      "text/plain": [
       "19168"
      ]
     },
     "execution_count": 47,
     "metadata": {},
     "output_type": "execute_result"
    }
   ],
   "source": [
    "train_data['Airline'].isna().sum()"
   ]
  },
  {
   "cell_type": "code",
   "execution_count": 48,
   "id": "da02250e-9585-4a85-82d1-b90f7005cc83",
   "metadata": {
    "tags": []
   },
   "outputs": [
    {
     "data": {
      "text/plain": [
       "6506"
      ]
     },
     "execution_count": 48,
     "metadata": {},
     "output_type": "execute_result"
    }
   ],
   "source": [
    "len(set(train_data['Tail_Number']))"
   ]
  },
  {
   "cell_type": "markdown",
   "id": "76ef43a0-2b9e-4cc0-b581-dfd0610ea863",
   "metadata": {},
   "source": [
    "> 빌려준적 없는 애는 그거 Tail_Number 토대로 항공사 유추함 \n"
   ]
  },
  {
   "cell_type": "code",
   "execution_count": 49,
   "id": "eb8eb455-adbe-4bfe-931f-045d0971f153",
   "metadata": {
    "tags": []
   },
   "outputs": [],
   "source": [
    "trail = train_data.loc[train_data.Tail_Number.isin(set(train_data.loc[train_data.Airline.isna(),'Tail_Number']))].groupby(by='Tail_Number').Airline.apply(lambda x : x.value_counts().index[0] if len(x.value_counts()) == 1 else None)"
   ]
  },
  {
   "cell_type": "code",
   "execution_count": 50,
   "id": "71b9bcbf-d99f-488d-b228-c1ce2fed1c0a",
   "metadata": {
    "tags": []
   },
   "outputs": [],
   "source": [
    "train_data.loc[train_data.Airline.isna(),['Airline']] = train_data.loc[train_data.Airline.isna(), 'Tail_Number'].map(lambda x : trail[x])\n",
    "train_data.loc[train_data['Carrier_ID(DOT)'].isna(),['Carrier_ID(DOT)']] = train_data.loc[train_data['Carrier_ID(DOT)'].isna(), 'Tail_Number'].map(lambda x : airline.get(trail[x]))"
   ]
  },
  {
   "cell_type": "code",
   "execution_count": 51,
   "id": "348e8a50-fa95-462d-93e0-e3535b16ba8c",
   "metadata": {
    "tags": []
   },
   "outputs": [
    {
     "data": {
      "text/plain": [
       "727"
      ]
     },
     "execution_count": 51,
     "metadata": {},
     "output_type": "execute_result"
    }
   ],
   "source": [
    "train_data['Airline'].isna().sum()"
   ]
  },
  {
   "cell_type": "markdown",
   "id": "618eea6a-5208-4167-ae5e-7b94a422dbe0",
   "metadata": {},
   "source": [
    "> 빌려준적 있는 애중에서 그 공항에서 출발한 항공사가 한개면 걔로 넣음"
   ]
  },
  {
   "cell_type": "markdown",
   "id": "ce4a19eb-14ad-4003-9b4c-61624d8acb3e",
   "metadata": {},
   "source": [
    "> 빌려준적 있는 애중에서 그 공항에서 도착한 항공사가 한개면 걔로 넣음"
   ]
  },
  {
   "cell_type": "code",
   "execution_count": 52,
   "id": "899e948a-5115-459a-a2e9-3254554b86e2",
   "metadata": {
    "tags": []
   },
   "outputs": [],
   "source": [
    "train_data['ot'] = train_data.loc[:,['Origin_Airport','Tail_Number']].apply(lambda x: '_'.join(x),axis=1)"
   ]
  },
  {
   "cell_type": "code",
   "execution_count": 53,
   "id": "5643d9b3-0006-4b8c-a6b1-a4cde28f78cd",
   "metadata": {
    "tags": []
   },
   "outputs": [],
   "source": [
    "train_data['dt'] = train_data.loc[:,['Destination_Airport','Tail_Number']].apply(lambda x: '_'.join(x),axis=1)"
   ]
  },
  {
   "cell_type": "code",
   "execution_count": 54,
   "id": "2ccac9c5-ea70-4d9a-a70f-9b6ffb65341c",
   "metadata": {
    "tags": []
   },
   "outputs": [],
   "source": [
    "trail = train_data.loc[train_data.ot.isin(set(train_data.loc[train_data.Airline.isna(),'ot']))].groupby(by='ot').Airline.apply(lambda x : x.value_counts().index[0] if len(x.value_counts())==1 else None)"
   ]
  },
  {
   "cell_type": "code",
   "execution_count": 55,
   "id": "ab3a8baa-defe-43ce-8ff0-72b4c5f74850",
   "metadata": {
    "tags": []
   },
   "outputs": [],
   "source": [
    "train_data.loc[train_data.Airline.isna(),['Airline']] = train_data.loc[train_data.Airline.isna(), 'ot'].map(lambda x : trail[x])"
   ]
  },
  {
   "cell_type": "code",
   "execution_count": 56,
   "id": "f44f54d8-d9fc-48c8-9414-68522c9252d7",
   "metadata": {
    "tags": []
   },
   "outputs": [],
   "source": [
    "train_data.loc[train_data['Carrier_ID(DOT)'].isna(),['Carrier_ID(DOT)']] = train_data.loc[train_data['Carrier_ID(DOT)'].isna(), 'ot'].map(lambda x : airline.get(trail[x]))"
   ]
  },
  {
   "cell_type": "code",
   "execution_count": 57,
   "id": "26e007ee-6945-4c3b-b89a-ba998dd11fec",
   "metadata": {
    "tags": []
   },
   "outputs": [
    {
     "data": {
      "text/plain": [
       "351"
      ]
     },
     "execution_count": 57,
     "metadata": {},
     "output_type": "execute_result"
    }
   ],
   "source": [
    "train_data['Carrier_ID(DOT)'].isna().sum()"
   ]
  },
  {
   "cell_type": "code",
   "execution_count": 58,
   "id": "41ce8b0b-4e21-4de3-8dcc-472f06e10cb8",
   "metadata": {
    "tags": []
   },
   "outputs": [],
   "source": [
    "trail = train_data.loc[train_data.dt.isin(set(train_data.loc[train_data.Airline.isna(),'dt']))].groupby(by='dt').Airline.apply(lambda x : x.value_counts().index[0] if len(x.value_counts())==1 else None)"
   ]
  },
  {
   "cell_type": "code",
   "execution_count": 59,
   "id": "f633c389-376e-447a-bd55-b4248c9e5cb5",
   "metadata": {
    "tags": []
   },
   "outputs": [],
   "source": [
    "train_data.loc[train_data.Airline.isna(),['Airline']] = train_data.loc[train_data.Airline.isna(), 'dt'].map(lambda x : trail[x])\n",
    "train_data.loc[train_data['Carrier_ID(DOT)'].isna(),['Carrier_ID(DOT)']] = train_data.loc[train_data['Carrier_ID(DOT)'].isna(), 'dt'].map(lambda x : airline.get(trail[x]))"
   ]
  },
  {
   "cell_type": "code",
   "execution_count": 60,
   "id": "d329c80e-e73a-49c0-90f1-17276ab62ed8",
   "metadata": {
    "tags": []
   },
   "outputs": [
    {
     "data": {
      "text/plain": [
       "222"
      ]
     },
     "execution_count": 60,
     "metadata": {},
     "output_type": "execute_result"
    }
   ],
   "source": [
    "train_data['Carrier_ID(DOT)'].isna().sum()"
   ]
  },
  {
   "cell_type": "code",
   "execution_count": 61,
   "id": "d109a0ec-4ce4-4c24-9f53-f0ccd76ac634",
   "metadata": {
    "tags": []
   },
   "outputs": [],
   "source": [
    "train_data.drop('ot',axis=1, inplace=True)\n",
    "train_data.drop('dt',axis=1, inplace=True)"
   ]
  },
  {
   "cell_type": "markdown",
   "id": "d1e3ffa7-deaf-4ae7-8b49-85f1cb3f7210",
   "metadata": {},
   "source": [
    "> 빌려준적 있는 애중에서 그 state에서 출발한 항공사가 한개면 걔로 넣음"
   ]
  },
  {
   "cell_type": "markdown",
   "id": "05ccf6ba-af9e-4b7c-a5f2-0eab5bb2a492",
   "metadata": {},
   "source": [
    "> 빌려준적 있는 애중에서 그 state에서 도착한 항공사가 한개면 걔로 넣음"
   ]
  },
  {
   "cell_type": "code",
   "execution_count": 62,
   "id": "9b7b2cb3-8b6d-4d08-b001-4b95715e1b93",
   "metadata": {
    "tags": []
   },
   "outputs": [],
   "source": [
    "train_data['os'] = train_data.loc[:,['Origin_State','Tail_Number']].apply(lambda x: '_'.join(x),axis=1)"
   ]
  },
  {
   "cell_type": "code",
   "execution_count": 63,
   "id": "867b7f96-d688-4e08-aaef-9e28ace89a02",
   "metadata": {
    "tags": []
   },
   "outputs": [],
   "source": [
    "train_data['ds'] = train_data.loc[:,['Origin_State','Tail_Number']].apply(lambda x: '_'.join(x),axis=1)"
   ]
  },
  {
   "cell_type": "code",
   "execution_count": 64,
   "id": "3a0f4bf7-0321-459d-a772-5d838fcee663",
   "metadata": {
    "tags": []
   },
   "outputs": [],
   "source": [
    "trail = train_data.loc[train_data.os.isin(set(train_data.loc[train_data.Airline.isna(),'os']))].groupby(by='os').Airline.apply(lambda x : x.value_counts().index[0] if len(x.value_counts())==1 else None)"
   ]
  },
  {
   "cell_type": "code",
   "execution_count": 65,
   "id": "ef9d010a-a0a3-48e1-9042-3a242af684d9",
   "metadata": {
    "tags": []
   },
   "outputs": [],
   "source": [
    "train_data.loc[train_data.Airline.isna(),['Airline']] = train_data.loc[train_data.Airline.isna(), 'os'].map(lambda x : trail[x])\n",
    "train_data.loc[train_data['Carrier_ID(DOT)'].isna(),['Carrier_ID(DOT)']] = train_data.loc[train_data['Carrier_ID(DOT)'].isna(), 'os'].map(lambda x : airline.get(trail[x]))"
   ]
  },
  {
   "cell_type": "code",
   "execution_count": 66,
   "id": "7efebc9f-11d4-4079-b5d3-573894958e3a",
   "metadata": {
    "tags": []
   },
   "outputs": [
    {
     "data": {
      "text/plain": [
       "216"
      ]
     },
     "execution_count": 66,
     "metadata": {},
     "output_type": "execute_result"
    }
   ],
   "source": [
    "train_data['Carrier_ID(DOT)'].isna().sum()"
   ]
  },
  {
   "cell_type": "code",
   "execution_count": 67,
   "id": "7b800e26-745e-4b8c-8615-8625dec000bd",
   "metadata": {
    "tags": []
   },
   "outputs": [],
   "source": [
    "trail = train_data.loc[train_data.ds.isin(set(train_data.loc[train_data.Airline.isna(),'ds']))].groupby(by='ds').Airline.apply(lambda x : x.value_counts().index[0] if len(x.value_counts())==1 else None)"
   ]
  },
  {
   "cell_type": "code",
   "execution_count": 68,
   "id": "9f7076d9-2d72-4dde-b8e4-e488274012ed",
   "metadata": {
    "tags": []
   },
   "outputs": [],
   "source": [
    "train_data.loc[train_data.Airline.isna(),['Airline']] = train_data.loc[train_data.Airline.isna(), 'ds'].map(lambda x : trail[x])\n",
    "train_data.loc[train_data['Carrier_ID(DOT)'].isna(),['Carrier_ID(DOT)']] = train_data.loc[train_data['Carrier_ID(DOT)'].isna(), 'ds'].map(lambda x : airline.get(trail[x]))"
   ]
  },
  {
   "cell_type": "code",
   "execution_count": 69,
   "id": "21fb9f19-2199-47a7-9dd9-327b38ee0c39",
   "metadata": {
    "tags": []
   },
   "outputs": [
    {
     "data": {
      "text/plain": [
       "216"
      ]
     },
     "execution_count": 69,
     "metadata": {},
     "output_type": "execute_result"
    }
   ],
   "source": [
    "train_data['Carrier_ID(DOT)'].isna().sum()"
   ]
  },
  {
   "cell_type": "code",
   "execution_count": 70,
   "id": "a5fe5b15-9141-47a7-b7f2-7459adb23a60",
   "metadata": {
    "tags": []
   },
   "outputs": [],
   "source": [
    "train_data.drop('os',axis=1, inplace=True)\n",
    "train_data.drop('ds',axis=1, inplace=True)"
   ]
  },
  {
   "cell_type": "markdown",
   "id": "59354746-82e8-4b5d-b7a9-6fc479c2bce5",
   "metadata": {},
   "source": [
    "> 나머지는 그냥 많이 쓰는 항공회사로 넣음"
   ]
  },
  {
   "cell_type": "code",
   "execution_count": 71,
   "id": "cce33d45-b649-427b-bb4e-69e25f8b38b1",
   "metadata": {
    "tags": []
   },
   "outputs": [],
   "source": [
    "trail = train_data.loc[train_data.Tail_Number.isin(set(train_data.loc[train_data.Airline.isna(),'Tail_Number']))].groupby(by='Tail_Number').Airline.apply(lambda x : x.value_counts().index[0])"
   ]
  },
  {
   "cell_type": "code",
   "execution_count": 72,
   "id": "32c20fd3-780f-4926-8132-1d28f7a60c09",
   "metadata": {
    "tags": []
   },
   "outputs": [],
   "source": [
    "train_data.loc[train_data.Airline.isna(),['Airline']] = train_data.loc[train_data.Airline.isna(), 'Tail_Number'].map(lambda x : trail[x])\n",
    "train_data.loc[train_data['Carrier_ID(DOT)'].isna(),['Carrier_ID(DOT)']] = train_data.loc[train_data['Carrier_ID(DOT)'].isna(), 'Tail_Number'].map(lambda x : airline.get(trail[x]))"
   ]
  },
  {
   "cell_type": "code",
   "execution_count": 73,
   "id": "750e7dc2-8f62-4332-9c63-a30fe6756bdd",
   "metadata": {
    "tags": []
   },
   "outputs": [
    {
     "data": {
      "text/plain": [
       "0"
      ]
     },
     "execution_count": 73,
     "metadata": {},
     "output_type": "execute_result"
    }
   ],
   "source": [
    "train_data['Airline'].isna().sum()"
   ]
  },
  {
   "cell_type": "code",
   "execution_count": 74,
   "id": "c5b3ccb6-afc1-474b-948f-0a3a3ba48532",
   "metadata": {
    "tags": []
   },
   "outputs": [
    {
     "name": "stdout",
     "output_type": "stream",
     "text": [
      "<class 'pandas.core.frame.DataFrame'>\n",
      "Index: 2000000 entries, 0 to 999999\n",
      "Data columns (total 17 columns):\n",
      " #   Column                    Non-Null Count    Dtype  \n",
      "---  ------                    --------------    -----  \n",
      " 0   ID                        2000000 non-null  object \n",
      " 1   Month                     2000000 non-null  int64  \n",
      " 2   Day_of_Month              2000000 non-null  int64  \n",
      " 3   Estimated_Departure_Time  1781997 non-null  float64\n",
      " 4   Estimated_Arrival_Time    1781912 non-null  float64\n",
      " 5   Origin_Airport            2000000 non-null  object \n",
      " 6   Origin_Airport_ID         2000000 non-null  int64  \n",
      " 7   Origin_State              2000000 non-null  object \n",
      " 8   Destination_Airport       2000000 non-null  object \n",
      " 9   Destination_Airport_ID    2000000 non-null  int64  \n",
      " 10  Destination_State         2000000 non-null  object \n",
      " 11  Distance                  2000000 non-null  float64\n",
      " 12  Airline                   2000000 non-null  object \n",
      " 13  Carrier_Code(IATA)        1782017 non-null  object \n",
      " 14  Carrier_ID(DOT)           2000000 non-null  object \n",
      " 15  Tail_Number               2000000 non-null  object \n",
      " 16  Delay                     255001 non-null   object \n",
      "dtypes: float64(3), int64(4), object(10)\n",
      "memory usage: 274.7+ MB\n"
     ]
    }
   ],
   "source": [
    "train_data.info(show_counts=True)"
   ]
  },
  {
   "cell_type": "code",
   "execution_count": 75,
   "id": "0c0eacc1-d29f-44a7-a94c-24bd9d77689f",
   "metadata": {
    "tags": []
   },
   "outputs": [
    {
     "data": {
      "text/plain": [
       "180285"
      ]
     },
     "execution_count": 75,
     "metadata": {},
     "output_type": "execute_result"
    }
   ],
   "source": [
    "len(train_data.dropna())"
   ]
  },
  {
   "cell_type": "markdown",
   "id": "d2fc46c4-60ae-4f50-919b-e8ad1793204b",
   "metadata": {},
   "source": [
    "## Estimated_Departure_Time"
   ]
  },
  {
   "cell_type": "markdown",
   "id": "6b1cb1ad-1e9c-42c1-aa60-c6a6ad9d5708",
   "metadata": {},
   "source": [
    "시 분을 대충 평균 때리면 안되는 이유 :  \n",
    "11:50 - 00: 10 의 평균은 00 : 00 이지만 12시가 되어버림  \n",
    "각도로 계산해야함"
   ]
  },
  {
   "cell_type": "markdown",
   "id": "9b529309-b22d-43e7-94d2-d63e784f0cf9",
   "metadata": {},
   "source": [
    "https://www.deeyook.com/post/circular-statistics-in-python-an-intuitive-intro"
   ]
  },
  {
   "cell_type": "code",
   "execution_count": 76,
   "id": "29b8f1e2-92db-4357-bb95-a9e67e0a9eaa",
   "metadata": {
    "tags": []
   },
   "outputs": [],
   "source": [
    "import math\n",
    "\n",
    "def time_to_radians(x):\n",
    "    radians = x / (24 * 60)  * 2.0 * math.pi # 2pi\n",
    "    return radians\n",
    "\n",
    "def mean_angle(angles):\n",
    "    angles = list(filter(np.isfinite,angles))\n",
    "    if len(angles) == 0:\n",
    "        return np.nan\n",
    "\n",
    "    x = list(map(math.sin, angles))\n",
    "    y = list(map(math.cos, angles))\n",
    "    x_mean = np.mean(x)\n",
    "    y_mean = np.mean(y) \n",
    "    avg = np.arctan2(x_mean, y_mean)\n",
    "  \n",
    "    return avg\n",
    "\n",
    "def std_angle(angles):\n",
    "    angles = list(filter(np.isfinite,angles))\n",
    "    if len(angles) == 0:\n",
    "        return np.nan\n",
    "    x = list(map(math.sin, angles))\n",
    "    y = list(map(math.cos, angles))\n",
    "    x_mean = np.mean(x)\n",
    "    y_mean = np.mean(y)\n",
    "    \n",
    "    R = math.sqrt(x_mean**2 + y_mean**2)\n",
    "    try:\n",
    "        std = math.sqrt(-2 * math.log(R))\n",
    "    except :\n",
    "        return 0\n",
    "    return std\n",
    "\n",
    "def radians_to_min(x):\n",
    "    if np.isnan(x):\n",
    "        return np.nan\n",
    "    if x < 0:\n",
    "        x += math.pi * 2\n",
    "    m = int(x / (2 * math.pi) * 24 * 60  ) \n",
    "    return m\n",
    "\n",
    "def radians_to_time(x):\n",
    "    if np.isnan(x):\n",
    "        return np.nan\n",
    "    if x < 0:\n",
    "        x += math.pi * 2\n",
    "    x = int(x / (2 * math.pi) * 24 * 60  ) \n",
    "    h, m = divmod(x, 60)\n",
    "    return 100 * h + m\n",
    "\n",
    "def time_to_min(x):\n",
    "    if np.isnan(x):\n",
    "        return np.nan\n",
    "    h, m = divmod(x, 100)\n",
    "    return 60 * h + m\n",
    "def min_to_time(x):\n",
    "    if np.isnan(x):\n",
    "        return np.nan\n",
    "    h, m = divmod(x, 60)\n",
    "    return h * 100 + m"
   ]
  },
  {
   "cell_type": "markdown",
   "id": "9609bfde-f664-4042-b770-27bcb410aea7",
   "metadata": {
    "tags": []
   },
   "source": [
    "Estimated_Departure_Time: 전산 시스템을 바탕으로 측정된 비행기의 출발 시간 (현지 시각, HH:MM 형식)   \n",
    "Estimated_Arrival_Time: 전산 시스템을 바탕으로 측정된 비행기의 도착 시간 (현지 시각, HH:MM 형식)  "
   ]
  },
  {
   "cell_type": "code",
   "execution_count": 77,
   "id": "963f86bc-a04c-456a-ac38-8018a6670940",
   "metadata": {
    "tags": []
   },
   "outputs": [
    {
     "data": {
      "text/plain": [
       "218088"
      ]
     },
     "execution_count": 77,
     "metadata": {},
     "output_type": "execute_result"
    }
   ],
   "source": [
    "train_data.Estimated_Arrival_Time.isna().sum() # 도착 x"
   ]
  },
  {
   "cell_type": "code",
   "execution_count": 78,
   "id": "ffe762a7-c2b5-47c0-957f-6e3eaf1609ce",
   "metadata": {
    "tags": []
   },
   "outputs": [
    {
     "data": {
      "text/plain": [
       "218003"
      ]
     },
     "execution_count": 78,
     "metadata": {},
     "output_type": "execute_result"
    }
   ],
   "source": [
    "train_data.Estimated_Departure_Time.isna().sum() # 출발 x"
   ]
  },
  {
   "cell_type": "code",
   "execution_count": 79,
   "id": "d1592846-d35f-4407-b115-4cd66c4cd223",
   "metadata": {
    "tags": []
   },
   "outputs": [
    {
     "data": {
      "text/plain": [
       "412475"
      ]
     },
     "execution_count": 79,
     "metadata": {},
     "output_type": "execute_result"
    }
   ],
   "source": [
    "(train_data.Estimated_Departure_Time.isna() | train_data.Estimated_Arrival_Time.isna()).sum() # 둘 중 하나 x"
   ]
  },
  {
   "cell_type": "code",
   "execution_count": 80,
   "id": "7e6c7e24-50c5-4274-bc81-341e010a966e",
   "metadata": {
    "tags": []
   },
   "outputs": [
    {
     "data": {
      "text/plain": [
       "23616"
      ]
     },
     "execution_count": 80,
     "metadata": {},
     "output_type": "execute_result"
    }
   ],
   "source": [
    "(train_data.Estimated_Departure_Time.isna() * train_data.Estimated_Arrival_Time.isna()).sum() # 둘 다 x"
   ]
  },
  {
   "cell_type": "code",
   "execution_count": 81,
   "id": "d4a55917-8a6c-4f23-b052-ad97ca1b7432",
   "metadata": {
    "tags": []
   },
   "outputs": [
    {
     "data": {
      "text/plain": [
       "388859"
      ]
     },
     "execution_count": 81,
     "metadata": {},
     "output_type": "execute_result"
    }
   ],
   "source": [
    "# 둘 중 하나는 있\n",
    "((train_data.Estimated_Departure_Time.isna() & ~train_data.Estimated_Arrival_Time.isna()) | (~train_data.Estimated_Departure_Time.isna() & train_data.Estimated_Arrival_Time.isna())).sum()"
   ]
  },
  {
   "cell_type": "markdown",
   "id": "2defb21f-9903-43e1-bb6d-ee23da462bc7",
   "metadata": {},
   "source": [
    "둘 중 하나라도 없는 경우 > 206371  \n",
    "둘 다 없는 경우 > 11688   \n",
    "둘 중 하나는 있는 경우 > 194683  \n",
    "94% 는 둘 중 하나라도 있음"
   ]
  },
  {
   "cell_type": "markdown",
   "id": "0afda04d-a454-49f1-a4ed-3ec6c027bca0",
   "metadata": {},
   "source": [
    "> 우선 도착 시간 출발 시간 둘 중에 하나만 이라도 있으면 걸린 시간으로 역산하자"
   ]
  },
  {
   "cell_type": "code",
   "execution_count": 82,
   "id": "4f3b31b3-93fe-478d-b8ac-de77f061659a",
   "metadata": {
    "tags": []
   },
   "outputs": [],
   "source": [
    "train_data['ODA'] = train_data.Origin_Airport + '_' + train_data.Destination_Airport"
   ]
  },
  {
   "cell_type": "code",
   "execution_count": 83,
   "id": "7088407d-f853-430b-b759-5dc6185791e4",
   "metadata": {
    "tags": []
   },
   "outputs": [],
   "source": [
    "import airporttime # https://pypi.org/project/airporttime/\n",
    "import datetime"
   ]
  },
  {
   "cell_type": "code",
   "execution_count": 84,
   "id": "6a17781a-1ae5-475d-86b1-16c1c59c50d1",
   "metadata": {
    "tags": []
   },
   "outputs": [],
   "source": [
    "airports_time = dict()"
   ]
  },
  {
   "cell_type": "code",
   "execution_count": 85,
   "id": "d1068fd1-30f2-41b1-b3ff-e4d3813766f1",
   "metadata": {
    "tags": []
   },
   "outputs": [],
   "source": [
    "for a in airports.keys():\n",
    "    at= airporttime.AirportTime(iata_code=a).airport.__dict__\n",
    "    # dst_offset => summer time \n",
    "    airports_time[a] = at['gmt_offset']\n",
    "# 현지시각 -> GMT 0 로 변환\n",
    "# 맹점 : 서머 타임이 적용되는가?"
   ]
  },
  {
   "cell_type": "code",
   "execution_count": 86,
   "id": "8bd13771-75cf-4df6-aa19-1c758a31e49a",
   "metadata": {
    "tags": []
   },
   "outputs": [],
   "source": [
    "train_data['OA_offset'] = train_data.Origin_Airport.map(lambda x : eval(airports_time[x]))\n",
    "train_data['DA_offset'] = train_data.Destination_Airport.map(lambda x : eval(airports_time[x]))"
   ]
  },
  {
   "cell_type": "code",
   "execution_count": 87,
   "id": "39ebfe4a-52c2-457c-a003-4b183aad9013",
   "metadata": {
    "tags": []
   },
   "outputs": [],
   "source": [
    "for _ in range(2):\n",
    "    train_data['Estimated_Departure_Time2'] = ((train_data.Estimated_Departure_Time.map(time_to_min) - (train_data.OA_offset * 60) + 24 * 60) % (24 * 60)).map(min_to_time)\n",
    "    train_data['Estimated_Arrival_Time2'] = ((train_data.Estimated_Arrival_Time.map(time_to_min) - (train_data.DA_offset * 60) + 24 * 60) % (24 * 60)).map(min_to_time)\n",
    "\n",
    "    train_data['Flying_Time'] = train_data.Estimated_Arrival_Time2.apply(time_to_min) -  train_data.Estimated_Departure_Time2.apply(time_to_min) \n",
    "    under_0 = train_data.loc[train_data.Flying_Time < 0].index\n",
    "    train_data.loc[train_data.Flying_Time < 0,'Flying_Time' ] += 24 * 60\n",
    "\n",
    "    oda_std = train_data.groupby(by='ODA').Flying_Time.std()\n",
    "    train_data['ODA_std'] =  train_data.ODA.apply(lambda x :oda_std[x])\n",
    "    oda_mean = train_data.groupby(by='ODA').Flying_Time.mean()\n",
    "    train_data['ODA_mean'] = train_data.ODA.apply(lambda x :oda_mean[x])\n",
    "    \n",
    "    train_data.loc[(((train_data.Flying_Time < train_data.ODA_mean -2*train_data.ODA_std))|(train_data.Flying_Time > train_data.ODA_mean + 2*train_data.ODA_std)) & (train_data.ODA_std > 20),'Estimated_Arrival_Time'] = np.NaN"
   ]
  },
  {
   "cell_type": "code",
   "execution_count": 88,
   "id": "225f8b09-27a2-4132-b1bd-3ef787cc3313",
   "metadata": {
    "tags": []
   },
   "outputs": [],
   "source": [
    "train_data['Estimated_Departure_Time2'] = ((train_data.Estimated_Departure_Time.map(time_to_min) - (train_data.OA_offset * 60) + 24 * 60) % (24 * 60)).map(min_to_time)\n",
    "train_data['Estimated_Arrival_Time2'] = ((train_data.Estimated_Arrival_Time.map(time_to_min) - (train_data.DA_offset * 60) + 24 * 60) % (24 * 60)).map(min_to_time)"
   ]
  },
  {
   "cell_type": "code",
   "execution_count": 89,
   "id": "2f12f665-b849-4a13-ad79-dc9e1483f060",
   "metadata": {
    "tags": []
   },
   "outputs": [
    {
     "data": {
      "text/plain": [
       "<Axes: >"
      ]
     },
     "execution_count": 89,
     "metadata": {},
     "output_type": "execute_result"
    },
    {
     "data": {
      "image/png": "[encoded data removed]",
      "text/plain": [
       "<Figure size 640x480 with 1 Axes>"
      ]
     },
     "metadata": {},
     "output_type": "display_data"
    }
   ],
   "source": [
    "train_data.groupby(by='ODA').ODA_std.mean().hist()"
   ]
  },
  {
   "cell_type": "code",
   "execution_count": 90,
   "id": "4501d04c-2a79-461b-92d0-009d5853649e",
   "metadata": {
    "tags": []
   },
   "outputs": [
    {
     "data": {
      "text/plain": [
       "<Axes: >"
      ]
     },
     "execution_count": 90,
     "metadata": {},
     "output_type": "execute_result"
    },
    {
     "data": {
      "image/png": "[encoded data removed]",
      "text/plain": [
       "<Figure size 640x480 with 1 Axes>"
      ]
     },
     "metadata": {},
     "output_type": "display_data"
    }
   ],
   "source": [
    "train_data.groupby(by='ODA').ODA_std.mean().hist()"
   ]
  },
  {
   "cell_type": "code",
   "execution_count": 91,
   "id": "633d6c40-cfdc-409b-a771-b476a2f0b288",
   "metadata": {
    "tags": []
   },
   "outputs": [],
   "source": [
    "DoAx = ~train_data.Estimated_Departure_Time2.isna() & train_data.Estimated_Arrival_Time2.isna()"
   ]
  },
  {
   "cell_type": "code",
   "execution_count": 92,
   "id": "2282946e-9651-4ed5-8d00-9f22f43f081b",
   "metadata": {
    "tags": []
   },
   "outputs": [
    {
     "data": {
      "text/plain": [
       "194832"
      ]
     },
     "execution_count": 92,
     "metadata": {},
     "output_type": "execute_result"
    }
   ],
   "source": [
    "(~train_data.Estimated_Departure_Time.isna() & train_data.Estimated_Arrival_Time.isna()).sum()"
   ]
  },
  {
   "cell_type": "code",
   "execution_count": 93,
   "id": "79a9ff7b-358d-4a57-9547-e5a8ed6fc7e6",
   "metadata": {
    "tags": []
   },
   "outputs": [
    {
     "data": {
      "text/plain": [
       "194832"
      ]
     },
     "execution_count": 93,
     "metadata": {},
     "output_type": "execute_result"
    }
   ],
   "source": [
    "DoAx.sum()"
   ]
  },
  {
   "cell_type": "code",
   "execution_count": 94,
   "id": "3738743b-9b6b-4fcb-90b8-c7a77207efda",
   "metadata": {
    "tags": []
   },
   "outputs": [],
   "source": [
    "train_data.loc[DoAx,'Estimated_Arrival_Time'] = (( train_data.loc[DoAx,'Estimated_Departure_Time2'].map(time_to_min) + train_data.loc[DoAx,'ODA_mean'] + (train_data.loc[DoAx,'DA_offset'] * 60) + 24 * 60) % (24 * 60)).map(min_to_time)"
   ]
  },
  {
   "cell_type": "code",
   "execution_count": 95,
   "id": "c836cf7a-7e85-4968-a07f-96c2c33c60be",
   "metadata": {
    "tags": []
   },
   "outputs": [],
   "source": [
    "train_data['Estimated_Departure_Time2'] = ((train_data.Estimated_Departure_Time.map(time_to_min) - (train_data.OA_offset * 60) + 24 * 60) % (24 * 60)).map(min_to_time)\n",
    "train_data['Estimated_Arrival_Time2'] = ((train_data.Estimated_Arrival_Time.map(time_to_min) - (train_data.DA_offset * 60) + 24 * 60) % (24 * 60)).map(min_to_time)"
   ]
  },
  {
   "cell_type": "code",
   "execution_count": 96,
   "id": "bca708f7-42b8-42fe-9cd9-f662494bda5f",
   "metadata": {
    "tags": []
   },
   "outputs": [
    {
     "data": {
      "text/html": [
       "<div>\n",
       "<style scoped>\n",
       "    .dataframe tbody tr th:only-of-type {\n",
       "        vertical-align: middle;\n",
       "    }\n",
       "\n",
       "    .dataframe tbody tr th {\n",
       "        vertical-align: top;\n",
       "    }\n",
       "\n",
       "    .dataframe thead th {\n",
       "        text-align: right;\n",
       "    }\n",
       "</style>\n",
       "<table border=\"1\" class=\"dataframe\">\n",
       "  <thead>\n",
       "    <tr style=\"text-align: right;\">\n",
       "      <th></th>\n",
       "      <th>ID</th>\n",
       "      <th>Month</th>\n",
       "      <th>Day_of_Month</th>\n",
       "      <th>Estimated_Departure_Time</th>\n",
       "      <th>Estimated_Arrival_Time</th>\n",
       "      <th>Origin_Airport</th>\n",
       "      <th>Origin_Airport_ID</th>\n",
       "      <th>Origin_State</th>\n",
       "      <th>Destination_Airport</th>\n",
       "      <th>Destination_Airport_ID</th>\n",
       "      <th>...</th>\n",
       "      <th>Tail_Number</th>\n",
       "      <th>Delay</th>\n",
       "      <th>ODA</th>\n",
       "      <th>OA_offset</th>\n",
       "      <th>DA_offset</th>\n",
       "      <th>Estimated_Departure_Time2</th>\n",
       "      <th>Estimated_Arrival_Time2</th>\n",
       "      <th>Flying_Time</th>\n",
       "      <th>ODA_std</th>\n",
       "      <th>ODA_mean</th>\n",
       "    </tr>\n",
       "  </thead>\n",
       "  <tbody>\n",
       "    <tr>\n",
       "      <th>5</th>\n",
       "      <td>TRAIN_000005</td>\n",
       "      <td>4</td>\n",
       "      <td>13</td>\n",
       "      <td>1545.0</td>\n",
       "      <td>1706.918110</td>\n",
       "      <td>EWR</td>\n",
       "      <td>11618</td>\n",
       "      <td>New Jersey</td>\n",
       "      <td>DCA</td>\n",
       "      <td>11278</td>\n",
       "      <td>...</td>\n",
       "      <td>N657RW</td>\n",
       "      <td>Not_Delayed</td>\n",
       "      <td>EWR_DCA</td>\n",
       "      <td>-5.0</td>\n",
       "      <td>-5.0</td>\n",
       "      <td>2045.0</td>\n",
       "      <td>2206.918110</td>\n",
       "      <td>NaN</td>\n",
       "      <td>5.720865</td>\n",
       "      <td>81.918110</td>\n",
       "    </tr>\n",
       "    <tr>\n",
       "      <th>20</th>\n",
       "      <td>TRAIN_000020</td>\n",
       "      <td>7</td>\n",
       "      <td>2</td>\n",
       "      <td>620.0</td>\n",
       "      <td>747.502894</td>\n",
       "      <td>BWI</td>\n",
       "      <td>10821</td>\n",
       "      <td>Maryland</td>\n",
       "      <td>BOS</td>\n",
       "      <td>10721</td>\n",
       "      <td>...</td>\n",
       "      <td>N292WN</td>\n",
       "      <td>NaN</td>\n",
       "      <td>BWI_BOS</td>\n",
       "      <td>-5.0</td>\n",
       "      <td>-5.0</td>\n",
       "      <td>1120.0</td>\n",
       "      <td>1247.502894</td>\n",
       "      <td>NaN</td>\n",
       "      <td>4.835864</td>\n",
       "      <td>87.502894</td>\n",
       "    </tr>\n",
       "    <tr>\n",
       "      <th>24</th>\n",
       "      <td>TRAIN_000024</td>\n",
       "      <td>11</td>\n",
       "      <td>28</td>\n",
       "      <td>1030.0</td>\n",
       "      <td>1056.751825</td>\n",
       "      <td>TPA</td>\n",
       "      <td>15304</td>\n",
       "      <td>Florida</td>\n",
       "      <td>BHM</td>\n",
       "      <td>10599</td>\n",
       "      <td>...</td>\n",
       "      <td>N921WN</td>\n",
       "      <td>NaN</td>\n",
       "      <td>TPA_BHM</td>\n",
       "      <td>-5.0</td>\n",
       "      <td>-6.0</td>\n",
       "      <td>1530.0</td>\n",
       "      <td>1656.751825</td>\n",
       "      <td>NaN</td>\n",
       "      <td>3.461513</td>\n",
       "      <td>86.751825</td>\n",
       "    </tr>\n",
       "    <tr>\n",
       "      <th>28</th>\n",
       "      <td>TRAIN_000028</td>\n",
       "      <td>8</td>\n",
       "      <td>7</td>\n",
       "      <td>930.0</td>\n",
       "      <td>1046.759303</td>\n",
       "      <td>SAN</td>\n",
       "      <td>14679</td>\n",
       "      <td>California</td>\n",
       "      <td>LAS</td>\n",
       "      <td>12889</td>\n",
       "      <td>...</td>\n",
       "      <td>N628NK</td>\n",
       "      <td>Not_Delayed</td>\n",
       "      <td>SAN_LAS</td>\n",
       "      <td>-8.0</td>\n",
       "      <td>-8.0</td>\n",
       "      <td>1730.0</td>\n",
       "      <td>1846.759303</td>\n",
       "      <td>NaN</td>\n",
       "      <td>7.332213</td>\n",
       "      <td>76.759303</td>\n",
       "    </tr>\n",
       "    <tr>\n",
       "      <th>29</th>\n",
       "      <td>TRAIN_000029</td>\n",
       "      <td>10</td>\n",
       "      <td>20</td>\n",
       "      <td>800.0</td>\n",
       "      <td>1042.595238</td>\n",
       "      <td>SEA</td>\n",
       "      <td>14747</td>\n",
       "      <td>Washington</td>\n",
       "      <td>ANC</td>\n",
       "      <td>10299</td>\n",
       "      <td>...</td>\n",
       "      <td>N457AS</td>\n",
       "      <td>NaN</td>\n",
       "      <td>SEA_ANC</td>\n",
       "      <td>-8.0</td>\n",
       "      <td>-9.0</td>\n",
       "      <td>1600.0</td>\n",
       "      <td>1942.595238</td>\n",
       "      <td>NaN</td>\n",
       "      <td>8.101669</td>\n",
       "      <td>222.595238</td>\n",
       "    </tr>\n",
       "    <tr>\n",
       "      <th>...</th>\n",
       "      <td>...</td>\n",
       "      <td>...</td>\n",
       "      <td>...</td>\n",
       "      <td>...</td>\n",
       "      <td>...</td>\n",
       "      <td>...</td>\n",
       "      <td>...</td>\n",
       "      <td>...</td>\n",
       "      <td>...</td>\n",
       "      <td>...</td>\n",
       "      <td>...</td>\n",
       "      <td>...</td>\n",
       "      <td>...</td>\n",
       "      <td>...</td>\n",
       "      <td>...</td>\n",
       "      <td>...</td>\n",
       "      <td>...</td>\n",
       "      <td>...</td>\n",
       "      <td>...</td>\n",
       "      <td>...</td>\n",
       "      <td>...</td>\n",
       "    </tr>\n",
       "    <tr>\n",
       "      <th>999931</th>\n",
       "      <td>TEST_999931</td>\n",
       "      <td>11</td>\n",
       "      <td>15</td>\n",
       "      <td>800.0</td>\n",
       "      <td>1043.665370</td>\n",
       "      <td>SEA</td>\n",
       "      <td>14747</td>\n",
       "      <td>Washington</td>\n",
       "      <td>PSP</td>\n",
       "      <td>14262</td>\n",
       "      <td>...</td>\n",
       "      <td>N285AK</td>\n",
       "      <td>NaN</td>\n",
       "      <td>SEA_PSP</td>\n",
       "      <td>-8.0</td>\n",
       "      <td>-8.0</td>\n",
       "      <td>1600.0</td>\n",
       "      <td>1843.665370</td>\n",
       "      <td>NaN</td>\n",
       "      <td>7.285265</td>\n",
       "      <td>163.665370</td>\n",
       "    </tr>\n",
       "    <tr>\n",
       "      <th>999933</th>\n",
       "      <td>TEST_999933</td>\n",
       "      <td>3</td>\n",
       "      <td>5</td>\n",
       "      <td>1334.0</td>\n",
       "      <td>1448.485169</td>\n",
       "      <td>DFW</td>\n",
       "      <td>11298</td>\n",
       "      <td>Texas</td>\n",
       "      <td>LIT</td>\n",
       "      <td>12992</td>\n",
       "      <td>...</td>\n",
       "      <td>N602NN</td>\n",
       "      <td>NaN</td>\n",
       "      <td>DFW_LIT</td>\n",
       "      <td>-6.0</td>\n",
       "      <td>-6.0</td>\n",
       "      <td>1934.0</td>\n",
       "      <td>2048.485169</td>\n",
       "      <td>NaN</td>\n",
       "      <td>4.330776</td>\n",
       "      <td>74.485169</td>\n",
       "    </tr>\n",
       "    <tr>\n",
       "      <th>999961</th>\n",
       "      <td>TEST_999961</td>\n",
       "      <td>6</td>\n",
       "      <td>2</td>\n",
       "      <td>600.0</td>\n",
       "      <td>713.790244</td>\n",
       "      <td>PHL</td>\n",
       "      <td>14100</td>\n",
       "      <td>Pennsylvania</td>\n",
       "      <td>MDW</td>\n",
       "      <td>13232</td>\n",
       "      <td>...</td>\n",
       "      <td>N8514F</td>\n",
       "      <td>NaN</td>\n",
       "      <td>PHL_MDW</td>\n",
       "      <td>-5.0</td>\n",
       "      <td>-6.0</td>\n",
       "      <td>1100.0</td>\n",
       "      <td>1313.790244</td>\n",
       "      <td>NaN</td>\n",
       "      <td>6.763551</td>\n",
       "      <td>133.790244</td>\n",
       "    </tr>\n",
       "    <tr>\n",
       "      <th>999984</th>\n",
       "      <td>TEST_999984</td>\n",
       "      <td>5</td>\n",
       "      <td>31</td>\n",
       "      <td>1045.0</td>\n",
       "      <td>1202.361842</td>\n",
       "      <td>ANC</td>\n",
       "      <td>10299</td>\n",
       "      <td>Alaska</td>\n",
       "      <td>BET</td>\n",
       "      <td>10551</td>\n",
       "      <td>...</td>\n",
       "      <td>N614AS</td>\n",
       "      <td>NaN</td>\n",
       "      <td>ANC_BET</td>\n",
       "      <td>-9.0</td>\n",
       "      <td>-9.0</td>\n",
       "      <td>1945.0</td>\n",
       "      <td>2102.361842</td>\n",
       "      <td>NaN</td>\n",
       "      <td>5.290939</td>\n",
       "      <td>77.361842</td>\n",
       "    </tr>\n",
       "    <tr>\n",
       "      <th>999991</th>\n",
       "      <td>TEST_999991</td>\n",
       "      <td>9</td>\n",
       "      <td>24</td>\n",
       "      <td>2140.0</td>\n",
       "      <td>602.088722</td>\n",
       "      <td>SEA</td>\n",
       "      <td>14747</td>\n",
       "      <td>Washington</td>\n",
       "      <td>JFK</td>\n",
       "      <td>12478</td>\n",
       "      <td>...</td>\n",
       "      <td>N273AK</td>\n",
       "      <td>NaN</td>\n",
       "      <td>SEA_JFK</td>\n",
       "      <td>-8.0</td>\n",
       "      <td>-5.0</td>\n",
       "      <td>540.0</td>\n",
       "      <td>1102.088722</td>\n",
       "      <td>NaN</td>\n",
       "      <td>10.472840</td>\n",
       "      <td>322.088722</td>\n",
       "    </tr>\n",
       "  </tbody>\n",
       "</table>\n",
       "<p>194832 rows × 25 columns</p>\n",
       "</div>"
      ],
      "text/plain": [
       "                  ID  Month  Day_of_Month  Estimated_Departure_Time   \n",
       "5       TRAIN_000005      4            13                    1545.0  \\\n",
       "20      TRAIN_000020      7             2                     620.0   \n",
       "24      TRAIN_000024     11            28                    1030.0   \n",
       "28      TRAIN_000028      8             7                     930.0   \n",
       "29      TRAIN_000029     10            20                     800.0   \n",
       "...              ...    ...           ...                       ...   \n",
       "999931   TEST_999931     11            15                     800.0   \n",
       "999933   TEST_999933      3             5                    1334.0   \n",
       "999961   TEST_999961      6             2                     600.0   \n",
       "999984   TEST_999984      5            31                    1045.0   \n",
       "999991   TEST_999991      9            24                    2140.0   \n",
       "\n",
       "        Estimated_Arrival_Time Origin_Airport  Origin_Airport_ID   \n",
       "5                  1706.918110            EWR              11618  \\\n",
       "20                  747.502894            BWI              10821   \n",
       "24                 1056.751825            TPA              15304   \n",
       "28                 1046.759303            SAN              14679   \n",
       "29                 1042.595238            SEA              14747   \n",
       "...                        ...            ...                ...   \n",
       "999931             1043.665370            SEA              14747   \n",
       "999933             1448.485169            DFW              11298   \n",
       "999961              713.790244            PHL              14100   \n",
       "999984             1202.361842            ANC              10299   \n",
       "999991              602.088722            SEA              14747   \n",
       "\n",
       "        Origin_State Destination_Airport  Destination_Airport_ID  ...   \n",
       "5         New Jersey                 DCA                   11278  ...  \\\n",
       "20          Maryland                 BOS                   10721  ...   \n",
       "24           Florida                 BHM                   10599  ...   \n",
       "28        California                 LAS                   12889  ...   \n",
       "29        Washington                 ANC                   10299  ...   \n",
       "...              ...                 ...                     ...  ...   \n",
       "999931    Washington                 PSP                   14262  ...   \n",
       "999933         Texas                 LIT                   12992  ...   \n",
       "999961  Pennsylvania                 MDW                   13232  ...   \n",
       "999984        Alaska                 BET                   10551  ...   \n",
       "999991    Washington                 JFK                   12478  ...   \n",
       "\n",
       "       Tail_Number        Delay      ODA OA_offset DA_offset   \n",
       "5           N657RW  Not_Delayed  EWR_DCA      -5.0      -5.0  \\\n",
       "20          N292WN          NaN  BWI_BOS      -5.0      -5.0   \n",
       "24          N921WN          NaN  TPA_BHM      -5.0      -6.0   \n",
       "28          N628NK  Not_Delayed  SAN_LAS      -8.0      -8.0   \n",
       "29          N457AS          NaN  SEA_ANC      -8.0      -9.0   \n",
       "...            ...          ...      ...       ...       ...   \n",
       "999931      N285AK          NaN  SEA_PSP      -8.0      -8.0   \n",
       "999933      N602NN          NaN  DFW_LIT      -6.0      -6.0   \n",
       "999961      N8514F          NaN  PHL_MDW      -5.0      -6.0   \n",
       "999984      N614AS          NaN  ANC_BET      -9.0      -9.0   \n",
       "999991      N273AK          NaN  SEA_JFK      -8.0      -5.0   \n",
       "\n",
       "       Estimated_Departure_Time2 Estimated_Arrival_Time2 Flying_Time   \n",
       "5                         2045.0             2206.918110         NaN  \\\n",
       "20                        1120.0             1247.502894         NaN   \n",
       "24                        1530.0             1656.751825         NaN   \n",
       "28                        1730.0             1846.759303         NaN   \n",
       "29                        1600.0             1942.595238         NaN   \n",
       "...                          ...                     ...         ...   \n",
       "999931                    1600.0             1843.665370         NaN   \n",
       "999933                    1934.0             2048.485169         NaN   \n",
       "999961                    1100.0             1313.790244         NaN   \n",
       "999984                    1945.0             2102.361842         NaN   \n",
       "999991                     540.0             1102.088722         NaN   \n",
       "\n",
       "          ODA_std    ODA_mean  \n",
       "5        5.720865   81.918110  \n",
       "20       4.835864   87.502894  \n",
       "24       3.461513   86.751825  \n",
       "28       7.332213   76.759303  \n",
       "29       8.101669  222.595238  \n",
       "...           ...         ...  \n",
       "999931   7.285265  163.665370  \n",
       "999933   4.330776   74.485169  \n",
       "999961   6.763551  133.790244  \n",
       "999984   5.290939   77.361842  \n",
       "999991  10.472840  322.088722  \n",
       "\n",
       "[194832 rows x 25 columns]"
      ]
     },
     "execution_count": 96,
     "metadata": {},
     "output_type": "execute_result"
    }
   ],
   "source": [
    "train_data[DoAx]"
   ]
  },
  {
   "cell_type": "code",
   "execution_count": 97,
   "id": "3a4c20a4-db31-4021-b4a0-90f57d8b15dc",
   "metadata": {
    "tags": []
   },
   "outputs": [],
   "source": [
    "DxAo = train_data.Estimated_Departure_Time2.isna() & ~train_data.Estimated_Arrival_Time2.isna()"
   ]
  },
  {
   "cell_type": "code",
   "execution_count": 98,
   "id": "c1dd48f3-cbf4-4d81-8eee-cf6bf4b3c7a4",
   "metadata": {
    "tags": []
   },
   "outputs": [
    {
     "data": {
      "text/plain": [
       "194387"
      ]
     },
     "execution_count": 98,
     "metadata": {},
     "output_type": "execute_result"
    }
   ],
   "source": [
    "(train_data.Estimated_Departure_Time.isna() & ~train_data.Estimated_Arrival_Time.isna()).sum()"
   ]
  },
  {
   "cell_type": "code",
   "execution_count": 99,
   "id": "8c49eea4-80d2-45bb-9663-44ab1283ae10",
   "metadata": {
    "tags": []
   },
   "outputs": [
    {
     "data": {
      "text/plain": [
       "194387"
      ]
     },
     "execution_count": 99,
     "metadata": {},
     "output_type": "execute_result"
    }
   ],
   "source": [
    "DxAo.sum()"
   ]
  },
  {
   "cell_type": "code",
   "execution_count": 100,
   "id": "7b9f3a7d-e6fd-4a44-9c11-6c1d18587c4c",
   "metadata": {
    "tags": []
   },
   "outputs": [],
   "source": [
    "train_data.loc[DxAo,'Estimated_Departure_Time'] = (( train_data.loc[DxAo,'Estimated_Arrival_Time2'].map(time_to_min) - train_data.loc[DxAo,'ODA_mean'] + (train_data.loc[DxAo,'OA_offset'] * 60) + 24 * 60) % (24 * 60)).map(min_to_time)"
   ]
  },
  {
   "cell_type": "code",
   "execution_count": 101,
   "id": "dc501c27-0b2f-4181-8cda-65fe0d5bbe69",
   "metadata": {
    "tags": []
   },
   "outputs": [],
   "source": [
    "train_data['Estimated_Departure_Time2'] = ((train_data.Estimated_Departure_Time.map(time_to_min) - (train_data.OA_offset * 60) + 24 * 60) % (24 * 60)).map(min_to_time)\n",
    "train_data['Estimated_Arrival_Time2'] = ((train_data.Estimated_Arrival_Time.map(time_to_min) - (train_data.DA_offset * 60) + 24 * 60) % (24 * 60)).map(min_to_time)"
   ]
  },
  {
   "cell_type": "code",
   "execution_count": 102,
   "id": "75209594-118f-4fe9-9cf3-3c153bd27e8d",
   "metadata": {
    "tags": []
   },
   "outputs": [
    {
     "data": {
      "text/plain": [
       "180262"
      ]
     },
     "execution_count": 102,
     "metadata": {},
     "output_type": "execute_result"
    }
   ],
   "source": [
    "len(train_data.dropna())"
   ]
  },
  {
   "cell_type": "code",
   "execution_count": 103,
   "id": "2e0e8727-e181-4d09-b2eb-5339005e1440",
   "metadata": {
    "tags": []
   },
   "outputs": [
    {
     "name": "stdout",
     "output_type": "stream",
     "text": [
      "<class 'pandas.core.frame.DataFrame'>\n",
      "Index: 2000000 entries, 0 to 999999\n",
      "Data columns (total 25 columns):\n",
      " #   Column                     Non-Null Count    Dtype  \n",
      "---  ------                     --------------    -----  \n",
      " 0   ID                         2000000 non-null  object \n",
      " 1   Month                      2000000 non-null  int64  \n",
      " 2   Day_of_Month               2000000 non-null  int64  \n",
      " 3   Estimated_Departure_Time   1976376 non-null  float64\n",
      " 4   Estimated_Arrival_Time     1976374 non-null  float64\n",
      " 5   Origin_Airport             2000000 non-null  object \n",
      " 6   Origin_Airport_ID          2000000 non-null  int64  \n",
      " 7   Origin_State               2000000 non-null  object \n",
      " 8   Destination_Airport        2000000 non-null  object \n",
      " 9   Destination_Airport_ID     2000000 non-null  int64  \n",
      " 10  Destination_State          2000000 non-null  object \n",
      " 11  Distance                   2000000 non-null  float64\n",
      " 12  Airline                    2000000 non-null  object \n",
      " 13  Carrier_Code(IATA)         1782017 non-null  object \n",
      " 14  Carrier_ID(DOT)            2000000 non-null  object \n",
      " 15  Tail_Number                2000000 non-null  object \n",
      " 16  Delay                      255001 non-null   object \n",
      " 17  ODA                        2000000 non-null  object \n",
      " 18  OA_offset                  2000000 non-null  float64\n",
      " 19  DA_offset                  2000000 non-null  float64\n",
      " 20  Estimated_Departure_Time2  1976376 non-null  float64\n",
      " 21  Estimated_Arrival_Time2    1976374 non-null  float64\n",
      " 22  Flying_Time                1587218 non-null  float64\n",
      " 23  ODA_std                    1999843 non-null  float64\n",
      " 24  ODA_mean                   1999981 non-null  float64\n",
      "dtypes: float64(10), int64(4), object(11)\n",
      "memory usage: 396.7+ MB\n"
     ]
    }
   ],
   "source": [
    "train_data.info(show_counts=True)"
   ]
  },
  {
   "cell_type": "code",
   "execution_count": 104,
   "id": "bdd09e89-2314-4757-bfe1-3df811cfde0a",
   "metadata": {
    "tags": []
   },
   "outputs": [
    {
     "data": {
      "text/plain": [
       "23626"
      ]
     },
     "execution_count": 104,
     "metadata": {},
     "output_type": "execute_result"
    }
   ],
   "source": [
    "train_data.Estimated_Arrival_Time.isna().sum() # 도착 x"
   ]
  },
  {
   "cell_type": "code",
   "execution_count": 105,
   "id": "8c822368-4952-465d-a4f6-3e15678004dc",
   "metadata": {
    "tags": []
   },
   "outputs": [
    {
     "data": {
      "text/plain": [
       "23624"
      ]
     },
     "execution_count": 105,
     "metadata": {},
     "output_type": "execute_result"
    }
   ],
   "source": [
    "train_data.Estimated_Departure_Time.isna().sum() # 출발 x"
   ]
  },
  {
   "cell_type": "code",
   "execution_count": 106,
   "id": "1145328b-02e7-4245-b8d2-e3bf5715c218",
   "metadata": {
    "tags": []
   },
   "outputs": [],
   "source": [
    "DxAx = train_data.Estimated_Departure_Time.isna() | train_data.Estimated_Arrival_Time.isna()"
   ]
  },
  {
   "cell_type": "code",
   "execution_count": 107,
   "id": "e69ff780-0c76-4147-a194-d8bd2184bb2d",
   "metadata": {
    "tags": []
   },
   "outputs": [
    {
     "data": {
      "text/plain": [
       "23634"
      ]
     },
     "execution_count": 107,
     "metadata": {},
     "output_type": "execute_result"
    }
   ],
   "source": [
    "(train_data.Estimated_Departure_Time.isna() | train_data.Estimated_Arrival_Time.isna()).sum() # 둘 중 하나 x"
   ]
  },
  {
   "cell_type": "code",
   "execution_count": 108,
   "id": "8888c0ba-7a4a-4ded-acf9-e5c74077ebc2",
   "metadata": {
    "tags": []
   },
   "outputs": [
    {
     "data": {
      "text/plain": [
       "23616"
      ]
     },
     "execution_count": 108,
     "metadata": {},
     "output_type": "execute_result"
    }
   ],
   "source": [
    "(train_data.Estimated_Departure_Time.isna() * train_data.Estimated_Arrival_Time.isna()).sum() # 둘 다 x"
   ]
  },
  {
   "cell_type": "code",
   "execution_count": 109,
   "id": "5b42aae1-fe12-4f50-bb56-810e6d896938",
   "metadata": {
    "tags": []
   },
   "outputs": [
    {
     "data": {
      "text/plain": [
       "18"
      ]
     },
     "execution_count": 109,
     "metadata": {},
     "output_type": "execute_result"
    }
   ],
   "source": [
    "# 둘 중 하나는 있\n",
    "((train_data.Estimated_Departure_Time.isna() & ~train_data.Estimated_Arrival_Time.isna()) | (~train_data.Estimated_Departure_Time.isna() & train_data.Estimated_Arrival_Time.isna())).sum()"
   ]
  },
  {
   "cell_type": "code",
   "execution_count": 110,
   "id": "73bccdbd-0ede-455b-839e-bea07c673ece",
   "metadata": {},
   "outputs": [],
   "source": [
    "# <<중요>> 할일\n",
    "# 둘다 없는 11688의 경우 그냥 A-to-B 출발 시간의 평균"
   ]
  },
  {
   "cell_type": "code",
   "execution_count": 111,
   "id": "c2c55d8b-9a53-4b5c-9881-7ee75a6f4009",
   "metadata": {
    "tags": []
   },
   "outputs": [],
   "source": [
    "train_data.loc[:,'Estimated_Arrival_Time3'] = train_data.Estimated_Arrival_Time2.apply(time_to_radians)\n",
    "train_data.loc[:,'Estimated_Departure_Time3'] = train_data.Estimated_Departure_Time2.apply(time_to_radians)\n",
    "# 분 -> radian"
   ]
  },
  {
   "cell_type": "code",
   "execution_count": 112,
   "id": "108a440a-070d-4b15-b375-95eafd191f84",
   "metadata": {
    "tags": []
   },
   "outputs": [],
   "source": [
    "a3mean = train_data.groupby(by='ODA').Estimated_Arrival_Time3.apply(mean_angle).apply(radians_to_time)\n",
    "a3std = train_data.groupby(by='ODA').Estimated_Arrival_Time3.apply(std_angle).apply(radians_to_time)\n",
    "d3mean = train_data.groupby(by='ODA').Estimated_Departure_Time3.apply(mean_angle).apply(radians_to_time)\n",
    "d3std = train_data.groupby(by='ODA').Estimated_Departure_Time3.apply(std_angle).apply(radians_to_time)"
   ]
  },
  {
   "cell_type": "code",
   "execution_count": 113,
   "id": "0ee8b6a4-fa73-4140-b5ac-104554003b83",
   "metadata": {
    "tags": []
   },
   "outputs": [],
   "source": [
    "train_data['a3mean'] = train_data.ODA.apply(lambda x :a3mean[x])\n",
    "train_data['a3std'] = train_data.ODA.apply(lambda x :a3std[x])\n",
    "train_data['d3mean'] = train_data.ODA.apply(lambda x :d3mean[x])\n",
    "train_data['d3std'] = train_data.ODA.apply(lambda x :d3std[x])"
   ]
  },
  {
   "cell_type": "code",
   "execution_count": 114,
   "id": "e72ac5d6-7d56-4581-a4f0-9936be4404f1",
   "metadata": {
    "tags": []
   },
   "outputs": [
    {
     "data": {
      "text/html": [
       "<div>\n",
       "<style scoped>\n",
       "    .dataframe tbody tr th:only-of-type {\n",
       "        vertical-align: middle;\n",
       "    }\n",
       "\n",
       "    .dataframe tbody tr th {\n",
       "        vertical-align: top;\n",
       "    }\n",
       "\n",
       "    .dataframe thead th {\n",
       "        text-align: right;\n",
       "    }\n",
       "</style>\n",
       "<table border=\"1\" class=\"dataframe\">\n",
       "  <thead>\n",
       "    <tr style=\"text-align: right;\">\n",
       "      <th></th>\n",
       "      <th>ID</th>\n",
       "      <th>Month</th>\n",
       "      <th>Day_of_Month</th>\n",
       "      <th>Estimated_Departure_Time</th>\n",
       "      <th>Estimated_Arrival_Time</th>\n",
       "      <th>Origin_Airport</th>\n",
       "      <th>Origin_Airport_ID</th>\n",
       "      <th>Origin_State</th>\n",
       "      <th>Destination_Airport</th>\n",
       "      <th>Destination_Airport_ID</th>\n",
       "      <th>...</th>\n",
       "      <th>Estimated_Arrival_Time2</th>\n",
       "      <th>Flying_Time</th>\n",
       "      <th>ODA_std</th>\n",
       "      <th>ODA_mean</th>\n",
       "      <th>Estimated_Arrival_Time3</th>\n",
       "      <th>Estimated_Departure_Time3</th>\n",
       "      <th>a3mean</th>\n",
       "      <th>a3std</th>\n",
       "      <th>d3mean</th>\n",
       "      <th>d3std</th>\n",
       "    </tr>\n",
       "  </thead>\n",
       "  <tbody>\n",
       "    <tr>\n",
       "      <th>912</th>\n",
       "      <td>TRAIN_000912</td>\n",
       "      <td>6</td>\n",
       "      <td>25</td>\n",
       "      <td>1305.0</td>\n",
       "      <td>1514.0</td>\n",
       "      <td>ABE</td>\n",
       "      <td>10135</td>\n",
       "      <td>Pennsylvania</td>\n",
       "      <td>ATL</td>\n",
       "      <td>10397</td>\n",
       "      <td>...</td>\n",
       "      <td>2014.0</td>\n",
       "      <td>129.0</td>\n",
       "      <td>6.948743</td>\n",
       "      <td>133.831169</td>\n",
       "      <td>8.787733</td>\n",
       "      <td>7.875798</td>\n",
       "      <td>126.0</td>\n",
       "      <td>502.0</td>\n",
       "      <td>1422.0</td>\n",
       "      <td>513.0</td>\n",
       "    </tr>\n",
       "    <tr>\n",
       "      <th>23683</th>\n",
       "      <td>TRAIN_023683</td>\n",
       "      <td>5</td>\n",
       "      <td>16</td>\n",
       "      <td>610.0</td>\n",
       "      <td>819.0</td>\n",
       "      <td>ABE</td>\n",
       "      <td>10135</td>\n",
       "      <td>Pennsylvania</td>\n",
       "      <td>ATL</td>\n",
       "      <td>10397</td>\n",
       "      <td>...</td>\n",
       "      <td>1319.0</td>\n",
       "      <td>129.0</td>\n",
       "      <td>6.948743</td>\n",
       "      <td>133.831169</td>\n",
       "      <td>5.755223</td>\n",
       "      <td>4.843289</td>\n",
       "      <td>126.0</td>\n",
       "      <td>502.0</td>\n",
       "      <td>1422.0</td>\n",
       "      <td>513.0</td>\n",
       "    </tr>\n",
       "    <tr>\n",
       "      <th>28901</th>\n",
       "      <td>TRAIN_028901</td>\n",
       "      <td>3</td>\n",
       "      <td>6</td>\n",
       "      <td>1755.0</td>\n",
       "      <td>2005.0</td>\n",
       "      <td>ABE</td>\n",
       "      <td>10135</td>\n",
       "      <td>Pennsylvania</td>\n",
       "      <td>ATL</td>\n",
       "      <td>10397</td>\n",
       "      <td>...</td>\n",
       "      <td>105.0</td>\n",
       "      <td>130.0</td>\n",
       "      <td>6.948743</td>\n",
       "      <td>133.831169</td>\n",
       "      <td>0.458149</td>\n",
       "      <td>9.839294</td>\n",
       "      <td>126.0</td>\n",
       "      <td>502.0</td>\n",
       "      <td>1422.0</td>\n",
       "      <td>513.0</td>\n",
       "    </tr>\n",
       "    <tr>\n",
       "      <th>40880</th>\n",
       "      <td>TRAIN_040880</td>\n",
       "      <td>8</td>\n",
       "      <td>11</td>\n",
       "      <td>1758.0</td>\n",
       "      <td>2009.0</td>\n",
       "      <td>ABE</td>\n",
       "      <td>10135</td>\n",
       "      <td>Pennsylvania</td>\n",
       "      <td>ATL</td>\n",
       "      <td>10397</td>\n",
       "      <td>...</td>\n",
       "      <td>109.0</td>\n",
       "      <td>131.0</td>\n",
       "      <td>6.948743</td>\n",
       "      <td>133.831169</td>\n",
       "      <td>0.475602</td>\n",
       "      <td>9.852384</td>\n",
       "      <td>126.0</td>\n",
       "      <td>502.0</td>\n",
       "      <td>1422.0</td>\n",
       "      <td>513.0</td>\n",
       "    </tr>\n",
       "    <tr>\n",
       "      <th>41238</th>\n",
       "      <td>TRAIN_041238</td>\n",
       "      <td>12</td>\n",
       "      <td>2</td>\n",
       "      <td>600.0</td>\n",
       "      <td>813.0</td>\n",
       "      <td>ABE</td>\n",
       "      <td>10135</td>\n",
       "      <td>Pennsylvania</td>\n",
       "      <td>ATL</td>\n",
       "      <td>10397</td>\n",
       "      <td>...</td>\n",
       "      <td>1313.0</td>\n",
       "      <td>133.0</td>\n",
       "      <td>6.948743</td>\n",
       "      <td>133.831169</td>\n",
       "      <td>5.729043</td>\n",
       "      <td>4.799655</td>\n",
       "      <td>126.0</td>\n",
       "      <td>502.0</td>\n",
       "      <td>1422.0</td>\n",
       "      <td>513.0</td>\n",
       "    </tr>\n",
       "    <tr>\n",
       "      <th>...</th>\n",
       "      <td>...</td>\n",
       "      <td>...</td>\n",
       "      <td>...</td>\n",
       "      <td>...</td>\n",
       "      <td>...</td>\n",
       "      <td>...</td>\n",
       "      <td>...</td>\n",
       "      <td>...</td>\n",
       "      <td>...</td>\n",
       "      <td>...</td>\n",
       "      <td>...</td>\n",
       "      <td>...</td>\n",
       "      <td>...</td>\n",
       "      <td>...</td>\n",
       "      <td>...</td>\n",
       "      <td>...</td>\n",
       "      <td>...</td>\n",
       "      <td>...</td>\n",
       "      <td>...</td>\n",
       "      <td>...</td>\n",
       "      <td>...</td>\n",
       "    </tr>\n",
       "    <tr>\n",
       "      <th>943480</th>\n",
       "      <td>TEST_943480</td>\n",
       "      <td>3</td>\n",
       "      <td>17</td>\n",
       "      <td>1303.0</td>\n",
       "      <td>1513.0</td>\n",
       "      <td>ABE</td>\n",
       "      <td>10135</td>\n",
       "      <td>Pennsylvania</td>\n",
       "      <td>ATL</td>\n",
       "      <td>10397</td>\n",
       "      <td>...</td>\n",
       "      <td>2013.0</td>\n",
       "      <td>130.0</td>\n",
       "      <td>6.948743</td>\n",
       "      <td>133.831169</td>\n",
       "      <td>8.783369</td>\n",
       "      <td>7.867072</td>\n",
       "      <td>126.0</td>\n",
       "      <td>502.0</td>\n",
       "      <td>1422.0</td>\n",
       "      <td>513.0</td>\n",
       "    </tr>\n",
       "    <tr>\n",
       "      <th>944298</th>\n",
       "      <td>TEST_944298</td>\n",
       "      <td>11</td>\n",
       "      <td>17</td>\n",
       "      <td>600.0</td>\n",
       "      <td>813.0</td>\n",
       "      <td>ABE</td>\n",
       "      <td>10135</td>\n",
       "      <td>Pennsylvania</td>\n",
       "      <td>ATL</td>\n",
       "      <td>10397</td>\n",
       "      <td>...</td>\n",
       "      <td>1313.0</td>\n",
       "      <td>133.0</td>\n",
       "      <td>6.948743</td>\n",
       "      <td>133.831169</td>\n",
       "      <td>5.729043</td>\n",
       "      <td>4.799655</td>\n",
       "      <td>126.0</td>\n",
       "      <td>502.0</td>\n",
       "      <td>1422.0</td>\n",
       "      <td>513.0</td>\n",
       "    </tr>\n",
       "    <tr>\n",
       "      <th>954891</th>\n",
       "      <td>TEST_954891</td>\n",
       "      <td>3</td>\n",
       "      <td>2</td>\n",
       "      <td>1844.0</td>\n",
       "      <td>2101.0</td>\n",
       "      <td>ABE</td>\n",
       "      <td>10135</td>\n",
       "      <td>Pennsylvania</td>\n",
       "      <td>ATL</td>\n",
       "      <td>10397</td>\n",
       "      <td>...</td>\n",
       "      <td>201.0</td>\n",
       "      <td>137.0</td>\n",
       "      <td>6.948743</td>\n",
       "      <td>133.831169</td>\n",
       "      <td>0.877028</td>\n",
       "      <td>10.227629</td>\n",
       "      <td>126.0</td>\n",
       "      <td>502.0</td>\n",
       "      <td>1422.0</td>\n",
       "      <td>513.0</td>\n",
       "    </tr>\n",
       "    <tr>\n",
       "      <th>988759</th>\n",
       "      <td>TEST_988759</td>\n",
       "      <td>12</td>\n",
       "      <td>18</td>\n",
       "      <td>600.0</td>\n",
       "      <td>817.0</td>\n",
       "      <td>ABE</td>\n",
       "      <td>10135</td>\n",
       "      <td>Pennsylvania</td>\n",
       "      <td>ATL</td>\n",
       "      <td>10397</td>\n",
       "      <td>...</td>\n",
       "      <td>1317.0</td>\n",
       "      <td>137.0</td>\n",
       "      <td>6.948743</td>\n",
       "      <td>133.831169</td>\n",
       "      <td>5.746497</td>\n",
       "      <td>4.799655</td>\n",
       "      <td>126.0</td>\n",
       "      <td>502.0</td>\n",
       "      <td>1422.0</td>\n",
       "      <td>513.0</td>\n",
       "    </tr>\n",
       "    <tr>\n",
       "      <th>998543</th>\n",
       "      <td>TEST_998543</td>\n",
       "      <td>12</td>\n",
       "      <td>27</td>\n",
       "      <td>600.0</td>\n",
       "      <td>833.0</td>\n",
       "      <td>ABE</td>\n",
       "      <td>10135</td>\n",
       "      <td>Pennsylvania</td>\n",
       "      <td>ATL</td>\n",
       "      <td>10397</td>\n",
       "      <td>...</td>\n",
       "      <td>1333.0</td>\n",
       "      <td>153.0</td>\n",
       "      <td>6.948743</td>\n",
       "      <td>133.831169</td>\n",
       "      <td>5.816310</td>\n",
       "      <td>4.799655</td>\n",
       "      <td>126.0</td>\n",
       "      <td>502.0</td>\n",
       "      <td>1422.0</td>\n",
       "      <td>513.0</td>\n",
       "    </tr>\n",
       "  </tbody>\n",
       "</table>\n",
       "<p>202 rows × 31 columns</p>\n",
       "</div>"
      ],
      "text/plain": [
       "                  ID  Month  Day_of_Month  Estimated_Departure_Time   \n",
       "912     TRAIN_000912      6            25                    1305.0  \\\n",
       "23683   TRAIN_023683      5            16                     610.0   \n",
       "28901   TRAIN_028901      3             6                    1755.0   \n",
       "40880   TRAIN_040880      8            11                    1758.0   \n",
       "41238   TRAIN_041238     12             2                     600.0   \n",
       "...              ...    ...           ...                       ...   \n",
       "943480   TEST_943480      3            17                    1303.0   \n",
       "944298   TEST_944298     11            17                     600.0   \n",
       "954891   TEST_954891      3             2                    1844.0   \n",
       "988759   TEST_988759     12            18                     600.0   \n",
       "998543   TEST_998543     12            27                     600.0   \n",
       "\n",
       "        Estimated_Arrival_Time Origin_Airport  Origin_Airport_ID   \n",
       "912                     1514.0            ABE              10135  \\\n",
       "23683                    819.0            ABE              10135   \n",
       "28901                   2005.0            ABE              10135   \n",
       "40880                   2009.0            ABE              10135   \n",
       "41238                    813.0            ABE              10135   \n",
       "...                        ...            ...                ...   \n",
       "943480                  1513.0            ABE              10135   \n",
       "944298                   813.0            ABE              10135   \n",
       "954891                  2101.0            ABE              10135   \n",
       "988759                   817.0            ABE              10135   \n",
       "998543                   833.0            ABE              10135   \n",
       "\n",
       "        Origin_State Destination_Airport  Destination_Airport_ID  ...   \n",
       "912     Pennsylvania                 ATL                   10397  ...  \\\n",
       "23683   Pennsylvania                 ATL                   10397  ...   \n",
       "28901   Pennsylvania                 ATL                   10397  ...   \n",
       "40880   Pennsylvania                 ATL                   10397  ...   \n",
       "41238   Pennsylvania                 ATL                   10397  ...   \n",
       "...              ...                 ...                     ...  ...   \n",
       "943480  Pennsylvania                 ATL                   10397  ...   \n",
       "944298  Pennsylvania                 ATL                   10397  ...   \n",
       "954891  Pennsylvania                 ATL                   10397  ...   \n",
       "988759  Pennsylvania                 ATL                   10397  ...   \n",
       "998543  Pennsylvania                 ATL                   10397  ...   \n",
       "\n",
       "       Estimated_Arrival_Time2  Flying_Time   ODA_std    ODA_mean   \n",
       "912                     2014.0        129.0  6.948743  133.831169  \\\n",
       "23683                   1319.0        129.0  6.948743  133.831169   \n",
       "28901                    105.0        130.0  6.948743  133.831169   \n",
       "40880                    109.0        131.0  6.948743  133.831169   \n",
       "41238                   1313.0        133.0  6.948743  133.831169   \n",
       "...                        ...          ...       ...         ...   \n",
       "943480                  2013.0        130.0  6.948743  133.831169   \n",
       "944298                  1313.0        133.0  6.948743  133.831169   \n",
       "954891                   201.0        137.0  6.948743  133.831169   \n",
       "988759                  1317.0        137.0  6.948743  133.831169   \n",
       "998543                  1333.0        153.0  6.948743  133.831169   \n",
       "\n",
       "       Estimated_Arrival_Time3 Estimated_Departure_Time3 a3mean  a3std   \n",
       "912                   8.787733                  7.875798  126.0  502.0  \\\n",
       "23683                 5.755223                  4.843289  126.0  502.0   \n",
       "28901                 0.458149                  9.839294  126.0  502.0   \n",
       "40880                 0.475602                  9.852384  126.0  502.0   \n",
       "41238                 5.729043                  4.799655  126.0  502.0   \n",
       "...                        ...                       ...    ...    ...   \n",
       "943480                8.783369                  7.867072  126.0  502.0   \n",
       "944298                5.729043                  4.799655  126.0  502.0   \n",
       "954891                0.877028                 10.227629  126.0  502.0   \n",
       "988759                5.746497                  4.799655  126.0  502.0   \n",
       "998543                5.816310                  4.799655  126.0  502.0   \n",
       "\n",
       "        d3mean  d3std  \n",
       "912     1422.0  513.0  \n",
       "23683   1422.0  513.0  \n",
       "28901   1422.0  513.0  \n",
       "40880   1422.0  513.0  \n",
       "41238   1422.0  513.0  \n",
       "...        ...    ...  \n",
       "943480  1422.0  513.0  \n",
       "944298  1422.0  513.0  \n",
       "954891  1422.0  513.0  \n",
       "988759  1422.0  513.0  \n",
       "998543  1422.0  513.0  \n",
       "\n",
       "[202 rows x 31 columns]"
      ]
     },
     "execution_count": 114,
     "metadata": {},
     "output_type": "execute_result"
    }
   ],
   "source": [
    "train_data[(train_data.ODA == 'ABE_ATL')]"
   ]
  },
  {
   "cell_type": "code",
   "execution_count": 115,
   "id": "377f413f-4f9a-449a-bef3-90b1f68557c9",
   "metadata": {
    "tags": []
   },
   "outputs": [],
   "source": [
    "train_data.loc[DxAx,'Estimated_Departure_Time'] = (( train_data.loc[DxAx,'d3mean'].map(time_to_min)  + (train_data.loc[DxAx,'OA_offset'] * 60) + 24 * 60) % (24 * 60)).map(min_to_time)\n",
    "train_data.loc[DxAx,'Estimated_Arrival_Time'] = (( train_data.loc[DxAx,'a3mean'].map(time_to_min) + (train_data.loc[DxAx,'DA_offset'] * 60) + 24 * 60) % (24 * 60)).map(min_to_time)"
   ]
  },
  {
   "cell_type": "code",
   "execution_count": 116,
   "id": "e28f0005-8b1d-4469-a03f-14df2f88d7c3",
   "metadata": {
    "tags": []
   },
   "outputs": [
    {
     "name": "stdout",
     "output_type": "stream",
     "text": [
      "<class 'pandas.core.frame.DataFrame'>\n",
      "Index: 2000000 entries, 0 to 999999\n",
      "Data columns (total 16 columns):\n",
      " #   Column                    Non-Null Count    Dtype  \n",
      "---  ------                    --------------    -----  \n",
      " 0   ID                        2000000 non-null  object \n",
      " 1   Month                     2000000 non-null  int64  \n",
      " 2   Day_of_Month              2000000 non-null  int64  \n",
      " 3   Estimated_Departure_Time  1999992 non-null  float64\n",
      " 4   Estimated_Arrival_Time    1999989 non-null  float64\n",
      " 5   Origin_Airport            2000000 non-null  object \n",
      " 6   Origin_Airport_ID         2000000 non-null  int64  \n",
      " 7   Origin_State              2000000 non-null  object \n",
      " 8   Destination_Airport       2000000 non-null  object \n",
      " 9   Destination_Airport_ID    2000000 non-null  int64  \n",
      " 10  Destination_State         2000000 non-null  object \n",
      " 11  Distance                  2000000 non-null  float64\n",
      " 12  Airline                   2000000 non-null  object \n",
      " 13  Carrier_Code(IATA)        1782017 non-null  object \n",
      " 14  Carrier_ID(DOT)           2000000 non-null  object \n",
      " 15  Tail_Number               2000000 non-null  object \n",
      "dtypes: float64(3), int64(4), object(9)\n",
      "memory usage: 259.4+ MB\n"
     ]
    }
   ],
   "source": [
    "train_data.loc[:,train_data.columns[:16]].info(show_counts=True)"
   ]
  },
  {
   "cell_type": "code",
   "execution_count": 117,
   "id": "76686290-82bc-4322-9287-2e4bf946dfc4",
   "metadata": {
    "tags": []
   },
   "outputs": [
    {
     "data": {
      "text/html": [
       "<div>\n",
       "<style scoped>\n",
       "    .dataframe tbody tr th:only-of-type {\n",
       "        vertical-align: middle;\n",
       "    }\n",
       "\n",
       "    .dataframe tbody tr th {\n",
       "        vertical-align: top;\n",
       "    }\n",
       "\n",
       "    .dataframe thead th {\n",
       "        text-align: right;\n",
       "    }\n",
       "</style>\n",
       "<table border=\"1\" class=\"dataframe\">\n",
       "  <thead>\n",
       "    <tr style=\"text-align: right;\">\n",
       "      <th></th>\n",
       "      <th>ID</th>\n",
       "      <th>Month</th>\n",
       "      <th>Day_of_Month</th>\n",
       "      <th>Estimated_Departure_Time</th>\n",
       "      <th>Estimated_Arrival_Time</th>\n",
       "      <th>Origin_Airport</th>\n",
       "      <th>Origin_Airport_ID</th>\n",
       "      <th>Origin_State</th>\n",
       "      <th>Destination_Airport</th>\n",
       "      <th>Destination_Airport_ID</th>\n",
       "      <th>Destination_State</th>\n",
       "      <th>Distance</th>\n",
       "      <th>Airline</th>\n",
       "      <th>Carrier_Code(IATA)</th>\n",
       "      <th>Carrier_ID(DOT)</th>\n",
       "      <th>Tail_Number</th>\n",
       "    </tr>\n",
       "  </thead>\n",
       "  <tbody>\n",
       "    <tr>\n",
       "      <th>0</th>\n",
       "      <td>TRAIN_000000</td>\n",
       "      <td>4</td>\n",
       "      <td>15</td>\n",
       "      <td>2300.000000</td>\n",
       "      <td>49.0</td>\n",
       "      <td>OKC</td>\n",
       "      <td>13851</td>\n",
       "      <td>Oklahoma</td>\n",
       "      <td>HOU</td>\n",
       "      <td>12191</td>\n",
       "      <td>Texas</td>\n",
       "      <td>419.0</td>\n",
       "      <td>Southwest Airlines Co.</td>\n",
       "      <td>WN</td>\n",
       "      <td>19393.0</td>\n",
       "      <td>N7858A</td>\n",
       "    </tr>\n",
       "    <tr>\n",
       "      <th>1</th>\n",
       "      <td>TRAIN_000001</td>\n",
       "      <td>8</td>\n",
       "      <td>15</td>\n",
       "      <td>740.000000</td>\n",
       "      <td>1024.0</td>\n",
       "      <td>ORD</td>\n",
       "      <td>13930</td>\n",
       "      <td>Illinois</td>\n",
       "      <td>SLC</td>\n",
       "      <td>14869</td>\n",
       "      <td>Utah</td>\n",
       "      <td>1250.0</td>\n",
       "      <td>SkyWest Airlines Inc.</td>\n",
       "      <td>UA</td>\n",
       "      <td>20304.0</td>\n",
       "      <td>N125SY</td>\n",
       "    </tr>\n",
       "    <tr>\n",
       "      <th>2</th>\n",
       "      <td>TRAIN_000002</td>\n",
       "      <td>9</td>\n",
       "      <td>6</td>\n",
       "      <td>1610.000000</td>\n",
       "      <td>1805.0</td>\n",
       "      <td>CLT</td>\n",
       "      <td>11057</td>\n",
       "      <td>North Carolina</td>\n",
       "      <td>LGA</td>\n",
       "      <td>12953</td>\n",
       "      <td>New York</td>\n",
       "      <td>544.0</td>\n",
       "      <td>American Airlines Inc.</td>\n",
       "      <td>AA</td>\n",
       "      <td>19805.0</td>\n",
       "      <td>N103US</td>\n",
       "    </tr>\n",
       "    <tr>\n",
       "      <th>3</th>\n",
       "      <td>TRAIN_000003</td>\n",
       "      <td>7</td>\n",
       "      <td>10</td>\n",
       "      <td>905.000000</td>\n",
       "      <td>1735.0</td>\n",
       "      <td>LAX</td>\n",
       "      <td>12892</td>\n",
       "      <td>California</td>\n",
       "      <td>EWR</td>\n",
       "      <td>11618</td>\n",
       "      <td>New Jersey</td>\n",
       "      <td>2454.0</td>\n",
       "      <td>United Air Lines Inc.</td>\n",
       "      <td>UA</td>\n",
       "      <td>19977.0</td>\n",
       "      <td>N595UA</td>\n",
       "    </tr>\n",
       "    <tr>\n",
       "      <th>4</th>\n",
       "      <td>TRAIN_000004</td>\n",
       "      <td>1</td>\n",
       "      <td>11</td>\n",
       "      <td>900.000000</td>\n",
       "      <td>1019.0</td>\n",
       "      <td>SFO</td>\n",
       "      <td>14771</td>\n",
       "      <td>California</td>\n",
       "      <td>ACV</td>\n",
       "      <td>10157</td>\n",
       "      <td>California</td>\n",
       "      <td>250.0</td>\n",
       "      <td>SkyWest Airlines Inc.</td>\n",
       "      <td>UA</td>\n",
       "      <td>20304.0</td>\n",
       "      <td>N161SY</td>\n",
       "    </tr>\n",
       "    <tr>\n",
       "      <th>...</th>\n",
       "      <td>...</td>\n",
       "      <td>...</td>\n",
       "      <td>...</td>\n",
       "      <td>...</td>\n",
       "      <td>...</td>\n",
       "      <td>...</td>\n",
       "      <td>...</td>\n",
       "      <td>...</td>\n",
       "      <td>...</td>\n",
       "      <td>...</td>\n",
       "      <td>...</td>\n",
       "      <td>...</td>\n",
       "      <td>...</td>\n",
       "      <td>...</td>\n",
       "      <td>...</td>\n",
       "      <td>...</td>\n",
       "    </tr>\n",
       "    <tr>\n",
       "      <th>999995</th>\n",
       "      <td>TEST_999995</td>\n",
       "      <td>6</td>\n",
       "      <td>2</td>\n",
       "      <td>1917.937534</td>\n",
       "      <td>2240.0</td>\n",
       "      <td>LAX</td>\n",
       "      <td>12892</td>\n",
       "      <td>California</td>\n",
       "      <td>DEN</td>\n",
       "      <td>11292</td>\n",
       "      <td>Colorado</td>\n",
       "      <td>862.0</td>\n",
       "      <td>Southwest Airlines Co.</td>\n",
       "      <td>WN</td>\n",
       "      <td>19393.0</td>\n",
       "      <td>N720WN</td>\n",
       "    </tr>\n",
       "    <tr>\n",
       "      <th>999996</th>\n",
       "      <td>TEST_999996</td>\n",
       "      <td>6</td>\n",
       "      <td>8</td>\n",
       "      <td>600.000000</td>\n",
       "      <td>648.0</td>\n",
       "      <td>BUF</td>\n",
       "      <td>10792</td>\n",
       "      <td>New York</td>\n",
       "      <td>ORD</td>\n",
       "      <td>13930</td>\n",
       "      <td>Illinois</td>\n",
       "      <td>473.0</td>\n",
       "      <td>United Air Lines Inc.</td>\n",
       "      <td>UA</td>\n",
       "      <td>19977.0</td>\n",
       "      <td>N401UA</td>\n",
       "    </tr>\n",
       "    <tr>\n",
       "      <th>999997</th>\n",
       "      <td>TEST_999997</td>\n",
       "      <td>6</td>\n",
       "      <td>11</td>\n",
       "      <td>1710.000000</td>\n",
       "      <td>1907.0</td>\n",
       "      <td>IAD</td>\n",
       "      <td>12264</td>\n",
       "      <td>Virginia</td>\n",
       "      <td>DTW</td>\n",
       "      <td>11433</td>\n",
       "      <td>Michigan</td>\n",
       "      <td>383.0</td>\n",
       "      <td>Mesa Airlines Inc.</td>\n",
       "      <td>UA</td>\n",
       "      <td>20378.0</td>\n",
       "      <td>N510MJ</td>\n",
       "    </tr>\n",
       "    <tr>\n",
       "      <th>999998</th>\n",
       "      <td>TEST_999998</td>\n",
       "      <td>11</td>\n",
       "      <td>17</td>\n",
       "      <td>2028.613861</td>\n",
       "      <td>500.0</td>\n",
       "      <td>SAN</td>\n",
       "      <td>14679</td>\n",
       "      <td>California</td>\n",
       "      <td>BOS</td>\n",
       "      <td>10721</td>\n",
       "      <td>Massachusetts</td>\n",
       "      <td>2588.0</td>\n",
       "      <td>JetBlue Airways</td>\n",
       "      <td>B6</td>\n",
       "      <td>20409.0</td>\n",
       "      <td>N986JB</td>\n",
       "    </tr>\n",
       "    <tr>\n",
       "      <th>999999</th>\n",
       "      <td>TEST_999999</td>\n",
       "      <td>10</td>\n",
       "      <td>13</td>\n",
       "      <td>1220.000000</td>\n",
       "      <td>1345.0</td>\n",
       "      <td>OAK</td>\n",
       "      <td>13796</td>\n",
       "      <td>California</td>\n",
       "      <td>LAX</td>\n",
       "      <td>12892</td>\n",
       "      <td>California</td>\n",
       "      <td>337.0</td>\n",
       "      <td>Southwest Airlines Co.</td>\n",
       "      <td>WN</td>\n",
       "      <td>19393.0</td>\n",
       "      <td>N733SA</td>\n",
       "    </tr>\n",
       "  </tbody>\n",
       "</table>\n",
       "<p>2000000 rows × 16 columns</p>\n",
       "</div>"
      ],
      "text/plain": [
       "                  ID  Month  Day_of_Month  Estimated_Departure_Time   \n",
       "0       TRAIN_000000      4            15               2300.000000  \\\n",
       "1       TRAIN_000001      8            15                740.000000   \n",
       "2       TRAIN_000002      9             6               1610.000000   \n",
       "3       TRAIN_000003      7            10                905.000000   \n",
       "4       TRAIN_000004      1            11                900.000000   \n",
       "...              ...    ...           ...                       ...   \n",
       "999995   TEST_999995      6             2               1917.937534   \n",
       "999996   TEST_999996      6             8                600.000000   \n",
       "999997   TEST_999997      6            11               1710.000000   \n",
       "999998   TEST_999998     11            17               2028.613861   \n",
       "999999   TEST_999999     10            13               1220.000000   \n",
       "\n",
       "        Estimated_Arrival_Time Origin_Airport  Origin_Airport_ID   \n",
       "0                         49.0            OKC              13851  \\\n",
       "1                       1024.0            ORD              13930   \n",
       "2                       1805.0            CLT              11057   \n",
       "3                       1735.0            LAX              12892   \n",
       "4                       1019.0            SFO              14771   \n",
       "...                        ...            ...                ...   \n",
       "999995                  2240.0            LAX              12892   \n",
       "999996                   648.0            BUF              10792   \n",
       "999997                  1907.0            IAD              12264   \n",
       "999998                   500.0            SAN              14679   \n",
       "999999                  1345.0            OAK              13796   \n",
       "\n",
       "          Origin_State Destination_Airport  Destination_Airport_ID   \n",
       "0             Oklahoma                 HOU                   12191  \\\n",
       "1             Illinois                 SLC                   14869   \n",
       "2       North Carolina                 LGA                   12953   \n",
       "3           California                 EWR                   11618   \n",
       "4           California                 ACV                   10157   \n",
       "...                ...                 ...                     ...   \n",
       "999995      California                 DEN                   11292   \n",
       "999996        New York                 ORD                   13930   \n",
       "999997        Virginia                 DTW                   11433   \n",
       "999998      California                 BOS                   10721   \n",
       "999999      California                 LAX                   12892   \n",
       "\n",
       "       Destination_State  Distance                 Airline Carrier_Code(IATA)   \n",
       "0                  Texas     419.0  Southwest Airlines Co.                 WN  \\\n",
       "1                   Utah    1250.0   SkyWest Airlines Inc.                 UA   \n",
       "2               New York     544.0  American Airlines Inc.                 AA   \n",
       "3             New Jersey    2454.0   United Air Lines Inc.                 UA   \n",
       "4             California     250.0   SkyWest Airlines Inc.                 UA   \n",
       "...                  ...       ...                     ...                ...   \n",
       "999995          Colorado     862.0  Southwest Airlines Co.                 WN   \n",
       "999996          Illinois     473.0   United Air Lines Inc.                 UA   \n",
       "999997          Michigan     383.0      Mesa Airlines Inc.                 UA   \n",
       "999998     Massachusetts    2588.0         JetBlue Airways                 B6   \n",
       "999999        California     337.0  Southwest Airlines Co.                 WN   \n",
       "\n",
       "       Carrier_ID(DOT) Tail_Number  \n",
       "0              19393.0      N7858A  \n",
       "1              20304.0      N125SY  \n",
       "2              19805.0      N103US  \n",
       "3              19977.0      N595UA  \n",
       "4              20304.0      N161SY  \n",
       "...                ...         ...  \n",
       "999995         19393.0      N720WN  \n",
       "999996         19977.0      N401UA  \n",
       "999997         20378.0      N510MJ  \n",
       "999998         20409.0      N986JB  \n",
       "999999         19393.0      N733SA  \n",
       "\n",
       "[2000000 rows x 16 columns]"
      ]
     },
     "execution_count": 117,
     "metadata": {},
     "output_type": "execute_result"
    }
   ],
   "source": [
    "train_data.loc[:,train_data.columns[:16]]"
   ]
  },
  {
   "cell_type": "code",
   "execution_count": 118,
   "id": "154dd24e-07cb-4485-9beb-96869a636838",
   "metadata": {
    "tags": []
   },
   "outputs": [
    {
     "data": {
      "text/plain": [
       "19"
      ]
     },
     "execution_count": 118,
     "metadata": {},
     "output_type": "execute_result"
    }
   ],
   "source": [
    "(train_data.Estimated_Departure_Time.isna() | train_data.Estimated_Arrival_Time.isna()).sum() # 둘 중 하나 x"
   ]
  },
  {
   "cell_type": "code",
   "execution_count": 119,
   "id": "1abb954d-85c2-4249-985b-a9047d0391de",
   "metadata": {
    "tags": []
   },
   "outputs": [
    {
     "data": {
      "text/plain": [
       "0"
      ]
     },
     "execution_count": 119,
     "metadata": {},
     "output_type": "execute_result"
    }
   ],
   "source": [
    "(train_data.Estimated_Departure_Time.isna() * train_data.Estimated_Arrival_Time.isna()).sum() # 둘 다 x"
   ]
  },
  {
   "cell_type": "code",
   "execution_count": 120,
   "id": "5486e1c6-bd6b-4058-a3b8-14c130698ae7",
   "metadata": {
    "tags": []
   },
   "outputs": [
    {
     "data": {
      "text/plain": [
       "19"
      ]
     },
     "execution_count": 120,
     "metadata": {},
     "output_type": "execute_result"
    }
   ],
   "source": [
    "# 둘 중 하나는 있\n",
    "((train_data.Estimated_Departure_Time.isna() & ~train_data.Estimated_Arrival_Time.isna()) | (~train_data.Estimated_Departure_Time.isna() & train_data.Estimated_Arrival_Time.isna())).sum()"
   ]
  },
  {
   "cell_type": "code",
   "execution_count": 121,
   "id": "e8539d44-09c9-4c37-87cb-8ef7011fb5ae",
   "metadata": {
    "tags": []
   },
   "outputs": [],
   "source": [
    "train_data.loc[:,'Estimated_Departure_Time'].fillna(train_data.loc[:,'Estimated_Departure_Time'].mean(),inplace=True)\n",
    "train_data.loc[:,'Estimated_Arrival_Time'].fillna(train_data.loc[:,'Estimated_Arrival_Time'].mean(),inplace=True)\n"
   ]
  },
  {
   "cell_type": "code",
   "execution_count": 122,
   "id": "b809fdba-bb4b-437c-9654-517416656ad1",
   "metadata": {
    "tags": []
   },
   "outputs": [
    {
     "name": "stdout",
     "output_type": "stream",
     "text": [
      "<class 'pandas.core.frame.DataFrame'>\n",
      "Index: 2000000 entries, 0 to 999999\n",
      "Data columns (total 16 columns):\n",
      " #   Column                    Non-Null Count    Dtype  \n",
      "---  ------                    --------------    -----  \n",
      " 0   ID                        2000000 non-null  object \n",
      " 1   Month                     2000000 non-null  int64  \n",
      " 2   Day_of_Month              2000000 non-null  int64  \n",
      " 3   Estimated_Departure_Time  2000000 non-null  float64\n",
      " 4   Estimated_Arrival_Time    2000000 non-null  float64\n",
      " 5   Origin_Airport            2000000 non-null  object \n",
      " 6   Origin_Airport_ID         2000000 non-null  int64  \n",
      " 7   Origin_State              2000000 non-null  object \n",
      " 8   Destination_Airport       2000000 non-null  object \n",
      " 9   Destination_Airport_ID    2000000 non-null  int64  \n",
      " 10  Destination_State         2000000 non-null  object \n",
      " 11  Distance                  2000000 non-null  float64\n",
      " 12  Airline                   2000000 non-null  object \n",
      " 13  Carrier_Code(IATA)        1782017 non-null  object \n",
      " 14  Carrier_ID(DOT)           2000000 non-null  object \n",
      " 15  Tail_Number               2000000 non-null  object \n",
      "dtypes: float64(3), int64(4), object(9)\n",
      "memory usage: 259.4+ MB\n"
     ]
    }
   ],
   "source": [
    "train_data.loc[:,train_data.columns[:16]].info(show_counts=True)"
   ]
  },
  {
   "cell_type": "code",
   "execution_count": 123,
   "id": "743a4c0e-3fa3-4cab-a39d-8b795ad6a68e",
   "metadata": {
    "tags": []
   },
   "outputs": [],
   "source": [
    "test_data = train_data.loc[train_data.ID.str.contains('TEST')]\n",
    "train_data = train_data.loc[train_data.ID.str.contains('TRAIN')]"
   ]
  },
  {
   "cell_type": "code",
   "execution_count": 125,
   "id": "19960eed-52bd-4f3f-a6bf-3bef43f426ad",
   "metadata": {
    "tags": []
   },
   "outputs": [],
   "source": [
    "train_data = train_data.loc[:,['Month','Estimated_Departure_Time','Estimated_Arrival_Time','Origin_Airport_ID','Origin_State','Destination_Airport_ID','Destination_State','Distance','Carrier_ID(DOT)','Tail_Number','Delay']].dropna()"
   ]
  },
  {
   "cell_type": "code",
   "execution_count": 126,
   "id": "253e9aaf-ce99-4ac5-b6c2-d4ec63a008c5",
   "metadata": {},
   "outputs": [],
   "source": [
    "test_data = test_data.loc[:,['Month','Estimated_Departure_Time','Estimated_Arrival_Time','Origin_Airport_ID','Origin_State','Destination_Airport_ID','Destination_State','Distance','Carrier_ID(DOT)','Tail_Number']]"
   ]
  },
  {
   "cell_type": "markdown",
   "id": "8d9d995c-3505-4870-8a78-ce1e769240d0",
   "metadata": {},
   "source": [
    "# 위 안돌리고 여기서 부터"
   ]
  },
  {
   "cell_type": "code",
   "execution_count": 1,
   "id": "55bc2b2a-3679-457a-83d0-b3f310f1adea",
   "metadata": {
    "id": "95Datb_QOoEK",
    "tags": []
   },
   "outputs": [],
   "source": [
    "import pandas as pd\n",
    "import numpy as np\n",
    "import matplotlib.pyplot as plt\n",
    "from tqdm import tqdm"
   ]
  },
  {
   "cell_type": "code",
   "execution_count": 2,
   "id": "32dafc6a-527c-4a7b-964c-d81458a8e007",
   "metadata": {
    "tags": []
   },
   "outputs": [],
   "source": [
    "train_data = pd.read_csv('train_data.csv',index_col=0)\n",
    "test_data = pd.read_csv('test_data.csv',index_col=0)"
   ]
  },
  {
   "cell_type": "code",
   "execution_count": 3,
   "id": "7374ed4a-cdf5-4140-96d5-c413f2c3a8c7",
   "metadata": {
    "id": "foeE6QVX-lwl",
    "tags": []
   },
   "outputs": [],
   "source": [
    "train_data.loc[train_data.Delay=='Delayed','Delay'] = 1\n",
    "train_data.loc[train_data.Delay=='Not_Delayed','Delay'] = 0"
   ]
  },
  {
   "cell_type": "code",
   "execution_count": 4,
   "id": "dd93be7c-ea05-46d8-8c10-60e13c424b35",
   "metadata": {
    "tags": []
   },
   "outputs": [
    {
     "data": {
      "text/html": [
       "<div>\n",
       "<style scoped>\n",
       "    .dataframe tbody tr th:only-of-type {\n",
       "        vertical-align: middle;\n",
       "    }\n",
       "\n",
       "    .dataframe tbody tr th {\n",
       "        vertical-align: top;\n",
       "    }\n",
       "\n",
       "    .dataframe thead th {\n",
       "        text-align: right;\n",
       "    }\n",
       "</style>\n",
       "<table border=\"1\" class=\"dataframe\">\n",
       "  <thead>\n",
       "    <tr style=\"text-align: right;\">\n",
       "      <th></th>\n",
       "      <th>Month</th>\n",
       "      <th>Estimated_Departure_Time</th>\n",
       "      <th>Estimated_Arrival_Time</th>\n",
       "      <th>Origin_Airport_ID</th>\n",
       "      <th>Origin_State</th>\n",
       "      <th>Destination_Airport_ID</th>\n",
       "      <th>Destination_State</th>\n",
       "      <th>Distance</th>\n",
       "      <th>Carrier_ID(DOT)</th>\n",
       "      <th>Tail_Number</th>\n",
       "      <th>Delay</th>\n",
       "    </tr>\n",
       "  </thead>\n",
       "  <tbody>\n",
       "    <tr>\n",
       "      <th>5</th>\n",
       "      <td>4</td>\n",
       "      <td>1545.000000</td>\n",
       "      <td>1706.91811</td>\n",
       "      <td>11618</td>\n",
       "      <td>New Jersey</td>\n",
       "      <td>11278</td>\n",
       "      <td>Virginia</td>\n",
       "      <td>199.0</td>\n",
       "      <td>20452.0</td>\n",
       "      <td>N657RW</td>\n",
       "      <td>0</td>\n",
       "    </tr>\n",
       "    <tr>\n",
       "      <th>6</th>\n",
       "      <td>1</td>\n",
       "      <td>1742.000000</td>\n",
       "      <td>1903.00000</td>\n",
       "      <td>11618</td>\n",
       "      <td>New Jersey</td>\n",
       "      <td>10721</td>\n",
       "      <td>Massachusetts</td>\n",
       "      <td>200.0</td>\n",
       "      <td>19977.0</td>\n",
       "      <td>N66825</td>\n",
       "      <td>0</td>\n",
       "    </tr>\n",
       "    <tr>\n",
       "      <th>8</th>\n",
       "      <td>6</td>\n",
       "      <td>1420.000000</td>\n",
       "      <td>1550.00000</td>\n",
       "      <td>10821</td>\n",
       "      <td>Maryland</td>\n",
       "      <td>11057</td>\n",
       "      <td>North Carolina</td>\n",
       "      <td>361.0</td>\n",
       "      <td>19393.0</td>\n",
       "      <td>N765SW</td>\n",
       "      <td>0</td>\n",
       "    </tr>\n",
       "    <tr>\n",
       "      <th>10</th>\n",
       "      <td>8</td>\n",
       "      <td>1730.000000</td>\n",
       "      <td>1844.00000</td>\n",
       "      <td>11278</td>\n",
       "      <td>Virginia</td>\n",
       "      <td>14122</td>\n",
       "      <td>Pennsylvania</td>\n",
       "      <td>204.0</td>\n",
       "      <td>20452.0</td>\n",
       "      <td>N119HQ</td>\n",
       "      <td>1</td>\n",
       "    </tr>\n",
       "    <tr>\n",
       "      <th>12</th>\n",
       "      <td>1</td>\n",
       "      <td>1015.000000</td>\n",
       "      <td>1145.00000</td>\n",
       "      <td>11042</td>\n",
       "      <td>Ohio</td>\n",
       "      <td>11292</td>\n",
       "      <td>Colorado</td>\n",
       "      <td>1201.0</td>\n",
       "      <td>19393.0</td>\n",
       "      <td>N8696E</td>\n",
       "      <td>0</td>\n",
       "    </tr>\n",
       "    <tr>\n",
       "      <th>...</th>\n",
       "      <td>...</td>\n",
       "      <td>...</td>\n",
       "      <td>...</td>\n",
       "      <td>...</td>\n",
       "      <td>...</td>\n",
       "      <td>...</td>\n",
       "      <td>...</td>\n",
       "      <td>...</td>\n",
       "      <td>...</td>\n",
       "      <td>...</td>\n",
       "      <td>...</td>\n",
       "    </tr>\n",
       "    <tr>\n",
       "      <th>999962</th>\n",
       "      <td>10</td>\n",
       "      <td>1711.995215</td>\n",
       "      <td>2003.00000</td>\n",
       "      <td>14683</td>\n",
       "      <td>Texas</td>\n",
       "      <td>13930</td>\n",
       "      <td>Illinois</td>\n",
       "      <td>1041.0</td>\n",
       "      <td>20304.0</td>\n",
       "      <td>N152SY</td>\n",
       "      <td>0</td>\n",
       "    </tr>\n",
       "    <tr>\n",
       "      <th>999963</th>\n",
       "      <td>5</td>\n",
       "      <td>1759.000000</td>\n",
       "      <td>1926.00000</td>\n",
       "      <td>12953</td>\n",
       "      <td>New York</td>\n",
       "      <td>11278</td>\n",
       "      <td>Virginia</td>\n",
       "      <td>214.0</td>\n",
       "      <td>20452.0</td>\n",
       "      <td>N871RW</td>\n",
       "      <td>1</td>\n",
       "    </tr>\n",
       "    <tr>\n",
       "      <th>999969</th>\n",
       "      <td>10</td>\n",
       "      <td>940.000000</td>\n",
       "      <td>1056.00000</td>\n",
       "      <td>13256</td>\n",
       "      <td>Texas</td>\n",
       "      <td>12266</td>\n",
       "      <td>Texas</td>\n",
       "      <td>316.0</td>\n",
       "      <td>20378.0</td>\n",
       "      <td>N89321</td>\n",
       "      <td>1</td>\n",
       "    </tr>\n",
       "    <tr>\n",
       "      <th>999985</th>\n",
       "      <td>8</td>\n",
       "      <td>1914.000000</td>\n",
       "      <td>2039.00000</td>\n",
       "      <td>14492</td>\n",
       "      <td>North Carolina</td>\n",
       "      <td>12451</td>\n",
       "      <td>Florida</td>\n",
       "      <td>407.0</td>\n",
       "      <td>20436.0</td>\n",
       "      <td>N316FR</td>\n",
       "      <td>0</td>\n",
       "    </tr>\n",
       "    <tr>\n",
       "      <th>999992</th>\n",
       "      <td>12</td>\n",
       "      <td>1307.000000</td>\n",
       "      <td>1707.00000</td>\n",
       "      <td>12441</td>\n",
       "      <td>Wyoming</td>\n",
       "      <td>13930</td>\n",
       "      <td>Illinois</td>\n",
       "      <td>1162.0</td>\n",
       "      <td>19977.0</td>\n",
       "      <td>N17719</td>\n",
       "      <td>0</td>\n",
       "    </tr>\n",
       "  </tbody>\n",
       "</table>\n",
       "<p>255001 rows × 11 columns</p>\n",
       "</div>"
      ],
      "text/plain": [
       "        Month  Estimated_Departure_Time  Estimated_Arrival_Time   \n",
       "5           4               1545.000000              1706.91811  \\\n",
       "6           1               1742.000000              1903.00000   \n",
       "8           6               1420.000000              1550.00000   \n",
       "10          8               1730.000000              1844.00000   \n",
       "12          1               1015.000000              1145.00000   \n",
       "...       ...                       ...                     ...   \n",
       "999962     10               1711.995215              2003.00000   \n",
       "999963      5               1759.000000              1926.00000   \n",
       "999969     10                940.000000              1056.00000   \n",
       "999985      8               1914.000000              2039.00000   \n",
       "999992     12               1307.000000              1707.00000   \n",
       "\n",
       "        Origin_Airport_ID    Origin_State  Destination_Airport_ID   \n",
       "5                   11618      New Jersey                   11278  \\\n",
       "6                   11618      New Jersey                   10721   \n",
       "8                   10821        Maryland                   11057   \n",
       "10                  11278        Virginia                   14122   \n",
       "12                  11042            Ohio                   11292   \n",
       "...                   ...             ...                     ...   \n",
       "999962              14683           Texas                   13930   \n",
       "999963              12953        New York                   11278   \n",
       "999969              13256           Texas                   12266   \n",
       "999985              14492  North Carolina                   12451   \n",
       "999992              12441         Wyoming                   13930   \n",
       "\n",
       "       Destination_State  Distance  Carrier_ID(DOT) Tail_Number Delay  \n",
       "5               Virginia     199.0          20452.0      N657RW     0  \n",
       "6          Massachusetts     200.0          19977.0      N66825     0  \n",
       "8         North Carolina     361.0          19393.0      N765SW     0  \n",
       "10          Pennsylvania     204.0          20452.0      N119HQ     1  \n",
       "12              Colorado    1201.0          19393.0      N8696E     0  \n",
       "...                  ...       ...              ...         ...   ...  \n",
       "999962          Illinois    1041.0          20304.0      N152SY     0  \n",
       "999963          Virginia     214.0          20452.0      N871RW     1  \n",
       "999969             Texas     316.0          20378.0      N89321     1  \n",
       "999985           Florida     407.0          20436.0      N316FR     0  \n",
       "999992          Illinois    1162.0          19977.0      N17719     0  \n",
       "\n",
       "[255001 rows x 11 columns]"
      ]
     },
     "execution_count": 4,
     "metadata": {},
     "output_type": "execute_result"
    }
   ],
   "source": [
    "train_data"
   ]
  },
  {
   "cell_type": "markdown",
   "id": "c0093aee-13b4-42a5-97d9-2cb11690269d",
   "metadata": {
    "id": "bWsJbJL5TNot"
   },
   "source": [
    "**범주형 데이터 변환**"
   ]
  },
  {
   "cell_type": "code",
   "execution_count": 5,
   "id": "6c5a53be-c3b5-4458-9661-190291c67f84",
   "metadata": {
    "tags": []
   },
   "outputs": [],
   "source": [
    "train_data.loc[:,\"Origin_State\"] = pd.factorize(train_data[\"Origin_State\"])[0]\n",
    "train_data.loc[:,\"Destination_State\"] = pd.factorize(train_data[\"Destination_State\"])[0]\n",
    "train_data.loc[:,\"Tail_Number\"] = pd.factorize(train_data[\"Tail_Number\"])[0]"
   ]
  },
  {
   "cell_type": "code",
   "execution_count": 6,
   "id": "dda1f599-5393-4ac0-8e96-9663374ac723",
   "metadata": {
    "colab": {
     "background_save": true
    },
    "id": "8j-g9e7ennFj",
    "outputId": "5dd53c3c-3b26-4bbb-bd75-485e1894fb23"
   },
   "outputs": [],
   "source": [
    "test_data.loc[:,\"Origin_State\"] = pd.factorize(test_data[\"Origin_State\"])[0]\n",
    "test_data.loc[:,\"Destination_State\"] = pd.factorize(test_data[\"Destination_State\"])[0]\n",
    "test_data.loc[:,\"Tail_Number\"] = pd.factorize(test_data[\"Tail_Number\"])[0]"
   ]
  },
  {
   "cell_type": "markdown",
   "id": "e5d761a7-3d8c-4836-a229-939d0de5ea9d",
   "metadata": {
    "id": "6uZLUyP6TCfA"
   },
   "source": [
    "**중복데이터 제거**"
   ]
  },
  {
   "cell_type": "code",
   "execution_count": 7,
   "id": "75df5545-84a6-407f-8428-0e2e7690bd2a",
   "metadata": {
    "tags": []
   },
   "outputs": [],
   "source": [
    "train_data = train_data.drop_duplicates()"
   ]
  },
  {
   "cell_type": "markdown",
   "id": "71791a14-5f3d-4444-95a0-85ee6ca37c40",
   "metadata": {
    "id": "KTHmrYsuTTLf"
   },
   "source": [
    "**target, data 설정**"
   ]
  },
  {
   "cell_type": "code",
   "execution_count": 8,
   "id": "b6cddce1-8125-4f8d-941f-c7832c106bc0",
   "metadata": {
    "id": "_Uoeuzt4_lD1"
   },
   "outputs": [],
   "source": [
    "target = train_data['Delay'].astype(int)\n",
    "data = train_data.drop('Delay', axis=1)"
   ]
  },
  {
   "cell_type": "markdown",
   "id": "d23c21de-eee6-4308-ac54-040e359e96fb",
   "metadata": {
    "id": "UyHyRJXqSrx4",
    "tags": []
   },
   "source": [
    "# RF"
   ]
  },
  {
   "cell_type": "markdown",
   "id": "260007e2-b3c0-4d5a-8211-7b9664012660",
   "metadata": {
    "id": "v43RkfzFTqpH"
   },
   "source": [
    "**데이터분리, 랜덤 포레스트**"
   ]
  },
  {
   "cell_type": "code",
   "execution_count": 9,
   "id": "cf7d285d-7248-4153-af93-861ccd22b6ce",
   "metadata": {
    "tags": []
   },
   "outputs": [],
   "source": [
    "from sklearn.model_selection import GridSearchCV\n",
    "from sklearn.preprocessing import StandardScaler\n",
    "from sklearn.ensemble import RandomForestClassifier"
   ]
  },
  {
   "cell_type": "code",
   "execution_count": 10,
   "id": "551005aa-8300-4cd5-ba50-009a59e82023",
   "metadata": {
    "tags": []
   },
   "outputs": [],
   "source": [
    "scaler = StandardScaler()\n",
    "data = scaler.fit_transform(data)"
   ]
  },
  {
   "cell_type": "code",
   "execution_count": 11,
   "id": "8338b3d3-7cf7-417d-811d-782def13a6d6",
   "metadata": {
    "tags": []
   },
   "outputs": [],
   "source": [
    "test_data = scaler.transform(test_data)"
   ]
  },
  {
   "cell_type": "code",
   "execution_count": 12,
   "id": "8630e37c-9959-4293-85ba-5b74bcf15a30",
   "metadata": {
    "id": "riAMjOCTQrES"
   },
   "outputs": [],
   "source": [
    "from sklearn.model_selection import train_test_split\n",
    "\n",
    "Xtrain,Xtest,Ytrain,Ytest = train_test_split(data,target,test_size=0.2,random_state=42)"
   ]
  },
  {
   "cell_type": "markdown",
   "id": "ba1d4add-755e-40c6-a179-ca0bcec4ec5c",
   "metadata": {
    "id": "95Datb_QOoEK",
    "tags": []
   },
   "source": [
    "## 여기까지"
   ]
  },
  {
   "cell_type": "code",
   "execution_count": 201,
   "id": "dc9c0478-10cd-453a-8b02-275204035ba9",
   "metadata": {
    "tags": []
   },
   "outputs": [],
   "source": [
    "param = {\n",
    "    'n_estimators' : [10, 20, 30],\n",
    "    'max_depth' :[3,5,10]\n",
    "}"
   ]
  },
  {
   "cell_type": "code",
   "execution_count": 202,
   "id": "a13e946e-825e-462c-a874-99828dbf69d2",
   "metadata": {
    "tags": []
   },
   "outputs": [],
   "source": [
    "rf = RandomForestClassifier()"
   ]
  },
  {
   "cell_type": "code",
   "execution_count": null,
   "id": "64b87374-9b54-41f7-b9e9-bf9657fb34f0",
   "metadata": {
    "tags": []
   },
   "outputs": [],
   "source": [
    "grid_rf = GridSearchCV(rf,param)\n",
    "grid_rf.fit(data,target)\n",
    "grid_rf.best_params_"
   ]
  },
  {
   "cell_type": "code",
   "execution_count": 283,
   "id": "437bf597-9fa1-430b-8b58-1a5e5198b467",
   "metadata": {
    "id": "tzxV2xiinnFQ"
   },
   "outputs": [],
   "source": [
    "rf = RandomForestClassifier(n_estimators = 30, max_depth =8)"
   ]
  },
  {
   "cell_type": "code",
   "execution_count": null,
   "id": "535ca532-9734-4709-a9dd-d4ac8eab35e8",
   "metadata": {
    "colab": {
     "background_save": true
    },
    "id": "I3dgQndZnnFR",
    "outputId": "02c49f96-ad80-487f-9e64-bae470c740a6"
   },
   "outputs": [],
   "source": [
    "rf.fit(Xtrain,Ytrain)\n",
    "rf.score(Xtrain,Ytrain)"
   ]
  },
  {
   "cell_type": "code",
   "execution_count": 286,
   "id": "63148b87-2c1a-4aa8-87e9-91bfb5e87756",
   "metadata": {
    "colab": {
     "background_save": true
    },
    "id": "RxZl61fNnnFV",
    "outputId": "8c76950e-43e8-4979-db74-e27abfab2d2b"
   },
   "outputs": [
    {
     "data": {
      "text/plain": [
       "0.8254027504911592"
      ]
     },
     "execution_count": 286,
     "metadata": {},
     "output_type": "execute_result"
    }
   ],
   "source": [
    "rf.score(Xtest,Ytest)"
   ]
  },
  {
   "cell_type": "code",
   "execution_count": 287,
   "id": "32449d7c-4fe2-4f3a-b36a-727e9a4783ba",
   "metadata": {
    "colab": {
     "background_save": true
    },
    "id": "QhB8qk8VnnFW"
   },
   "outputs": [],
   "source": [
    "from sklearn.metrics import *"
   ]
  },
  {
   "cell_type": "code",
   "execution_count": 288,
   "id": "43c1cee1-3b65-4e37-84f2-fea7df018820",
   "metadata": {
    "colab": {
     "background_save": true
    },
    "id": "1T81fxTcnnFX",
    "outputId": "308252ec-add4-4900-c966-3f12003cb241"
   },
   "outputs": [
    {
     "data": {
      "text/plain": [
       "(50900,)"
      ]
     },
     "execution_count": 288,
     "metadata": {},
     "output_type": "execute_result"
    }
   ],
   "source": [
    "rf.predict_proba(Xtest)[:,1].shape"
   ]
  },
  {
   "cell_type": "code",
   "execution_count": 221,
   "id": "cd10b320-3077-4a7f-877e-113b94947171",
   "metadata": {
    "id": "Bk1vB4jCnnFx"
   },
   "outputs": [
    {
     "name": "stderr",
     "output_type": "stream",
     "text": [
      "d:\\dcon\\lib\\site-packages\\sklearn\\base.py:432: UserWarning: X has feature names, but RandomForestClassifier was fitted without feature names\n",
      "  warnings.warn(\n"
     ]
    }
   ],
   "source": [
    "y_pred = rf.predict_proba(test_data)"
   ]
  },
  {
   "cell_type": "markdown",
   "id": "c9cecb94-c51f-4333-a5a3-bd490f2db8b2",
   "metadata": {},
   "source": [
    "# DNN"
   ]
  },
  {
   "cell_type": "code",
   "execution_count": 13,
   "id": "54387fd5-6915-4ed4-8801-56ac6eced6b4",
   "metadata": {
    "tags": []
   },
   "outputs": [],
   "source": [
    "import torch\n",
    "import torch.nn as nn"
   ]
  },
  {
   "cell_type": "code",
   "execution_count": 89,
   "id": "4e7d0c8b-33cf-4383-b738-1955ec742198",
   "metadata": {
    "tags": []
   },
   "outputs": [],
   "source": [
    "class model(nn.Module):\n",
    "    def __init__(self):\n",
    "        super().__init__()\n",
    "        self.dense_net = nn.Sequential(\n",
    "            nn.Linear(10,1024),\n",
    "            nn.BatchNorm1d(1024),\n",
    "            nn.ReLU(),\n",
    "            nn.Dropout(.5),\n",
    "            nn.Linear(1024, 1024),\n",
    "            nn.BatchNorm1d(1024),\n",
    "            nn.ReLU(),\n",
    "            nn.Dropout(.5),\n",
    "            nn.Linear(1024, 1024),\n",
    "            nn.BatchNorm1d(1024),\n",
    "            nn.ReLU(),\n",
    "            nn.Dropout(.5),\n",
    "            nn.Linear(1024, 1024),\n",
    "            nn.BatchNorm1d(1024),\n",
    "            nn.ReLU(),\n",
    "            nn.Dropout(.5),\n",
    "            nn.Linear(1024, 1024),\n",
    "            nn.BatchNorm1d(1024),\n",
    "            nn.ReLU(),\n",
    "            nn.Dropout(.5),\n",
    "            nn.Linear(1024, 512),\n",
    "            nn.BatchNorm1d(512),\n",
    "            nn.ReLU(),\n",
    "            nn.Dropout(.5),\n",
    "            nn.Linear(512,1)\n",
    "        )\n",
    "        \n",
    "    def forward(self, x):\n",
    "        return self.dense_net(x)"
   ]
  },
  {
   "cell_type": "code",
   "execution_count": 90,
   "id": "2140bc3f-6b58-42c2-b7f5-cf8d3ae9f70a",
   "metadata": {
    "tags": []
   },
   "outputs": [
    {
     "data": {
      "text/plain": [
       "0.17671975135462223"
      ]
     },
     "execution_count": 90,
     "metadata": {},
     "output_type": "execute_result"
    }
   ],
   "source": [
    "target.sum()/ len(target)"
   ]
  },
  {
   "cell_type": "code",
   "execution_count": 91,
   "id": "33994196-98ad-4ef1-bc37-18741f2a1d95",
   "metadata": {
    "tags": []
   },
   "outputs": [
    {
     "data": {
      "text/plain": [
       "tensor(4.6587, dtype=torch.float64)"
      ]
     },
     "execution_count": 91,
     "metadata": {},
     "output_type": "execute_result"
    }
   ],
   "source": [
    "num_positives = target.sum()\n",
    "num_negatives = len(target) - num_positives\n",
    "pos_weight  = torch.tensor(num_negatives / num_positives)\n",
    "pos_weight"
   ]
  },
  {
   "cell_type": "code",
   "execution_count": 92,
   "id": "6ceae3ae-0f24-4a88-a079-654c294dd11f",
   "metadata": {
    "tags": []
   },
   "outputs": [],
   "source": [
    "DNN = model().cuda()\n",
    "optimizer = torch.optim.Adam(lr=5e-3,params=DNN.parameters())\n",
    "loss = torch.nn.BCEWithLogitsLoss(pos_weight=pos_weight)"
   ]
  },
  {
   "cell_type": "code",
   "execution_count": 93,
   "id": "67bd17ef-2cfc-42e8-ab11-ec3a89a672d0",
   "metadata": {
    "tags": []
   },
   "outputs": [],
   "source": [
    "train_loss = []\n",
    "val_loss = []"
   ]
  },
  {
   "cell_type": "code",
   "execution_count": 94,
   "id": "4666b732-f7cc-463e-b46c-ee51df43865e",
   "metadata": {
    "tags": []
   },
   "outputs": [],
   "source": [
    "from torch.utils.data import Dataset, DataLoader"
   ]
  },
  {
   "cell_type": "code",
   "execution_count": 95,
   "id": "71be9cd6-53d2-450b-b0a3-c32d29d10f56",
   "metadata": {
    "tags": []
   },
   "outputs": [],
   "source": [
    "class dataset(Dataset):\n",
    "    def __init__(self, train=True):\n",
    "        if train :\n",
    "            self.x = torch.tensor(Xtrain).float()\n",
    "            self.y = torch.tensor(Ytrain.to_numpy()).unsqueeze(1).float()\n",
    "        else:\n",
    "            self.x = torch.tensor(Xtest).float()\n",
    "            self.y = torch.tensor(Ytest.to_numpy()).unsqueeze(1).float()\n",
    "    def __len__(self):\n",
    "        return len(self.x)\n",
    "    def __getitem__(self, idx):\n",
    "        return self.x[idx], self.y[idx]"
   ]
  },
  {
   "cell_type": "code",
   "execution_count": 96,
   "id": "1f94768e-bfa3-4aba-a613-a1c06b4206f0",
   "metadata": {
    "tags": []
   },
   "outputs": [],
   "source": [
    "train_data_loader = DataLoader(dataset(True),batch_size=1024*10,shuffle=True)\n",
    "test_data_loader = DataLoader(dataset(False),batch_size=1024*10)"
   ]
  },
  {
   "cell_type": "code",
   "execution_count": 97,
   "id": "4562784f-571c-4cc4-b4bf-2cf1837124f9",
   "metadata": {
    "scrolled": true,
    "tags": []
   },
   "outputs": [
    {
     "name": "stdout",
     "output_type": "stream",
     "text": [
      "epoch : 0 train_loss : 1.2429 val_loss : 1.2233 es: 0\n",
      "epoch : 1 train_loss : 1.1173 val_loss : 1.1041 es: 0\n",
      "epoch : 2 train_loss : 1.1109 val_loss : 1.0985 es: 0\n",
      "epoch : 3 train_loss : 1.1092 val_loss : 1.0982 es: 0\n",
      "epoch : 4 train_loss : 1.1072 val_loss : 1.0965 es: 0\n",
      "epoch : 5 train_loss : 1.1067 val_loss : 1.0961 es: 0\n",
      "epoch : 6 train_loss : 1.1059 val_loss : 1.0980 es: 1\n",
      "epoch : 7 train_loss : 1.1053 val_loss : 1.0953 es: 0\n",
      "epoch : 8 train_loss : 1.1029 val_loss : 1.0931 es: 0\n",
      "epoch : 9 train_loss : 1.1031 val_loss : 1.0947 es: 1\n",
      "epoch : 10 train_loss : 1.1021 val_loss : 1.0921 es: 0\n",
      "epoch : 11 train_loss : 1.1021 val_loss : 1.0932 es: 1\n",
      "epoch : 12 train_loss : 1.1016 val_loss : 1.0924 es: 2\n",
      "epoch : 13 train_loss : 1.1018 val_loss : 1.0911 es: 0\n",
      "epoch : 14 train_loss : 1.1001 val_loss : 1.0911 es: 0\n",
      "epoch : 15 train_loss : 1.1001 val_loss : 1.0918 es: 1\n",
      "epoch : 16 train_loss : 1.0997 val_loss : 1.0909 es: 0\n",
      "epoch : 17 train_loss : 1.0993 val_loss : 1.0899 es: 0\n",
      "epoch : 18 train_loss : 1.0981 val_loss : 1.0882 es: 0\n",
      "epoch : 19 train_loss : 1.0975 val_loss : 1.0884 es: 1\n",
      "epoch : 20 train_loss : 1.0976 val_loss : 1.0876 es: 0\n",
      "epoch : 21 train_loss : 1.0977 val_loss : 1.0900 es: 1\n",
      "epoch : 22 train_loss : 1.0977 val_loss : 1.0896 es: 2\n",
      "epoch : 23 train_loss : 1.0969 val_loss : 1.0868 es: 0\n",
      "epoch : 24 train_loss : 1.0951 val_loss : 1.0864 es: 0\n",
      "epoch : 25 train_loss : 1.0970 val_loss : 1.0874 es: 1\n",
      "epoch : 26 train_loss : 1.0959 val_loss : 1.0867 es: 2\n",
      "epoch : 27 train_loss : 1.0952 val_loss : 1.0856 es: 0\n",
      "epoch : 28 train_loss : 1.0933 val_loss : 1.0859 es: 1\n",
      "epoch : 29 train_loss : 1.0946 val_loss : 1.0878 es: 2\n",
      "epoch : 30 train_loss : 1.0940 val_loss : 1.0860 es: 3\n",
      "epoch : 31 train_loss : 1.0938 val_loss : 1.0852 es: 0\n",
      "epoch : 32 train_loss : 1.0935 val_loss : 1.0860 es: 1\n",
      "epoch : 33 train_loss : 1.0935 val_loss : 1.0862 es: 2\n",
      "epoch : 34 train_loss : 1.0922 val_loss : 1.0847 es: 0\n",
      "epoch : 35 train_loss : 1.0928 val_loss : 1.0856 es: 1\n",
      "epoch : 36 train_loss : 1.0917 val_loss : 1.0848 es: 2\n",
      "epoch : 37 train_loss : 1.0923 val_loss : 1.0859 es: 3\n",
      "epoch : 38 train_loss : 1.0918 val_loss : 1.0851 es: 4\n",
      "epoch : 39 train_loss : 1.0918 val_loss : 1.0864 es: 5\n",
      "epoch : 40 train_loss : 1.0914 val_loss : 1.0846 es: 0\n",
      "epoch : 41 train_loss : 1.0917 val_loss : 1.0842 es: 0\n",
      "epoch : 42 train_loss : 1.0914 val_loss : 1.0851 es: 1\n",
      "epoch : 43 train_loss : 1.0909 val_loss : 1.0840 es: 0\n",
      "epoch : 44 train_loss : 1.0915 val_loss : 1.0862 es: 1\n",
      "epoch : 45 train_loss : 1.0902 val_loss : 1.0848 es: 2\n",
      "epoch : 46 train_loss : 1.0892 val_loss : 1.0839 es: 0\n",
      "epoch : 47 train_loss : 1.0896 val_loss : 1.0848 es: 1\n",
      "epoch : 48 train_loss : 1.0891 val_loss : 1.0846 es: 2\n",
      "epoch : 49 train_loss : 1.0899 val_loss : 1.0840 es: 3\n",
      "epoch : 50 train_loss : 1.0891 val_loss : 1.0839 es: 0\n",
      "epoch : 51 train_loss : 1.0882 val_loss : 1.0863 es: 1\n",
      "epoch : 52 train_loss : 1.0878 val_loss : 1.0835 es: 0\n",
      "epoch : 53 train_loss : 1.0883 val_loss : 1.0835 es: 1\n",
      "epoch : 54 train_loss : 1.0873 val_loss : 1.0850 es: 2\n",
      "epoch : 55 train_loss : 1.0871 val_loss : 1.0835 es: 0\n",
      "epoch : 56 train_loss : 1.0881 val_loss : 1.0832 es: 0\n",
      "epoch : 57 train_loss : 1.0869 val_loss : 1.0839 es: 1\n",
      "epoch : 58 train_loss : 1.0876 val_loss : 1.0864 es: 2\n",
      "epoch : 59 train_loss : 1.0855 val_loss : 1.0836 es: 3\n",
      "epoch : 60 train_loss : 1.0859 val_loss : 1.0832 es: 0\n",
      "epoch : 61 train_loss : 1.0861 val_loss : 1.0836 es: 1\n",
      "epoch : 62 train_loss : 1.0849 val_loss : 1.0848 es: 2\n",
      "epoch : 63 train_loss : 1.0845 val_loss : 1.0832 es: 3\n",
      "epoch : 64 train_loss : 1.0854 val_loss : 1.0851 es: 4\n",
      "epoch : 65 train_loss : 1.0853 val_loss : 1.0835 es: 5\n",
      "epoch : 66 train_loss : 1.0847 val_loss : 1.0841 es: 6\n",
      "epoch : 67 train_loss : 1.0845 val_loss : 1.0838 es: 7\n",
      "epoch : 68 train_loss : 1.0845 val_loss : 1.0835 es: 8\n",
      "epoch : 69 train_loss : 1.0837 val_loss : 1.0843 es: 9\n",
      "epoch : 70 train_loss : 1.0828 val_loss : 1.0841 es: 10\n",
      "epoch : 71 train_loss : 1.0841 val_loss : 1.0849 es: 11\n"
     ]
    },
    {
     "data": {
      "text/plain": [
       "<All keys matched successfully>"
      ]
     },
     "execution_count": 97,
     "metadata": {},
     "output_type": "execute_result"
    }
   ],
   "source": [
    "\n",
    "min_loss = 100\n",
    "es = 0\n",
    "for epoch in range(300):\n",
    "    \n",
    "    DNN.train()\n",
    "    t_l = 0\n",
    "    i = 0\n",
    "    for x, y in train_data_loader:\n",
    "        y_pred = DNN(x.cuda())\n",
    "        l = loss(y_pred,y.cuda())\n",
    "        i += 1\n",
    "        t_l += l.data.item()\n",
    "        optimizer.zero_grad()\n",
    "        l.backward()\n",
    "        optimizer.step()\n",
    "    train_loss.append(t_l/i)\n",
    "    DNN.eval()\n",
    "    v_l = 0\n",
    "    i = 0\n",
    "    with torch.no_grad():\n",
    "        for x, y in test_data_loader:\n",
    "            y_pred = DNN(x.cuda())\n",
    "            l2 = loss(y_pred,y.cuda())\n",
    "            v_l += l2.data.item()\n",
    "            i+=1\n",
    "\n",
    "    val_loss.append(v_l/i)\n",
    "    es += 1\n",
    "    if val_loss[-1] < min_loss:\n",
    "        min_loss = val_loss[-1]\n",
    "        es = 0\n",
    "        torch.save(DNN.state_dict(), \"./model/DNN\")\n",
    "    print(f'epoch : {epoch} train_loss : {train_loss[-1]:.4f} val_loss : {val_loss[-1]:.4f} es: {es}')\n",
    "    if es > 10:\n",
    "        break\n",
    "DNN.load_state_dict(torch.load(\"./model/DNN\"))\n"
   ]
  },
  {
   "cell_type": "code",
   "execution_count": 98,
   "id": "2334bb61-bc24-4f66-bad4-04cce6f5568b",
   "metadata": {
    "tags": []
   },
   "outputs": [],
   "source": [
    "torch.cuda.empty_cache()"
   ]
  },
  {
   "cell_type": "code",
   "execution_count": 99,
   "id": "cd1c810c-ad4e-4e65-a63d-9238b0b63307",
   "metadata": {
    "tags": []
   },
   "outputs": [
    {
     "data": {
      "text/plain": [
       "[<matplotlib.lines.Line2D at 0x1b1804f6e20>]"
      ]
     },
     "execution_count": 99,
     "metadata": {},
     "output_type": "execute_result"
    },
    {
     "data": {
      "image/png": "[encoded data removed]",
      "text/plain": [
       "<Figure size 640x480 with 1 Axes>"
      ]
     },
     "metadata": {},
     "output_type": "display_data"
    }
   ],
   "source": [
    "# plt.ylim(0.44,0.5)\n",
    "plt.plot(train_loss)\n",
    "plt.plot(val_loss)"
   ]
  },
  {
   "cell_type": "code",
   "execution_count": 100,
   "id": "8c956400-5dd6-4f0f-ae40-d92e62bec1ef",
   "metadata": {
    "tags": []
   },
   "outputs": [],
   "source": [
    "testx = torch.tensor(test_data).float()"
   ]
  },
  {
   "cell_type": "code",
   "execution_count": 101,
   "id": "1c88326a-0a3e-41f3-a8b7-028eb732cbfb",
   "metadata": {
    "tags": []
   },
   "outputs": [],
   "source": [
    "DNN.eval()\n",
    "DNN = DNN.cpu()\n",
    "with torch.no_grad():\n",
    "    y_pred = DNN(testx)"
   ]
  },
  {
   "cell_type": "code",
   "execution_count": 102,
   "id": "8fa29d02-594b-43ff-96b1-52b4e42c4025",
   "metadata": {
    "tags": []
   },
   "outputs": [],
   "source": [
    "y_pred = nn.Sigmoid()(y_pred.detach())"
   ]
  },
  {
   "cell_type": "code",
   "execution_count": 103,
   "id": "68fcfe5e-e38d-4e32-a137-88572d72cd9e",
   "metadata": {
    "tags": []
   },
   "outputs": [],
   "source": [
    "y_pred_0 = 1 - y_pred"
   ]
  },
  {
   "cell_type": "code",
   "execution_count": 104,
   "id": "159a96df-fd2c-4808-aaac-20ffcc688a3d",
   "metadata": {
    "tags": []
   },
   "outputs": [],
   "source": [
    "y_pred = torch.concat([y_pred_0,y_pred],dim=1)"
   ]
  },
  {
   "cell_type": "markdown",
   "id": "6e798892-ccb7-4079-a37a-5a4f1bb36bdb",
   "metadata": {
    "id": "UyHyRJXqSrx4",
    "tags": []
   },
   "source": [
    "# Submission "
   ]
  },
  {
   "cell_type": "code",
   "execution_count": 105,
   "id": "53b2fd74-f8e6-4b21-ba05-cb624b0202b3",
   "metadata": {
    "tags": []
   },
   "outputs": [],
   "source": [
    "sample_submission = pd.read_csv('./sample_submission.csv', index_col=0)"
   ]
  },
  {
   "cell_type": "code",
   "execution_count": 106,
   "id": "194baefb-32ff-401f-ac9f-546e6d1edc54",
   "metadata": {
    "colab": {
     "background_save": true
    },
    "id": "ohzeeloHnnFz"
   },
   "outputs": [],
   "source": [
    "submission = pd.DataFrame(data=y_pred, columns=sample_submission.columns, index=sample_submission.index)"
   ]
  },
  {
   "cell_type": "code",
   "execution_count": 107,
   "id": "e9dd7756-9543-4476-b7fd-94b51bda28d5",
   "metadata": {
    "colab": {
     "background_save": true
    },
    "id": "Geuimvtvq9F4",
    "outputId": "27d423c0-2334-48b6-b76c-edfa1101f1f9"
   },
   "outputs": [
    {
     "data": {
      "text/html": [
       "<div>\n",
       "<style scoped>\n",
       "    .dataframe tbody tr th:only-of-type {\n",
       "        vertical-align: middle;\n",
       "    }\n",
       "\n",
       "    .dataframe tbody tr th {\n",
       "        vertical-align: top;\n",
       "    }\n",
       "\n",
       "    .dataframe thead th {\n",
       "        text-align: right;\n",
       "    }\n",
       "</style>\n",
       "<table border=\"1\" class=\"dataframe\">\n",
       "  <thead>\n",
       "    <tr style=\"text-align: right;\">\n",
       "      <th></th>\n",
       "      <th>Not_Delayed</th>\n",
       "      <th>Delayed</th>\n",
       "    </tr>\n",
       "    <tr>\n",
       "      <th>ID</th>\n",
       "      <th></th>\n",
       "      <th></th>\n",
       "    </tr>\n",
       "  </thead>\n",
       "  <tbody>\n",
       "    <tr>\n",
       "      <th>TEST_000000</th>\n",
       "      <td>0.555514</td>\n",
       "      <td>0.444486</td>\n",
       "    </tr>\n",
       "    <tr>\n",
       "      <th>TEST_000001</th>\n",
       "      <td>0.369453</td>\n",
       "      <td>0.630547</td>\n",
       "    </tr>\n",
       "    <tr>\n",
       "      <th>TEST_000002</th>\n",
       "      <td>0.512196</td>\n",
       "      <td>0.487804</td>\n",
       "    </tr>\n",
       "    <tr>\n",
       "      <th>TEST_000003</th>\n",
       "      <td>0.275354</td>\n",
       "      <td>0.724646</td>\n",
       "    </tr>\n",
       "    <tr>\n",
       "      <th>TEST_000004</th>\n",
       "      <td>0.276406</td>\n",
       "      <td>0.723594</td>\n",
       "    </tr>\n",
       "    <tr>\n",
       "      <th>...</th>\n",
       "      <td>...</td>\n",
       "      <td>...</td>\n",
       "    </tr>\n",
       "    <tr>\n",
       "      <th>TEST_999995</th>\n",
       "      <td>0.232828</td>\n",
       "      <td>0.767172</td>\n",
       "    </tr>\n",
       "    <tr>\n",
       "      <th>TEST_999996</th>\n",
       "      <td>0.692531</td>\n",
       "      <td>0.307470</td>\n",
       "    </tr>\n",
       "    <tr>\n",
       "      <th>TEST_999997</th>\n",
       "      <td>0.294842</td>\n",
       "      <td>0.705158</td>\n",
       "    </tr>\n",
       "    <tr>\n",
       "      <th>TEST_999998</th>\n",
       "      <td>0.487189</td>\n",
       "      <td>0.512811</td>\n",
       "    </tr>\n",
       "    <tr>\n",
       "      <th>TEST_999999</th>\n",
       "      <td>0.599031</td>\n",
       "      <td>0.400969</td>\n",
       "    </tr>\n",
       "  </tbody>\n",
       "</table>\n",
       "<p>1000000 rows × 2 columns</p>\n",
       "</div>"
      ],
      "text/plain": [
       "             Not_Delayed   Delayed\n",
       "ID                                \n",
       "TEST_000000     0.555514  0.444486\n",
       "TEST_000001     0.369453  0.630547\n",
       "TEST_000002     0.512196  0.487804\n",
       "TEST_000003     0.275354  0.724646\n",
       "TEST_000004     0.276406  0.723594\n",
       "...                  ...       ...\n",
       "TEST_999995     0.232828  0.767172\n",
       "TEST_999996     0.692531  0.307470\n",
       "TEST_999997     0.294842  0.705158\n",
       "TEST_999998     0.487189  0.512811\n",
       "TEST_999999     0.599031  0.400969\n",
       "\n",
       "[1000000 rows x 2 columns]"
      ]
     },
     "execution_count": 107,
     "metadata": {},
     "output_type": "execute_result"
    }
   ],
   "source": [
    "submission"
   ]
  },
  {
   "cell_type": "code",
   "execution_count": 109,
   "id": "af97212e-baf7-4fcb-8c4c-b4275f600d27",
   "metadata": {
    "id": "PcPwbGD088cc",
    "tags": []
   },
   "outputs": [],
   "source": [
    "submission.to_csv('230505_5.csv', index=True)"
   ]
  },
  {
   "cell_type": "code",
   "execution_count": null,
   "id": "96a0f05e-77a2-4b90-ab3f-e65f39a85584",
   "metadata": {},
   "outputs": [],
   "source": []
  }
 ],
 "metadata": {
  "kernelspec": {
   "display_name": "Python 3 (ipykernel)",
   "language": "python",
   "name": "python3"
  },
  "language_info": {
   "codemirror_mode": {
    "name": "ipython",
    "version": 3
   },
   "file_extension": ".py",
   "mimetype": "text/x-python",
   "name": "python",
   "nbconvert_exporter": "python",
   "pygments_lexer": "ipython3",
   "version": "3.8.7"
  }
 },
 "nbformat": 4,
 "nbformat_minor": 5
}
